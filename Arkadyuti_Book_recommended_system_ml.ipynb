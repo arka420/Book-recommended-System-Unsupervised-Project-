{
  "nbformat": 4,
  "nbformat_minor": 0,
  "metadata": {
    "colab": {
      "private_outputs": true,
      "provenance": [],
      "collapsed_sections": [
        "FJNUwmbgGyua",
        "3RnN4peoiCZX",
        "AI8kmb0pykHF",
        "SblhF5ButDC1"
      ],
      "include_colab_link": true
    },
    "kernelspec": {
      "name": "python3",
      "display_name": "Python 3"
    },
    "language_info": {
      "name": "python"
    }
  },
  "cells": [
    {
      "cell_type": "markdown",
      "metadata": {
        "id": "view-in-github",
        "colab_type": "text"
      },
      "source": [
        "<a href=\"https://colab.research.google.com/github/arka420/Book-recommended-System-Unsupervised-Project-/blob/main/Arkadyuti_Book_recommended_system_ml.ipynb\" target=\"_parent\"><img src=\"https://colab.research.google.com/assets/colab-badge.svg\" alt=\"Open In Colab\"/></a>"
      ]
    },
    {
      "cell_type": "markdown",
      "source": [
        "# **Project Name**    -  **Book Recommendation System**\n",
        "\n"
      ],
      "metadata": {
        "id": "vncDsAP0Gaoa"
      }
    },
    {
      "cell_type": "markdown",
      "source": [
        "<html>\n",
        "    <img src=\"https://th.bing.com/th/id/R.787b8c1151951ab025c9adbd3fc5e05e?rik=1FYjfosgMeRZpg&riu=http%3a%2f%2fyesofcorsa.com%2fwp-content%2fuploads%2f2017%2f05%2fBookshelves-Wallpaper.jpg&ehk=Yj%2fvhKenZjjh%2be5uFiYBSshXEKT7%2bOAGDrlaGFN6FeI%3d&risl=&pid=ImgRaw&r=0\" width=\"1000\" height=\"400\">\n",
        "</html>"
      ],
      "metadata": {
        "id": "Iei_fNPh7UjQ"
      }
    },
    {
      "cell_type": "markdown",
      "source": [
        "##### **Project Type**    - Unsupervised\n",
        "##### **Contribution**    - Individual(Arkadyuti Dhara)\n"
      ],
      "metadata": {
        "id": "beRrZCGUAJYm"
      }
    },
    {
      "cell_type": "markdown",
      "source": [
        "# **GitHub Link -**"
      ],
      "metadata": {
        "id": "w6K7xa23Elo4"
      }
    },
    {
      "cell_type": "markdown",
      "source": [
        "\n",
        "[Github-link](https://github.com/arka420/Book-recommended-System-Unsupervised-Project-.git)"
      ],
      "metadata": {
        "id": "9VDw5Qc0cas-"
      }
    },
    {
      "cell_type": "markdown",
      "source": [
        "# **Project Summary -**"
      ],
      "metadata": {
        "id": "KTCJ2Obd5FcR"
      }
    },
    {
      "cell_type": "markdown",
      "source": [
        "This project aimed to develop a book recommendation system using unsupervised learning techniques on the Book Crossing dataset. It involved thorough data exploration, cleaning, and visualization to understand relationships between variables. Recommender systems, including popularity-based filtering, correlation-based recommendations, and collaborative filtering (both Item-User and k-nearest neighbors), were implemented. The project showcased the potential of these techniques in generating personalized book recommendations for users based on a dataset comprising books, users, and ratings. Data wrangling and visualization played crucial roles in enhancing the system's effectiveness."
      ],
      "metadata": {
        "id": "IEMsQvXL5H7K"
      }
    },
    {
      "cell_type": "markdown",
      "source": [
        "#**Problem Statement**"
      ],
      "metadata": {
        "id": "FJNUwmbgGyua"
      }
    },
    {
      "cell_type": "markdown",
      "source": [
        "This project focuses on developing a book recommendation system in response to the growing importance of recommender systems in online platforms. These systems, widely used by services like YouTube, Amazon, and Netflix, offer personalized suggestions, enhancing user experiences in various domains. The primary goal is to create a book recommendation system using K-NN (K-Nearest Neighbors), Cosine Distance, and Cosine Similarity. This system aims to efficiently recommend books based on user ratings and interests, providing personalized suggestions aligned with individual preferences. The project recognizes the pivotal role recommender systems play in revenue generation and business differentiation, emphasizing their significance in today's digital landscape."
      ],
      "metadata": {
        "id": "5I2fhAx62P-9"
      }
    },
    {
      "cell_type": "markdown",
      "source": [
        "# **General Guidelines** : -  "
      ],
      "metadata": {
        "id": "kvfzjd_JlFRE"
      }
    },
    {
      "cell_type": "markdown",
      "source": [
        "1.   Well-structured, formatted, and commented code is required.\n",
        "2.   Exception Handling, Production Grade Code & Deployment Ready Code will be a plus. Those students will be awarded some additional credits.\n",
        "     \n",
        "     The additional credits will have advantages over other students during Star Student selection.\n",
        "       \n",
        "             [ Note: - Deployment Ready Code is defined as, the whole .ipynb notebook should be executable in one go\n",
        "                       without a single error logged. ]\n",
        "\n",
        "3.   Each and every logic should have proper comments.\n",
        "4. You may add as many number of charts you want. Make Sure for each and every chart the following format should be answered.\n",
        "        \n",
        "\n",
        "```\n",
        "# Chart visualization code\n",
        "```\n",
        "            \n",
        "\n",
        "*   Why did you pick the specific chart?\n",
        "*   What is/are the insight(s) found from the chart?\n",
        "* Will the gained insights help creating a positive business impact?\n",
        "Are there any insights that lead to negative growth? Justify with specific reason.\n",
        "\n",
        "5. You have to create at least 15 logical & meaningful charts having important insights.\n",
        "\n",
        "\n",
        "[ Hints : - Do the Vizualization in  a structured way while following \"UBM\" Rule.\n",
        "\n",
        "U - Univariate Analysis,\n",
        "\n",
        "B - Bivariate Analysis (Numerical - Categorical, Numerical - Numerical, Categorical - Categorical)\n",
        "\n",
        "M - Multivariate Analysis\n",
        " ]\n",
        "\n",
        "\n",
        "\n",
        "\n",
        "\n",
        "6. You may add more ml algorithms for model creation. Make sure for each and every algorithm, the following format should be answered.\n",
        "\n",
        "\n",
        "*   Explain the ML Model used and it's performance using Evaluation metric Score Chart.\n",
        "\n",
        "\n",
        "*   Cross- Validation & Hyperparameter Tuning\n",
        "\n",
        "*   Have you seen any improvement? Note down the improvement with updates Evaluation metric Score Chart.\n",
        "\n",
        "*   Explain each evaluation metric's indication towards business and the business impact pf the ML model used.\n",
        "\n",
        "\n",
        "\n",
        "\n",
        "\n",
        "\n",
        "\n",
        "\n",
        "\n",
        "\n",
        "\n",
        "\n",
        "\n",
        "\n",
        "\n",
        "\n",
        "\n",
        "\n"
      ],
      "metadata": {
        "id": "dcl67mUtlP3H"
      }
    },
    {
      "cell_type": "markdown",
      "source": [
        "**In a book recommendation system project with datasets containing information on books, ratings, and users.**\n",
        "\n",
        "**Books Dataset:**\n",
        "\n",
        "1. **ISBN (International Standard Book Number)**: A unique identifier for each book.\n",
        "2. **Book-Title**: The title of the book.\n",
        "3. **Book-Author**: The author of the book. In some datasets, multiple authors may be listed.\n",
        "4. **Year-Of-Publication**: The year when the book was published.\n",
        "5. **Publisher**: The publishing company responsible for the book.\n",
        "6. **Image-URL-S, Image-URL-M, Image-URL-L**: URLs pointing to different sizes of cover images for the book.\n",
        "\n",
        "\n",
        "**Ratings Dataset:**\n",
        "\n",
        "1. **User-ID**: A unique identifier for each user, which may be anonymized.\n",
        "2. **ISBN**: The ISBN of the book that the user has rated.\n",
        "3. **Book-Rating**: The rating assigned by the user to the book. Ratings are typically on a scale from 1 to 10, with higher values indicating higher appreciation. Some ratings may be implicit and denoted as 0.\n",
        "\n",
        "**Users Dataset:**\n",
        "\n",
        "1. **User-ID**: A unique identifier for each user, corresponding to the User-ID in the ratings dataset.\n",
        "2. **Location**: The location or geographical information of the user, if available.\n",
        "3. **Age**: The age of the user, if available. In some datasets, age may be represented with a range or as NULL for missing data.\n",
        "\n",
        "\n",
        "In a book recommendation system project, these datasets and their columns are essential for building and evaluating recommendation algorithms. The goal is to use user ratings and other information to provide personalized book recommendations to users based on their preferences and behavior."
      ],
      "metadata": {
        "id": "ZwAmy3wj4Njk"
      }
    },
    {
      "cell_type": "markdown",
      "source": [
        "## ***1. Know Your Data***"
      ],
      "metadata": {
        "id": "09QjAEI9h2-j"
      }
    },
    {
      "cell_type": "markdown",
      "source": [
        "### Import Libraries"
      ],
      "metadata": {
        "id": "Y3lxredqlCYt"
      }
    },
    {
      "cell_type": "code",
      "source": [
        "# Import Libraries\n",
        "import numpy as np\n",
        "import pandas as pd\n",
        "import matplotlib.pyplot as plt\n",
        "import seaborn as sns\n",
        "import plotly.express as px\n",
        "\n",
        "import operator\n",
        "from collections import Counter\n",
        "from scipy.sparse import csr_matrix\n",
        "from pandas.api.types import is_numeric_dtype\n",
        "from sklearn.neighbors import NearestNeighbors\n",
        "from sklearn.feature_extraction import DictVectorizer\n",
        "from sklearn.metrics.pairwise import cosine_similarity\n",
        "from sklearn.feature_extraction.text import TfidfVectorizer\n",
        "# This is to supress the warning messages (if any) generated in our code\n",
        "import warnings\n",
        "warnings.filterwarnings(\"ignore\")\n",
        "# Mute the sklearn and IPython warnings\n",
        "import warnings\n",
        "warnings.filterwarnings('ignore', module='sklearn')\n",
        "warnings.filterwarnings('ignore', module='IPython')"
      ],
      "metadata": {
        "id": "M8Vqi-pPk-HR"
      },
      "execution_count": null,
      "outputs": []
    },
    {
      "cell_type": "code",
      "source": [
        "pd.set_option('display.max_columns', None)\n",
        "pd.set_option('display.width', 2000)\n",
        "pd.set_option('display.expand_frame_repr', False)"
      ],
      "metadata": {
        "id": "okDzbTKmgbXq"
      },
      "execution_count": null,
      "outputs": []
    },
    {
      "cell_type": "code",
      "source": [
        "from google.colab import drive\n",
        "drive.mount('/content/drive')"
      ],
      "metadata": {
        "id": "kvUcUFuPW0Bh"
      },
      "execution_count": null,
      "outputs": []
    },
    {
      "cell_type": "markdown",
      "source": [
        "### Dataset Loading"
      ],
      "metadata": {
        "id": "3RnN4peoiCZX"
      }
    },
    {
      "cell_type": "code",
      "source": [
        "# Load Dataset\n",
        "books = pd.read_csv('/content/drive/MyDrive/AlmaBetter/Book recommended system project/Dataset/Books.csv')"
      ],
      "metadata": {
        "id": "4CkvbW_SlZ_R"
      },
      "execution_count": null,
      "outputs": []
    },
    {
      "cell_type": "code",
      "source": [
        "users = pd.read_csv('/content/drive/MyDrive/AlmaBetter/Book recommended system project/Dataset/Users.csv')"
      ],
      "metadata": {
        "id": "0pVCm9MG2fQm"
      },
      "execution_count": null,
      "outputs": []
    },
    {
      "cell_type": "code",
      "source": [
        "ratings = pd.read_csv('/content/drive/MyDrive/AlmaBetter/Book recommended system project/Dataset/Ratings.csv')"
      ],
      "metadata": {
        "id": "w6oit0Aj2fIp"
      },
      "execution_count": null,
      "outputs": []
    },
    {
      "cell_type": "code",
      "source": [
        "# Dataset First Look\n",
        "books.head()"
      ],
      "metadata": {
        "id": "LWNFOSvLl09H"
      },
      "execution_count": null,
      "outputs": []
    },
    {
      "cell_type": "markdown",
      "source": [
        "**books dataset**<br>\n",
        "\n",
        "1.***ISBN***: ISBN stands for International Standard Book Number. It is a unique numerical identifier used to identify books and other monographic publications. Each ISBN consists of a series of digits that uniquely identify a specific edition or version of a book.<br>\n",
        "The purpose of an ISBN is to provide a standardized method for identifying and cataloging books. It helps publishers, booksellers, libraries, and other organizations to efficiently manage and track books. By using an ISBN, a book can be easily located, ordered, and sold internationally<br>\n",
        "\n",
        "2.***Book-Title***: Title of the book\n",
        "\n",
        "3.***Book-Author***: Author of the book\n",
        "\n",
        "4.***Year-Of-Publication***:Year-Of-Publication\n",
        "\n",
        "5.***Publisher***: Publisher is the organization or company responsible for producing and distributing the book to the public. Publishers handle various aspects of the book's publication process, including acquiring manuscripts, editing, designing, printing, marketing, and distributing the book.\n",
        "\n",
        "6.***Image-URL-S***: short URL of the image\n",
        "\n",
        "7.***Image-URL-M***:medium URL of the image\n",
        "\n",
        "8.***Image-URL-L***:long URL of the image"
      ],
      "metadata": {
        "id": "6W455m74KlqA"
      }
    },
    {
      "cell_type": "code",
      "source": [
        "ratings.head()"
      ],
      "metadata": {
        "id": "e-kawhXHLS8i"
      },
      "execution_count": null,
      "outputs": []
    },
    {
      "cell_type": "markdown",
      "source": [
        "***ratings dataset***\n",
        "\n",
        "1.**User-ID**: User id of the reader/customer who reviews the book<br>\n",
        "2.**ISBN**: Unique idenifier for book whos review has been made<br>\n",
        "3.**Book-Rating**: Rating of the particular book\n"
      ],
      "metadata": {
        "id": "CUgfllW4Lbtt"
      }
    },
    {
      "cell_type": "markdown",
      "source": [
        "***users dataset***"
      ],
      "metadata": {
        "id": "s2wIiUm_gmq_"
      }
    },
    {
      "cell_type": "code",
      "source": [
        "users.head()"
      ],
      "metadata": {
        "id": "b2GAlgFdLd5n"
      },
      "execution_count": null,
      "outputs": []
    },
    {
      "cell_type": "markdown",
      "source": [
        "1.**User-ID**:User id of the reader/customer who reviews the book<br>\n",
        "2.**Location**:Location<br>\n",
        "3.**Age**: age<br>"
      ],
      "metadata": {
        "id": "ZOO3y94hLmXz"
      }
    },
    {
      "cell_type": "code",
      "source": [
        "# Print information of all datasets\n",
        "print(\"Books Info:\")\n",
        "print(books.info(), end=\"\\n\\n\")\n",
        "\n",
        "print(\"Ratings Info:\")\n",
        "print(ratings.info(), end=\"\\n\\n\")\n",
        "\n",
        "print(\"Users Info:\")\n",
        "print(users.info())\n"
      ],
      "metadata": {
        "id": "e9hRXRi6meOf"
      },
      "execution_count": null,
      "outputs": []
    },
    {
      "cell_type": "code",
      "source": [
        "class DatasetAnalyzer:\n",
        "    def __init__(self, data):\n",
        "        self.data = data\n",
        "\n",
        "    def null_percentage(self):\n",
        "        null_percentages = (self.data.isnull().mean() * 100).round(2)\n",
        "        return null_percentages\n",
        "\n",
        "    def sum_duplicates(self):\n",
        "        duplicate_sum = self.data.duplicated().sum()\n",
        "        return duplicate_sum\n",
        "\n",
        "    def get_shape(self):\n",
        "        rows, columns = self.data.shape\n",
        "        return rows, columns\n",
        "\n"
      ],
      "metadata": {
        "id": "iV16ayn3dA9h"
      },
      "execution_count": null,
      "outputs": []
    },
    {
      "cell_type": "code",
      "source": [
        "analyzer = DatasetAnalyzer(books)\n",
        "\n",
        "# Calculate null value percentages\n",
        "null_percentages = analyzer.null_percentage()\n",
        "print(\"Null Value Percentages:\")\n",
        "print(null_percentages)\n",
        "\n",
        "# Sum of duplicate values\n",
        "duplicate_sum = analyzer.sum_duplicates()\n",
        "print(\"\\nSum of Duplicate Values:\", duplicate_sum)\n",
        "\n",
        "# Shape of the dataset\n",
        "rows, columns = analyzer.get_shape()\n",
        "print(\"\\nNumber of Rows:\", rows)\n",
        "print(\"Number of Columns:\", columns)"
      ],
      "metadata": {
        "id": "RS2yJlvbfi8N"
      },
      "execution_count": null,
      "outputs": []
    },
    {
      "cell_type": "code",
      "source": [
        "analyzer = DatasetAnalyzer(users)\n",
        "\n",
        "# Calculate null value percentages\n",
        "null_percentages = analyzer.null_percentage()\n",
        "print(\"Null Value Percentages:\")\n",
        "print(null_percentages)\n",
        "\n",
        "# Sum of duplicate values\n",
        "duplicate_sum = analyzer.sum_duplicates()\n",
        "print(\"\\nSum of Duplicate Values:\", duplicate_sum)\n",
        "\n",
        "# Shape of the dataset\n",
        "rows, columns = analyzer.get_shape()\n",
        "print(\"\\nNumber of Rows:\", rows)\n",
        "print(\"Number of Columns:\", columns)"
      ],
      "metadata": {
        "id": "aatRBrq1f0A3"
      },
      "execution_count": null,
      "outputs": []
    },
    {
      "cell_type": "code",
      "source": [
        "analyzer = DatasetAnalyzer(ratings)\n",
        "\n",
        "# Calculate null value percentages\n",
        "null_percentages = analyzer.null_percentage()\n",
        "print(\"Null Value Percentages:\")\n",
        "print(null_percentages)\n",
        "\n",
        "# Sum of duplicate values\n",
        "duplicate_sum = analyzer.sum_duplicates()\n",
        "print(\"\\nSum of Duplicate Values:\", duplicate_sum)\n",
        "\n",
        "# Shape of the dataset\n",
        "rows, columns = analyzer.get_shape()\n",
        "print(\"\\nNumber of Rows:\", rows)\n",
        "print(\"Number of Columns:\", columns)"
      ],
      "metadata": {
        "id": "9NVH8IQvf71n"
      },
      "execution_count": null,
      "outputs": []
    },
    {
      "cell_type": "markdown",
      "source": [
        "Based on the information provided about the three dataframes (Books, Ratings, and Users),  the information provided about the data in a DataFrames, there are a few conclusions and observations that can be made:\n",
        "\n",
        "Books\n",
        "1. Dataset Size:\n",
        "   - The dataset contains a total of 271,360 entries (rows).\n",
        "\n",
        "\n",
        "3. Data Types:\n",
        "   - All columns in the DataFrame are of data type \"object.\"\n",
        "\n",
        "4. Missing Data:\n",
        "   - There appears to be some missing data in the \"author\" and \"publisher\" columns, with one missing value in each of these columns.\n",
        "\n",
        "5. Memory Usage:\n",
        "   - The DataFrame consumes 12.4+ MB of memory\n",
        "\n",
        "\n",
        "\n",
        "Ratings\n",
        "\n",
        "1. Data Size:\n",
        " -  The dataset is relatively large, containing 1,149,780 entries. This indicates that it may be suitable for various data analysis tasks.\n",
        "\n",
        "2. Data Types:\n",
        "\n",
        " -  The \"user_id\" and \"rating\" columns are of integer type (int64), while the \"ISBN\" column is of object type (string or categorical data). The data types suggest that you have numeric user identifiers and ratings, as well as alphanumeric ISBN values.\n",
        "\n",
        "3. Non-null Count:\n",
        "\n",
        " - All three columns have non-null values for all entries. This means there are no missing values in the dataset, which is a positive aspect for analysis.\n",
        "\n",
        "\n",
        "Usera\n",
        "\n",
        "1. **Data Overview**:\n",
        "   - The DataFrame contains a total of 278,858 entries.\n",
        "   - There are three columns: 'user_id', 'location', and 'age'.\n",
        "   - 'user_id' and 'location' have no missing values, but 'age' has missing values in 110,762 entries.\n",
        "\n",
        "\n",
        "4. **Handling Missing Age Data**:\n",
        "   - we should  handle the missing age data. we could impute missing values using techniques like mean, median, or machine learning models. Understanding the distribution of missing values can help in deciding which imputation method is appropriate.\n",
        "\n",
        "5. **Data Types**:\n",
        "   - the data types of each column to ensure they are appropriate. 'user_id' and 'location' are of type int64 and object, respectively. Check if 'user_id' should be treated as a unique identifier or if it contains any meaningful information. You may want to convert 'age' to an integer if it doesn't require decimal precision.\n",
        "\n",
        "6. **Memory Usage**:\n",
        "   - The DataFrame consumes 6.4+ MB of memory.\n",
        "\n",
        "\n",
        "\n",
        "\n",
        "\n",
        "\n"
      ],
      "metadata": {
        "id": "UromIbfALzJK"
      }
    },
    {
      "cell_type": "code",
      "source": [
        "# Visualizing the missing values\n",
        "# Missing values (books)\n",
        "plt.figure(figsize=(20,4))\n",
        "sns.heatmap((books.isna().sum()).to_frame(name='').T,cmap='GnBu', annot=True,\n",
        "             fmt='0.0f').set_title('Count missing values (books)', fontsize=18)\n",
        "plt.show()"
      ],
      "metadata": {
        "id": "hpMBrksDhSnR"
      },
      "execution_count": null,
      "outputs": []
    },
    {
      "cell_type": "code",
      "source": [
        "# Visualizing the missing values\n",
        "# Missing values (ratings)\n",
        "plt.figure(figsize=(20,4))\n",
        "sns.heatmap((ratings.isna().sum()).to_frame(name='').T,cmap='GnBu', annot=True,\n",
        "             fmt='0.0f').set_title('Count missing values (ratings)', fontsize=18)\n",
        "plt.show()"
      ],
      "metadata": {
        "id": "1IXijQM8hRwQ"
      },
      "execution_count": null,
      "outputs": []
    },
    {
      "cell_type": "code",
      "source": [
        "# Visualizing the missing values\n",
        "# Missing values (users)\n",
        "plt.figure(figsize=(20,4))\n",
        "sns.heatmap((users.isna().sum()).to_frame(name='').T,cmap='GnBu', annot=True,\n",
        "             fmt='0.0f').set_title('Count missing values (users)', fontsize=18)\n",
        "plt.show()"
      ],
      "metadata": {
        "id": "0APKceVVhGFM"
      },
      "execution_count": null,
      "outputs": []
    },
    {
      "cell_type": "markdown",
      "source": [
        "## ***2. Understanding Your Variables***"
      ],
      "metadata": {
        "id": "dW3Pt6aCiDMK"
      }
    },
    {
      "cell_type": "code",
      "source": [
        "dataframes = [(books, 'Books'), (ratings, 'Ratings'), (users, 'Users')]\n",
        "for df, name in dataframes:\n",
        "    print(f\"Unique values in {name} dataset:\")\n",
        "    unique_values = df.apply(lambda col: col.unique())\n",
        "    print('\\n')\n",
        "    print(unique_values)"
      ],
      "metadata": {
        "id": "xCQI58vMsWmD"
      },
      "execution_count": null,
      "outputs": []
    },
    {
      "cell_type": "code",
      "source": [
        "def describe_(dataset):\n",
        "  return dataset.describe(include='all')"
      ],
      "metadata": {
        "id": "MgqrrvRiBGcn"
      },
      "execution_count": null,
      "outputs": []
    },
    {
      "cell_type": "code",
      "source": [
        "describe_(books)"
      ],
      "metadata": {
        "id": "kVFQvGD0BWys"
      },
      "execution_count": null,
      "outputs": []
    },
    {
      "cell_type": "code",
      "source": [
        "describe_(ratings)"
      ],
      "metadata": {
        "id": "BiWOdfC7B0Af"
      },
      "execution_count": null,
      "outputs": []
    },
    {
      "cell_type": "code",
      "source": [
        "describe_(users)"
      ],
      "metadata": {
        "id": "opoeKUcSB3mQ"
      },
      "execution_count": null,
      "outputs": []
    },
    {
      "cell_type": "markdown",
      "source": [
        "## 3. ***Data Wrangling***"
      ],
      "metadata": {
        "id": "GLf_bMVGjbeG"
      }
    },
    {
      "cell_type": "markdown",
      "source": [
        "### Data Wrangling Code"
      ],
      "metadata": {
        "id": "bKJF3rekwFvQ"
      }
    },
    {
      "cell_type": "code",
      "source": [
        "# Renamed the column names for the convenience\n",
        "books.rename(columns={'Book-Title':'title','Book-Author':'author','Year-Of-Publication':'year','Publisher':'publisher'},inplace=True)\n",
        "users.rename(columns={'User-ID':'user_id','Location':'location','Age':'age'},inplace=True)\n",
        "ratings.rename(columns={'User-ID':'user_id','Book-Rating':'rating'},inplace=True)\n"
      ],
      "metadata": {
        "id": "wk-9a2fpoLcV"
      },
      "execution_count": null,
      "outputs": []
    },
    {
      "cell_type": "markdown",
      "source": [
        "### Books"
      ],
      "metadata": {
        "id": "AI8kmb0pykHF"
      }
    },
    {
      "cell_type": "code",
      "source": [
        "#dropping last three columns containing image URLs which will not be required for analysis\n",
        "books.drop(['Image-URL-S', 'Image-URL-M', 'Image-URL-L'],axis=1,inplace=True)"
      ],
      "metadata": {
        "id": "UCR7k54oX53q"
      },
      "execution_count": null,
      "outputs": []
    },
    {
      "cell_type": "code",
      "source": [
        "unique_titles = books['title'].unique()\n",
        "unique_authors = books['author'].unique()\n",
        "unique_years = books['year'].unique()\n",
        "unique_publishers = books['publisher'].unique()\n",
        "\n",
        "\n",
        "print(\"Unique Titles:\")\n",
        "print(unique_titles)\n",
        "\n",
        "print(\"\\nUnique Authors:\")\n",
        "print(unique_authors)\n",
        "\n",
        "print(\"\\nUnique Years:\")\n",
        "print(unique_years)\n",
        "\n",
        "print(\"\\nUnique Publishers:\")\n",
        "print(unique_publishers)\n"
      ],
      "metadata": {
        "id": "nhlFgjojSqDx"
      },
      "execution_count": null,
      "outputs": []
    },
    {
      "cell_type": "markdown",
      "source": [
        "Here we can see there is a mistake in year column.String can't be a year so we need to check what's wrong in it and finally we neeed to change its data type to int"
      ],
      "metadata": {
        "id": "i7n6KCIsTQiE"
      }
    },
    {
      "cell_type": "code",
      "source": [
        "# Find rows where 'DK Publishing Inc' is in the 'year' column\n",
        "books[books['year'] == 'DK Publishing Inc']"
      ],
      "metadata": {
        "id": "_ZSgc1h6bPzZ"
      },
      "execution_count": null,
      "outputs": []
    },
    {
      "cell_type": "code",
      "source": [
        "books.loc[209538].values"
      ],
      "metadata": {
        "id": "_lwMqevSq2n9"
      },
      "execution_count": null,
      "outputs": []
    },
    {
      "cell_type": "code",
      "source": [
        "books.loc[221678].values"
      ],
      "metadata": {
        "id": "tlygIoc3rZ13"
      },
      "execution_count": null,
      "outputs": []
    },
    {
      "cell_type": "code",
      "source": [
        "# Specified the ISBN of the book that I want to correct\n",
        "isbn_to_correct = '0789466953'\n",
        "\n",
        "# Define the corrected values\n",
        "corrected_title = 'DK Readers: Creating the X-Men, How Comic Books Come to Life (Level 4: Proficient Readers)'\n",
        "corrected_author = 'James Buckley'\n",
        "corrected_publisher='DK Publishing Inc'\n",
        "corrected_year=2000\n",
        "\n",
        "# Correct the values\n",
        "books.loc[books['ISBN'] == isbn_to_correct, 'title'] = corrected_title\n",
        "books.loc[books['ISBN'] == isbn_to_correct, 'author'] = corrected_author\n",
        "books.loc[books['ISBN'] == isbn_to_correct, 'year'] = corrected_year\n",
        "books.loc[books['ISBN'] == isbn_to_correct, 'publisher'] = corrected_publisher"
      ],
      "metadata": {
        "id": "AD9n1n5SuYRb"
      },
      "execution_count": null,
      "outputs": []
    },
    {
      "cell_type": "code",
      "source": [
        "# Specified the ISBN of the book that I want to correct\n",
        "isbn_to_correct = '078946697X'\n",
        "\n",
        "# Define the corrected values\n",
        "corrected_title = 'DK Readers: Creating the X-Men, How It All Began (Level 4: Proficient Readers)'\n",
        "corrected_author = 'Michael Teitelbaum'\n",
        "corrected_publisher='DK Publishing Inc'\n",
        "corrected_year=2000\n",
        "\n",
        "# Correct the values\n",
        "books.loc[books['ISBN'] == isbn_to_correct, 'title'] = corrected_title\n",
        "books.loc[books['ISBN'] == isbn_to_correct, 'author'] = corrected_author\n",
        "books.loc[books['ISBN'] == isbn_to_correct, 'year'] = corrected_year\n",
        "books.loc[books['ISBN'] == isbn_to_correct, 'publisher'] = corrected_publisher"
      ],
      "metadata": {
        "id": "zM4qcacewCGa"
      },
      "execution_count": null,
      "outputs": []
    },
    {
      "cell_type": "code",
      "source": [
        "#rechecking\n",
        "books.loc[(books.ISBN == '0789466953') | (books.ISBN == '078946697X'),:]\n",
        "#corrections done"
      ],
      "metadata": {
        "id": "Z6imQuK-qAFa"
      },
      "execution_count": null,
      "outputs": []
    },
    {
      "cell_type": "code",
      "source": [
        "books[books['year'] == 'Gallimard']"
      ],
      "metadata": {
        "id": "r06sny-DcZ-Q"
      },
      "execution_count": null,
      "outputs": []
    },
    {
      "cell_type": "code",
      "source": [
        "books.loc[220731].values"
      ],
      "metadata": {
        "id": "Z85x5nLDsNHo"
      },
      "execution_count": null,
      "outputs": []
    },
    {
      "cell_type": "code",
      "source": [
        "# Specified the ISBN of the book that I want to correct\n",
        "isbn_to_correct = '2070426769'\n",
        "\n",
        "# Define the corrected values\n",
        "corrected_title = \"Peuple du ciel, suivi de \\'Les Bergers\\\\\"\n",
        "corrected_author = 'Jean-Marie Gustave Le ClÃ?Â©zio'\n",
        "corrected_publisher='Gallimard'\n",
        "corrected_year=2003\n",
        "\n",
        "# Correct the values\n",
        "books.loc[books['ISBN'] == isbn_to_correct, 'title'] = corrected_title\n",
        "books.loc[books['ISBN'] == isbn_to_correct, 'author'] = corrected_author\n",
        "books.loc[books['ISBN'] == isbn_to_correct, 'year'] = corrected_year\n",
        "books.loc[books['ISBN'] == isbn_to_correct, 'publisher'] = corrected_publisher"
      ],
      "metadata": {
        "id": "re9Lq-MAw1qn"
      },
      "execution_count": null,
      "outputs": []
    },
    {
      "cell_type": "code",
      "source": [
        "#rechecking\n",
        "books.loc[(books.ISBN == '078946697X'),:]\n",
        "#corrections done"
      ],
      "metadata": {
        "id": "aLaFOLkaxnB8"
      },
      "execution_count": null,
      "outputs": []
    },
    {
      "cell_type": "code",
      "source": [
        "class BookDataProcessor:\n",
        "    def __init__(self, books):\n",
        "        self.books = books\n",
        "\n",
        "    def clean_and_transform_year(self):\n",
        "        # Step 1: Filter out invalid or non-year values\n",
        "        valid_years = self.books['year'].astype(str).str.isnumeric()\n",
        "        self.books = self.books[valid_years]\n",
        "\n",
        "        # Step 2: Convert the column data to integers\n",
        "        self.books['year'] = self.books['year'].astype(int)\n",
        "\n",
        "        # Step 3: Create a new datetime column from the integers representing years\n",
        "        self.books['year'] = pd.to_datetime(self.books['year'], format='%Y', errors='coerce')\n",
        "\n",
        "        # Step 4: Create a new column with only the year part as integers\n",
        "        self.books['year'] = self.books['year'].dt.year\n",
        "\n",
        "        return self.books\n",
        "\n",
        "\n",
        "\n",
        "# Create an instance of the BookDataProcessor\n",
        "processor = BookDataProcessor(books)\n",
        "\n",
        "# Clean and transform the 'year' column\n",
        "books = processor.clean_and_transform_year()\n"
      ],
      "metadata": {
        "id": "0LpAMZXd6IRe"
      },
      "execution_count": null,
      "outputs": []
    },
    {
      "cell_type": "code",
      "source": [
        "\n",
        "\n",
        "# Remove rows with 'NA' (NaN) values in the 'year' column\n",
        "books = books.dropna(subset=['year'])\n",
        "\n",
        "# Remove rows with 'inf' values in the 'year' column\n",
        "books = books[~np.isinf(books['year'])]\n"
      ],
      "metadata": {
        "id": "qSGlsM5lLiCP"
      },
      "execution_count": null,
      "outputs": []
    },
    {
      "cell_type": "code",
      "source": [
        "books['year'] = books['year'].astype(int)"
      ],
      "metadata": {
        "id": "QLPsB5oTJPIq"
      },
      "execution_count": null,
      "outputs": []
    },
    {
      "cell_type": "code",
      "source": [
        "#exploring 'publisher' column\n",
        "books.loc[books.publisher.isnull(),:]"
      ],
      "metadata": {
        "id": "ttTws69es9Wi"
      },
      "execution_count": null,
      "outputs": []
    },
    {
      "cell_type": "code",
      "source": [
        "isbn_to_correct = '193169656X'\n",
        "\n",
        "# Define the corrected values\n",
        "corrected_publisher = \"Unknown\"\n",
        "# Correct the values\n",
        "books.loc[books['ISBN'] == isbn_to_correct, 'publisher'] = corrected_publisher"
      ],
      "metadata": {
        "id": "nF9YsOZIPyHy"
      },
      "execution_count": null,
      "outputs": []
    },
    {
      "cell_type": "code",
      "source": [
        "isbn_to_correct = '1931696993'\n",
        "\n",
        "# Define the corrected values\n",
        "corrected_publisher = \"Unknown\"\n",
        "# Correct the values\n",
        "books.loc[books['ISBN'] == isbn_to_correct, 'publisher'] = corrected_publisher"
      ],
      "metadata": {
        "id": "-nq1JUZ4PzrH"
      },
      "execution_count": null,
      "outputs": []
    },
    {
      "cell_type": "markdown",
      "source": [
        "Replaced Nan publishers with the name 'Unknown'"
      ],
      "metadata": {
        "id": "05YE3wq3AG4v"
      }
    },
    {
      "cell_type": "code",
      "source": [
        "books.shape"
      ],
      "metadata": {
        "id": "FysS2PRSSW9f"
      },
      "execution_count": null,
      "outputs": []
    },
    {
      "cell_type": "markdown",
      "source": [
        "### users"
      ],
      "metadata": {
        "id": "E4U6fwPd8e8C"
      }
    },
    {
      "cell_type": "code",
      "source": [
        "unique_location = users['location'].unique()\n",
        "unique_age = users['age'].unique()\n",
        "\n",
        "print(unique_location)\n",
        "print('\\n')\n",
        "print(unique_age)"
      ],
      "metadata": {
        "id": "aQAfOTkcy_zK"
      },
      "execution_count": null,
      "outputs": []
    },
    {
      "cell_type": "code",
      "source": [
        "# Created function for getting another three columns(City,State,Country) from location column\n",
        "def process_location_column(users):\n",
        "    list_ = users.location.str.split(', ')\n",
        "    city = []\n",
        "    state = []\n",
        "    country = []\n",
        "    count_no_state = 0\n",
        "    count_no_country = 0\n",
        "\n",
        "    for i in range(len(list_)):\n",
        "        if list_[i][0] == ' ' or list_[i][0] == '' or list_[i][0] == 'n/a' or list_[i][0] == ',':\n",
        "            city.append('other')\n",
        "        else:\n",
        "            city.append(list_[i][0].lower())\n",
        "\n",
        "        if len(list_[i]) < 2:\n",
        "            state.append('other')\n",
        "            country.append('other')\n",
        "            count_no_state += 1\n",
        "            count_no_country += 1\n",
        "        else:\n",
        "            if list_[i][1] == ' ' or list_[i][1] == '' or list_[i][1] == 'n/a' or list_[i][1] == ',':\n",
        "                state.append('other')\n",
        "                count_no_state += 1\n",
        "            else:\n",
        "                state.append(list_[i][1].lower())\n",
        "\n",
        "            if len(list_[i]) < 3:\n",
        "                country.append('other')\n",
        "                count_no_country += 1\n",
        "            else:\n",
        "                if list_[i][2] == '' or list_[i][1] == ',' or list_[i][2] == ' ' or list_[i][2] == 'n/a':\n",
        "                    country.append('other')\n",
        "                    count_no_country += 1\n",
        "                else:\n",
        "                    country.append(list_[i][2].lower())\n",
        "\n",
        "    users = users.drop('location', axis=1)\n",
        "\n",
        "    temp = []\n",
        "    for ent in city:\n",
        "        c = ent.split('/')\n",
        "        temp.append(c[0])\n",
        "\n",
        "    df_city = pd.DataFrame(temp, columns=['City'])\n",
        "    df_state = pd.DataFrame(state, columns=['State'])\n",
        "    df_country = pd.DataFrame(country, columns=['Country'])\n",
        "\n",
        "    users = pd.concat([users, df_city], axis=1)\n",
        "    users = pd.concat([users, df_state], axis=1)\n",
        "    users = pd.concat([users, df_country], axis=1)\n",
        "\n",
        "    print(\"Count of entries with no country:\", count_no_country)\n",
        "    print(\"Count of entries with no state:\", count_no_state)\n",
        "\n",
        "    return users"
      ],
      "metadata": {
        "id": "kJ0B5mHRXB8e"
      },
      "execution_count": null,
      "outputs": []
    },
    {
      "cell_type": "code",
      "source": [
        "users = process_location_column(users)"
      ],
      "metadata": {
        "id": "knamU0l-XY13"
      },
      "execution_count": null,
      "outputs": []
    },
    {
      "cell_type": "code",
      "source": [
        "users.head()"
      ],
      "metadata": {
        "id": "0-0vb2NbWU2O"
      },
      "execution_count": null,
      "outputs": []
    },
    {
      "cell_type": "code",
      "source": [
        "# Replaced most of the errors in the country column"
      ],
      "metadata": {
        "id": "Iyh36kbCmTBl"
      },
      "execution_count": null,
      "outputs": []
    },
    {
      "cell_type": "code",
      "source": [
        "# List of original country names to be replaced\n",
        "old_names = ['', '01776', '02458', '19104', '23232', '30064', '85021', '87510', 'alachua', 'america', 'austria', 'autralia', 'cananda', 'geermany', 'italia', 'united kindgonm', 'united sates', 'united staes', 'united state', 'united states', 'us']\n",
        "\n",
        "# List of corresponding standardized country names\n",
        "new_names = ['other', 'usa', 'usa', 'usa', 'usa', 'usa', 'usa', 'usa', 'usa', 'usa', 'australia', 'australia', 'canada', 'germany', 'italy', 'united kingdom', 'usa', 'usa', 'usa', 'usa', 'usa']\n",
        "\n",
        "# Replace old country names with new ones\n",
        "users['Country'].replace(old_names, new_names, inplace=True)\n"
      ],
      "metadata": {
        "id": "HInHrH557g0f"
      },
      "execution_count": null,
      "outputs": []
    },
    {
      "cell_type": "code",
      "source": [
        "# Define the age groups and their corresponding labels\n",
        "age_groups = [0, 18, 25, 35, 50, 100]\n",
        "age_labels = ['children', 'young-adult', 'adult', 'middle-age', 'senior']\n",
        "\n",
        "# Create a new column 'age_group' based on the age values\n",
        "users['age_group'] = pd.cut(users['age'], bins=age_groups, labels=age_labels, right=False)\n",
        "\n",
        "# Display the resulting dataset\n",
        "print(users)\n"
      ],
      "metadata": {
        "id": "1SPqnOZA0VmK"
      },
      "execution_count": null,
      "outputs": []
    },
    {
      "cell_type": "markdown",
      "source": [
        "### Rating"
      ],
      "metadata": {
        "id": "zOSHVd2zTySO"
      }
    },
    {
      "cell_type": "code",
      "source": [
        "unique_rating = ratings['rating'].unique()\n",
        "print(unique_rating)"
      ],
      "metadata": {
        "id": "5UngQaCPT3-m"
      },
      "execution_count": null,
      "outputs": []
    },
    {
      "cell_type": "code",
      "source": [
        "## Drop duplicate rows\n",
        "ratings.drop_duplicates(keep='last', inplace=True)\n",
        "ratings.reset_index(drop=True, inplace=True)"
      ],
      "metadata": {
        "id": "s60e4nuDaSQo"
      },
      "execution_count": null,
      "outputs": []
    },
    {
      "cell_type": "code",
      "source": [
        "# lets count the different ratings\n",
        "ratings.rating.value_counts().sort_index()"
      ],
      "metadata": {
        "id": "w22St2mf97SH"
      },
      "execution_count": null,
      "outputs": []
    },
    {
      "cell_type": "code",
      "source": [
        "# Took that rating of books which are in books dataset\n",
        "new_ratings = ratings[ratings.ISBN.isin(books.ISBN)]\n",
        "new_ratings.shape"
      ],
      "metadata": {
        "id": "u4nZR8KWvA6K"
      },
      "execution_count": null,
      "outputs": []
    },
    {
      "cell_type": "code",
      "source": [
        "print(\"Shape of dataset before dropping\",new_ratings.shape)\n",
        "new_ratings = new_ratings[new_ratings['user_id'].isin(users['user_id'])]\n",
        "print(\"shape of dataset after dropping\",new_ratings.shape)"
      ],
      "metadata": {
        "id": "07W0OWYOXxyH"
      },
      "execution_count": null,
      "outputs": []
    },
    {
      "cell_type": "code",
      "source": [
        "#Hence separating implicit and explict ratings datasets\n",
        "non_zero_ratings = new_ratings[new_ratings['rating'] != 0]\n",
        "zero_ratings = new_ratings[new_ratings['rating'] == 0]"
      ],
      "metadata": {
        "id": "N-UHnhXQVnjy"
      },
      "execution_count": null,
      "outputs": []
    },
    {
      "cell_type": "markdown",
      "source": [
        "### What all manipulations have you done and insights you found?"
      ],
      "metadata": {
        "id": "O3IJ6agpmzAj"
      }
    },
    {
      "cell_type": "markdown",
      "source": [
        "**Dropped last three columns containing image URLs**\n",
        "\n",
        "**Renamed all the columns for the 3 csv, changed the required datatypes for some columns.**\n",
        "\n",
        "**Created a country, city and state column from the location column. From age column age_group column has been created**\n",
        "\n",
        "**Replaced most of the errors in the country column.**\n",
        "\n",
        "**Separated implicit and explict ratings datasets**\n"
      ],
      "metadata": {
        "id": "e2zX_UPJ7-2P"
      }
    },
    {
      "cell_type": "markdown",
      "source": [
        "#### **Merging all datasets**"
      ],
      "metadata": {
        "id": "Fy6ZJl_49KT4"
      }
    },
    {
      "cell_type": "code",
      "source": [
        "#merging books and rating datasets using inner joint\n",
        "dataset = pd.merge(books, non_zero_ratings, on='ISBN', how='inner')\n",
        "#merging users with above merged datset\n",
        "dataset = pd.merge(dataset, users, on='user_id', how='inner')\n",
        "## #Print a concise summary of a DataFrame\n",
        "dataset.info()"
      ],
      "metadata": {
        "id": "ea2vH2ujXxui"
      },
      "execution_count": null,
      "outputs": []
    },
    {
      "cell_type": "code",
      "source": [
        "# Printing top 5 rows\n",
        "dataset.sample(5)"
      ],
      "metadata": {
        "id": "kuwdDjVUXxrP"
      },
      "execution_count": null,
      "outputs": []
    },
    {
      "cell_type": "markdown",
      "source": [
        "## ***4. Data Vizualization, Storytelling & Experimenting with charts : Understand the relationships between variables***"
      ],
      "metadata": {
        "id": "m96Yc56Fm_77"
      }
    },
    {
      "cell_type": "code",
      "source": [
        "# Chart - 1 visualization code\n",
        "# Age Distribution\n",
        "fig,axes = plt.subplots(nrows=1,ncols=2,figsize=(18,6))\n",
        "sns.histplot(users['age'], ax = axes[0],kde = True)\n",
        "sns.boxplot(users['age'], ax = axes[1],orient='h',showmeans=True,color='pink')\n",
        "fig.suptitle(\"Distribution plot of Age\", fontsize = 15)\n",
        "plt.show()"
      ],
      "metadata": {
        "id": "z4nlDzsSpNpe"
      },
      "execution_count": null,
      "outputs": []
    },
    {
      "cell_type": "markdown",
      "source": [
        "##### 1. Why did you pick the specific chart?\n",
        "Histplot is useful for exploring the distribution of a single variable, while boxplot is handy for identifying potential outliers. Both types of plots serve different purposes but can be complementary in providing a comprehensive understanding of attribute.\n",
        "\n",
        "\n",
        "\n",
        "##### 2. What is/are the insight(s) found from the chart?\n",
        "\n",
        "From the distribution it appears that the age column is positively skewed (right skewed).\n",
        "\n",
        "The boxplot shows that there are a lot of outliers present.\n",
        "\n",
        "\n",
        "\n",
        "##### 3. Will the gained insights help creating a positive business impact?\n",
        "Are there any insights that lead to negative growth? Justify with specific reason.\n",
        "\n",
        "Analyzing age distribution through a histogram and detecting outliers with a boxplot can enhance a book recommendation system by providing insights for more accurate and personalized recommendations, although further analysis and data may be needed to fully achieve this business goal."
      ],
      "metadata": {
        "id": "WF2tNMhoolHf"
      }
    },
    {
      "cell_type": "code",
      "source": [
        "# Chart - 2 visualization code\n",
        "plt.figure(figsize=(10,7))\n",
        "sns.countplot(y='Country',data=users,order=pd.value_counts(users['Country']).iloc[:10].index)\n",
        "plt.title('Count of users Country wise')\n",
        "plt.show()"
      ],
      "metadata": {
        "id": "U-nbiUBTpSC-"
      },
      "execution_count": null,
      "outputs": []
    },
    {
      "cell_type": "markdown",
      "source": [
        "##### 1. Why did you pick the specific chart?\n",
        "\n",
        "The countplot is employed to efficiently visualize and analyze the distribution of categorical data, offering valuable insights that can inform decision-making and strategy in various business contexts.\n",
        "\n",
        "\n",
        "##### 2. What is/are the insight(s) found from the chart?\n",
        "\n",
        "The most number of users are from USA followed by Canada. The remaining countries have comparatively less users who rate the books.\n",
        "\n",
        "\n",
        "\n",
        "##### 3. Will the gained insights help creating a positive business impact?\n",
        "Are there any insights that lead to negative growth? Justify with specific reason.\n",
        "\n",
        "Analyzing user distribution by country can enhance the recommendation system by tailoring suggestions based on regional preferences, optimizing content relevance and potentially boosting business impact."
      ],
      "metadata": {
        "id": "zfvoTfMxo2-P"
      }
    },
    {
      "cell_type": "code",
      "source": [
        "# Chart - 3 visualization code\n",
        "\n",
        "# Rating Distribution\n",
        "fig, axes = plt.subplots(nrows=2, ncols=2, figsize=(18, 10))\n",
        "\n",
        "# With zero Rating Distribution\n",
        "sns.histplot(ratings['rating'], ax=axes[0, 0], kde=True, color='gold')\n",
        "sns.boxplot(ratings['rating'], ax=axes[0, 1], orient='h', showmeans=True, color='lightgreen')\n",
        "axes[0, 0].set_title(\"With zero Rating Distribution\")\n",
        "\n",
        "# Non-Zero Rating Distribution\n",
        "sns.histplot(non_zero_ratings['rating'], ax=axes[1, 0], kde=True, color='deeppink')\n",
        "sns.boxplot(x=non_zero_ratings['rating'], ax=axes[1, 1], orient='h', showmeans=True, color='lightgreen')\n",
        "axes[1, 0].set_title(\"Non-Zero Rating Distribution\")\n",
        "\n",
        "fig.suptitle(\"Distribution plot of Book Rating\", fontsize=15)\n",
        "plt.show()\n"
      ],
      "metadata": {
        "id": "MuNbAHmpEAqJ"
      },
      "execution_count": null,
      "outputs": []
    },
    {
      "cell_type": "markdown",
      "source": [
        "##### 1. Why did you pick the specific chart?\n",
        "\n",
        "Histplot is useful for exploring the distribution of a single variable, while boxplot is handy for identifying potential outliers. Both types of plots serve different purposes but can be complementary in providing a comprehensive understanding of attribute.\n",
        "\n",
        "\n",
        "##### 2. What is/are the insight(s) found from the chart?\n",
        "\n",
        "The implicit ratings from 0 to 10, histogram shows that the most count of ratings is 0.\n",
        "The boxplots shows that the  mean is close to 3.\n",
        "\n",
        "The non_zero ratings are from 1 to 10, the histogram shows that the most count of ratings is 8.\n",
        "\n",
        "The boxplots shows that the median is 8 and mean is close to 7.5.\n",
        "\n",
        "\n",
        "\n",
        "##### 3. Will the gained insights help creating a positive business impact?\n",
        "Are there any insights that lead to negative growth? Justify with specific reason.\n",
        "\n",
        "To achieve a successful book recommendation system and drive positive business impact, additional analysis and data beyond basic insights are crucial for enhancing effectiveness and meeting business goals."
      ],
      "metadata": {
        "id": "R0ngt3hvo4Ry"
      }
    },
    {
      "cell_type": "code",
      "source": [
        "# Chart - 4 visualization code\n",
        "# Set up subplots\n",
        "fig, axes = plt.subplots(nrows=2, figsize=(20, 12))\n",
        "\n",
        "# Plot the distribution of years of publication for the entire dataset\n",
        "sns.countplot(x='year', data=books, palette='viridis', ax=axes[0])\n",
        "axes[0].set_title('Distribution of Years of Publication')\n",
        "axes[0].set_xlabel('Year of Publication')\n",
        "axes[0].set_ylabel('Count')\n",
        "axes[0].tick_params(axis='x', rotation=90)\n",
        "\n",
        "# Filter the data for years between 1950 and 2004\n",
        "filtered_books = books[(books['year'] >= 1950) & (books['year'] <= 2004)]\n",
        "\n",
        "# Plot the distribution of years of publication for the years 1950-2004\n",
        "sns.countplot(x='year', data=filtered_books, palette='viridis', ax=axes[1])\n",
        "axes[1].set_title('Distribution of Years of Publication (1950-2004)')\n",
        "axes[1].set_xlabel('Year of Publication')\n",
        "axes[1].set_ylabel('Count')\n",
        "axes[1].tick_params(axis='x', rotation=90)\n",
        "\n",
        "\n",
        "plt.tight_layout()\n",
        "\n",
        "# Show the plots\n",
        "plt.show()\n"
      ],
      "metadata": {
        "id": "OFjx7OBnJDGT"
      },
      "execution_count": null,
      "outputs": []
    },
    {
      "cell_type": "markdown",
      "source": [
        "##### 1. Why did you pick the specific chart?\n",
        "Bar charts are used to compare the size or frequency of different categories or groups of data. Bar charts are useful for comparing data across different categories, and they can be used to display a large amount of data in a small space.\n",
        "\n",
        "\n",
        "\n",
        "##### 2. What is/are the insight(s) found from the chart?\n",
        "The bar chart highlights a peak in book publications in 2002, with 1999 and 2001 closely following. Notably, there is a twofold increase in books published in 2002 compared to 1989.\n",
        "\n",
        "\n",
        "\n",
        "\n",
        "##### 3. Will the gained insights help creating a positive business impact?\n",
        "Are there any insights that lead to negative growth? Justify with specific reason.\n",
        "\n",
        "The bar chart reveals valuable insights into the distribution of books published over the years, providing a foundation for optimizing the recommendation system by considering publication years in the algorithm, thus enhancing its effectiveness and potential business impact."
      ],
      "metadata": {
        "id": "p8HUdnbqo4uu"
      }
    },
    {
      "cell_type": "code",
      "source": [
        "# Chart - 5 visualization code\n",
        "# Create a new DataFrame with relevant columns\n",
        "subset_df = dataset[['age_group', 'Country', 'user_id']]\n",
        "\n",
        "# Group by age_group and Country, count the number of readers in each group\n",
        "grouped_df = subset_df.groupby(['age_group', 'Country']).count().reset_index()\n",
        "\n",
        "# Sort the DataFrame by user_id in descending order for each age group\n",
        "sorted_df = grouped_df.sort_values(by=['age_group', 'user_id'], ascending=[True, False])\n",
        "\n",
        "# Get the top 5 countries for each age group\n",
        "top_countries_by_age_group = sorted_df.groupby('age_group').head(5)\n",
        "\n",
        "# Create a bar chart with Plotly\n",
        "fig = px.bar(top_countries_by_age_group, x='Country', y='user_id', color='age_group',\n",
        "             labels={'user_id': 'Number of Readers', 'Country': 'Country'},\n",
        "             title='Top 5 Countries with Most Readers in Each Age Group')\n",
        "\n",
        "fig.update_layout(barmode='group', xaxis={'categoryorder': 'total ascending'})\n",
        "\n",
        "fig.show()\n"
      ],
      "metadata": {
        "id": "snMYc8gTGlw_"
      },
      "execution_count": null,
      "outputs": []
    },
    {
      "cell_type": "markdown",
      "source": [
        "##### 1. Why did you pick the specific chart?\n",
        "Bar charts are effective for comparing the quantities or frequencies of different categories or groups. Each bar represents a category, and the length of the bar corresponds to the quantity it represents.\n",
        "\n",
        "\n",
        "\n",
        "##### 2. What is/are the insight(s) found from the chart?\n",
        "\n",
        "In the USA, the highest engagement with books, as indicated by ratings, is observed among adults in the middle age demographic. Following closely, a similar trend is noted in Canada.\n",
        "\n",
        "\n",
        "##### 3. Will the gained insights help creating a positive business impact?\n",
        "Are there any insights that lead to negative growth? Justify with specific reason.\n",
        "\n",
        "By focusing on adult readers in the middle age demographic in both the USA and Canada, businesses can optimize their strategies to effectively cater to the preferences and interests of this engaged and influential audience."
      ],
      "metadata": {
        "id": "DSEttrLQo5bp"
      }
    },
    {
      "cell_type": "code",
      "source": [
        "# Chart - 6 visualization code\n",
        "# Group by author and count the number of books for each author\n",
        "author_counts = books['author'].value_counts()\n",
        "\n",
        "# Select the top 15 authors\n",
        "top_authors = author_counts.head(15)\n",
        "\n",
        "# Create a bar chart\n",
        "plt.figure(figsize=(12, 5))\n",
        "sns.barplot(x=top_authors.values, y=top_authors.index, palette='viridis')\n",
        "\n",
        "plt.title('Top 15 Authors with the Highest Number of Books')\n",
        "plt.xlabel('Number of Books')\n",
        "plt.ylabel('Author')\n",
        "plt.show()\n"
      ],
      "metadata": {
        "id": "yU_SbLs1pdJj"
      },
      "execution_count": null,
      "outputs": []
    },
    {
      "cell_type": "markdown",
      "source": [
        "##### 1. Why did you pick the specific chart?\n",
        "Bar charts are effective for comparing the quantities or frequencies of different categories or groups. Each bar represents a category, and the length of the bar corresponds to the quantity it represents.\n",
        "\n",
        "\n",
        "\n",
        "##### 2. What is/are the insight(s) found from the chart?\n",
        "The top author is Agatha Christie as per the number of books followed by William Shakespeare.\n",
        "\n",
        "\n",
        "\n",
        "##### 3. Will the gained insights help creating a positive business impact?\n",
        "Are there any insights that lead to negative growth? Justify with specific reason.\n",
        "\n",
        "Recognizing and strategically responding to the popularity of Agatha Christie and William Shakespeare can lead to increased sales, improved customer satisfaction, and a strengthened market position for businesses in the book industry."
      ],
      "metadata": {
        "id": "yDNXcDmno6B-"
      }
    },
    {
      "cell_type": "code",
      "source": [
        "# Chart - 7 visualization code\n",
        "# Calculating the total number of ratings for each book\n",
        "book_ratings = dataset.groupby('title')['rating'].count().reset_index(name='total_ratings')\n",
        "\n",
        "# Select the top 15 books based on total ratings\n",
        "top_books = book_ratings.nlargest(15, 'total_ratings')\n",
        "\n",
        "# Creating a bar chart using Plotly\n",
        "fig = px.bar(top_books, x='total_ratings', y='title', orientation='h', text='total_ratings',\n",
        "             labels={'total_ratings': 'Total Ratings', 'title': 'Book Title'},\n",
        "             title='Top 15 Books with the Highest Number of Ratings',\n",
        "             width=900, height=500,\n",
        "             template='plotly_dark')  # You can choose a different template if you prefer\n",
        "\n",
        "\n",
        "\n",
        "fig.show()\n"
      ],
      "metadata": {
        "id": "h8DZBl8nL6Q0"
      },
      "execution_count": null,
      "outputs": []
    },
    {
      "cell_type": "markdown",
      "source": [
        "##### 1. Why did you pick the specific chart?\n",
        "\n",
        "Bar charts are effective for comparing the quantities or frequencies of different categories or groups. Each bar represents a category, and the length of the bar corresponds to the quantity it represents.\n",
        "\n",
        "\n",
        "\n",
        "##### 2. What is/are the insight(s) found from the chart?\n",
        "\n",
        "The Lovely Bones: A Novel stands out with the highest number of ratings, totaling 707, while Wild Animus secures the second-highest position with 581 ratings.\n",
        "\n",
        "\n",
        "\n",
        "##### 3. Will the gained insights help creating a positive business impact?\n",
        "Are there any insights that lead to negative growth? Justify with specific reason.\n",
        "\n",
        "\n",
        "This information could be used to improve the recommendation system by taking into account the popularity of books when making recommendations."
      ],
      "metadata": {
        "id": "SC0zCoFCo6aH"
      }
    },
    {
      "cell_type": "code",
      "source": [
        "# Chart - 8 visualization code\n",
        "\n",
        "# Count the number of publications for each publisher\n",
        "publisher_counts = books['publisher'].value_counts().head(15)\n",
        "\n",
        "# Create a bar chart\n",
        "plt.figure(figsize=(12, 6))\n",
        "sns.barplot(x=publisher_counts.values, y=publisher_counts.index, palette='viridis')\n",
        "\n",
        "# Set labels and title\n",
        "plt.xlabel('Number of Publications')\n",
        "plt.ylabel('Publisher')\n",
        "plt.title('Top 15 Publishers with Highest Number of Publications')\n",
        "\n",
        "plt.show()\n"
      ],
      "metadata": {
        "id": "dQUuZ8jXph1U"
      },
      "execution_count": null,
      "outputs": []
    },
    {
      "cell_type": "markdown",
      "source": [
        "##### 1. Why did you pick the specific chart?\n",
        "\n",
        "Bar charts are effective for comparing the quantities or frequencies of different categories or groups. Each bar represents a category, and the length of the bar corresponds to the quantity it represents.\n",
        "\n",
        "\n",
        "##### 2. What is/are the insight(s) found from the chart?\n",
        "\n",
        " Harlequin leads with the highest number of publications, followed by Silhouette in second place, and Pocket securing the third position among the top 15 publishers.\n",
        "\n",
        "\n",
        "\n",
        "\n",
        "##### 3. Will the gained insights help creating a positive business impact?\n",
        "Are there any insights that lead to negative growth? Justify with specific reason.\n",
        "\n",
        "Recognizing the dominance of Harlequin, Silhouette, and Pocket among top publishers enables a more effective book recommendation system, enhancing user satisfaction, driving engagement, and fostering potential business success in the book industry."
      ],
      "metadata": {
        "id": "RjDYSQ9Lo6ty"
      }
    },
    {
      "cell_type": "code",
      "source": [
        "# Chart - 9 visualization code\n",
        "from wordcloud import WordCloud\n",
        "\n",
        "# Create a function to generate word clouds\n",
        "def generate_wordcloud(data_column, title):\n",
        "    wordcloud = WordCloud(width=800, height=400, background_color='white').generate(' '.join(data_column.dropna()))\n",
        "\n",
        "    # Display the generated image:\n",
        "    plt.figure(figsize=(15, 5))\n",
        "    plt.imshow(wordcloud, interpolation='bilinear')\n",
        "    plt.axis('off')\n",
        "    plt.title(title, fontsize=16)\n",
        "    plt.show()\n",
        "\n",
        "# Generate word clouds for City, State, and Author\n",
        "generate_wordcloud(dataset['City'], 'Word Cloud for Cities')\n",
        "generate_wordcloud(dataset['State'], 'Word Cloud for States')\n",
        "generate_wordcloud(dataset['author'], 'Word Cloud for Authors')\n"
      ],
      "metadata": {
        "id": "k0f6CvgFpji4"
      },
      "execution_count": null,
      "outputs": []
    },
    {
      "cell_type": "markdown",
      "source": [
        "##### 1. Why did you pick the specific chart?\n",
        "\n",
        "Frequency Representation: The size of each word in a word cloud is proportional to its frequency in the dataset. This allows for an immediate understanding of which words occur most frequently.\n",
        "\n",
        "\n",
        "##### 2. What is/are the insight(s) found from the chart?\n",
        "\n",
        "Visualizing city-wise book rating users reveals a word cloud with prominent mentions of London, Toronto, Morrow, and New York. For states, California stands out as the most frequent, followed by Georgia. In the author category, Stephen King emerges as the highest-rated author, while Nora Roberts and John Grisham closely follow in terms of ratings.\n",
        "\n",
        "\n",
        "\n",
        "##### 3. Will the gained insights help creating a positive business impact?\n",
        "Are there any insights that lead to negative growth? Justify with specific reason.\n",
        "\n",
        "The insights gained from the top authors based on the number of books and ratings, could potentially help in creating a positive business impact. This information could be used to improve the recommendation system by taking into account the popularity of authors when making recommendations. For example, books by popular authors such as Stephen King  and Nora Roberts could be recommended to users who have shown an interest in similar genres or themes."
      ],
      "metadata": {
        "id": "0DL_iGago7bx"
      }
    },
    {
      "cell_type": "code",
      "source": [
        "# Chart - 10 visualization code\n",
        "import plotly.express as px\n",
        "import pandas as pd\n",
        "\n",
        "# Assuming 'dataset' is your DataFrame\n",
        "age_group_counts = dataset['age_group'].value_counts().reset_index()\n",
        "\n",
        "# Plotting the pie chart using Plotly\n",
        "fig = px.pie(age_group_counts, names='index', values='age_group',\n",
        "             title='Age Group Distribution',\n",
        "             labels={'index': 'Age Group', 'age_group': 'Count'},\n",
        "             hole=0.4, color_discrete_sequence=px.colors.qualitative.Pastel1)\n",
        "\n",
        "\n",
        "fig.show()\n",
        "\n"
      ],
      "metadata": {
        "id": "K1XSabPGploe"
      },
      "execution_count": null,
      "outputs": []
    },
    {
      "cell_type": "markdown",
      "source": [
        "##### 1. Why did you pick the specific chart?\n",
        "\n",
        "Pie charts are simple to understand and visually intuitive. They are particularly effective when dealing with a small number of categories, making it easy for viewers to present the distribution of data at a glance.\n",
        "\n",
        "\n",
        "##### 2. What is/are the insight(s) found from the chart?\n",
        "\n",
        "The most prominent book ratings are attributed to the discerning preferences of middle-aged and adult readers.\n",
        "\n",
        "\n",
        "\n",
        "##### 3. Will the gained insights help creating a positive business impact?\n",
        "Are there any insights that lead to negative growth? Justify with specific reason.\n",
        "\n",
        "Focusing on genres, authors, and themes that resonate with middle-aged and adult readers, ensuring more relevant and personalized book suggestions."
      ],
      "metadata": {
        "id": "XUPp0UMUo72K"
      }
    },
    {
      "cell_type": "code",
      "source": [
        "# Chart - 11 visualization code\n",
        "top_cities = dataset['City'].value_counts().head(15).index\n",
        "\n",
        "# Filter the dataset for the top 15 cities\n",
        "top_cities_data = dataset[dataset['City'].isin(top_cities)]\n",
        "\n",
        "# Group by 'City' and 'author' and calculate the count\n",
        "city_author_counts = top_cities_data.groupby(['City', 'author']).size().reset_index(name='Count')\n",
        "\n",
        "# Find the most popular author in each city\n",
        "popular_authors = city_author_counts.groupby('City').apply(lambda x: x.loc[x['Count'].idxmax()]).reset_index(drop=True)\n",
        "\n",
        "# Plotting the bar chart using Plotly\n",
        "fig = px.bar(popular_authors, x='City', y='Count', color='author',\n",
        "             title='Most Popular Author in Top 15 Cities',\n",
        "             labels={'City': 'City', 'Count': 'Number of Books'},\n",
        "             color_discrete_sequence=px.colors.qualitative.Plotly)\n",
        "\n",
        "\n",
        "fig.show()\n"
      ],
      "metadata": {
        "id": "REzIQvm7YZy2"
      },
      "execution_count": null,
      "outputs": []
    },
    {
      "cell_type": "markdown",
      "source": [
        "##### 1. Why did you pick the specific chart?\n",
        "\n",
        "Bar charts are effective for comparing the quantities or frequencies of different categories or groups. Each bar represents a category, and the length of the bar corresponds to the quantity it represents.\n",
        "\n",
        "\n",
        "##### 2. What is/are the insight(s) found from the chart?\n",
        "Barbara Cartland emerges as highly popular in Honolulu, while Stephen King dominates across various cities like Calgary, San Diego, Toronto, and others.\n",
        "\n",
        "\n",
        "\n",
        "\n",
        "##### 3. Will the gained insights help creating a positive business impact?\n",
        "Are there any insights that lead to negative growth? Justify with specific reason.\n",
        "\n",
        "Providing users with recommendations from highly popular authors in their respective cities can significantly enhance user engagement and satisfaction."
      ],
      "metadata": {
        "id": "9REfGuOEcAmH"
      }
    },
    {
      "cell_type": "code",
      "source": [
        "# Chart - 12 visualization code\n",
        "\n",
        "# Calculate the correlation matrix\n",
        "corr = dataset.corr()\n",
        "\n",
        "# Create a mask for the upper triangle\n",
        "mask = np.zeros_like(corr)\n",
        "mask[np.triu_indices_from(mask)] = True\n",
        "\n",
        "# Set up the matplotlib figure\n",
        "with sns.axes_style(\"white\"):\n",
        "    f, ax = plt.subplots(figsize=(18, 6))\n",
        "\n",
        "    # Create a custom diverging colormap\n",
        "    cmap = sns.diverging_palette(240, 10, n=9, as_cmap=True)\n",
        "\n",
        "    # Draw the heatmap with the mask and correct aspect ratio\n",
        "    ax = sns.heatmap(corr, mask=mask, cmap=\"RdBu_r\", vmin=-1, vmax=1, annot=True, fmt=\".2f\", linewidths=.5, cbar_kws={\"shrink\": 0.75})\n",
        "\n",
        "\n",
        "    ax.set_title('Correlation Heatmap', fontsize=16)\n",
        "    ax.set_xticklabels(ax.get_xticklabels(), rotation=45, horizontalalignment='right', fontsize=12)\n",
        "    ax.set_yticklabels(ax.get_yticklabels(), fontsize=12)\n",
        "\n",
        "plt.show()\n"
      ],
      "metadata": {
        "id": "NrSdVQ4OppRK"
      },
      "execution_count": null,
      "outputs": []
    },
    {
      "cell_type": "markdown",
      "source": [
        "##### 1. Why did you pick the specific chart?\n",
        "\n",
        "Correlation heatmaps are used to quickly visualize and identify patterns in the relationships between multiple variables in a dataset, aiding in understanding the strength and direction of correlations.\n",
        "\n",
        "Thus to know the correlation between all the variables along with the correlation coeficients, we have used correlation heatmap.\n",
        "\n",
        "\n",
        "##### 2. What is/are the insight(s) found from the chart?\n",
        "We can see corelation very low among the variables\n",
        "\n",
        "\n",
        "\n",
        "\n",
        "##### 3. Will the gained insights help creating a positive business impact?\n",
        "Are there any insights that lead to negative growth? Justify with specific reason."
      ],
      "metadata": {
        "id": "TGOIc-nYo8LO"
      }
    },
    {
      "cell_type": "markdown",
      "source": [
        "## ***5. Feature Engineering & Data Pre-processing***"
      ],
      "metadata": {
        "id": "IAVdMT0_szlE"
      }
    },
    {
      "cell_type": "markdown",
      "source": [
        "### Handling Missing Values and Outliers"
      ],
      "metadata": {
        "id": "QaKBc5PNt5Xo"
      }
    },
    {
      "cell_type": "code",
      "source": [
        "def missing_values_summary(data):\n",
        "    total_missing = data.isnull().sum()\n",
        "    percentage_missing = (data.isnull().mean() * 100).round(2)\n",
        "\n",
        "    missing_summary = pd.DataFrame({\n",
        "        'Total Missing Values': total_missing,\n",
        "        'Percentage Missing': percentage_missing\n",
        "    })\n",
        "\n",
        "    return missing_summary\n",
        "\n",
        "\n",
        "# Calculate missing values summary\n",
        "missing_summary = missing_values_summary(users)\n",
        "print(\"Missing Values Summary:\")\n",
        "print(missing_summary)\n"
      ],
      "metadata": {
        "id": "1Z5ckySrzG7t"
      },
      "execution_count": null,
      "outputs": []
    },
    {
      "cell_type": "code",
      "source": [
        "# replace outlier with nan\n",
        "users.loc[(users.age > 100) | (users.age < 5), 'age'] = np.nan"
      ],
      "metadata": {
        "id": "9UVOLAmzztay"
      },
      "execution_count": null,
      "outputs": []
    },
    {
      "cell_type": "code",
      "source": [
        "# Calculate the mean age per location\n",
        "location_mean_age = users.groupby('Country')['age'].transform('mean')\n",
        "\n",
        "# Fill missing 'Age' values with the mean age of users from the same location\n",
        "users['age'].fillna(location_mean_age, inplace=True)\n"
      ],
      "metadata": {
        "id": "tDnygCpmz9S5"
      },
      "execution_count": null,
      "outputs": []
    },
    {
      "cell_type": "code",
      "source": [
        "# Calculate missing values summary\n",
        "missing_summary = missing_values_summary(users)\n",
        "print(\"Missing Values Summary:\")\n",
        "print(missing_summary)\n"
      ],
      "metadata": {
        "id": "0RjfbwCI0J-9"
      },
      "execution_count": null,
      "outputs": []
    },
    {
      "cell_type": "code",
      "source": [
        "# replacing the remaining missing values with mean\n",
        "users['age'].fillna(users.age.mean(),inplace=True)"
      ],
      "metadata": {
        "id": "H9IY5tM60gq1"
      },
      "execution_count": null,
      "outputs": []
    },
    {
      "cell_type": "code",
      "source": [
        "# Calculate missing values summary\n",
        "missing_summary = missing_values_summary(users)\n",
        "print(\"Missing Values Summary:\")\n",
        "print(missing_summary)"
      ],
      "metadata": {
        "id": "VeLTvljJ0nxp"
      },
      "execution_count": null,
      "outputs": []
    },
    {
      "cell_type": "code",
      "source": [
        "# dropping age_group column.\n",
        "users.drop(['age_group'], axis=1, inplace=True)\n",
        "dataset.drop(['age_group'],axis=1, inplace=True)"
      ],
      "metadata": {
        "id": "MCrySYa81ABH"
      },
      "execution_count": null,
      "outputs": []
    },
    {
      "cell_type": "code",
      "source": [
        "# Calculate missing values summary\n",
        "missing_summary = missing_values_summary(books)\n",
        "print(\"Missing Values Summary:\")\n",
        "print(missing_summary)"
      ],
      "metadata": {
        "id": "J0r-AfMBdZz9"
      },
      "execution_count": null,
      "outputs": []
    },
    {
      "cell_type": "code",
      "source": [
        "#exploring 'publisher' column\n",
        "books.loc[books.author.isnull(),:]"
      ],
      "metadata": {
        "id": "gQheE38jdsWC"
      },
      "execution_count": null,
      "outputs": []
    },
    {
      "cell_type": "code",
      "source": [
        "#Filling Nan value as other\n",
        "books['author'].fillna('other',inplace=True)"
      ],
      "metadata": {
        "id": "kFy4OtSLdz-q"
      },
      "execution_count": null,
      "outputs": []
    },
    {
      "cell_type": "markdown",
      "source": [
        "## ***6. ML Model Implementation***\n",
        "**Building Recommender Systems**"
      ],
      "metadata": {
        "id": "iupkTjUCtBQ4"
      }
    },
    {
      "cell_type": "markdown",
      "source": [
        "# **Algorithms Implemented:**\n",
        "### **1 Popularity Based Recommendation :**\n",
        "* **1.1 Popular in the Whole Collection**\n",
        "\n",
        "We have sorted the dataset according to the total ratings each of the books have received in non-increasing order and then recommended top n books.\n",
        "\n",
        "* **1.2 Popular at a Given Place**\n",
        "\n",
        "The dataset was filtered according to a given place (city, state, or country) and then sorted according to total ratings they have received by the users in decreasing order of that place and recommended top n books.\n",
        "\n",
        "* **1.3 Books By the Same Author**, Publisher of Given Book Name\n",
        "For this model, we have sorted the books by rating for the same author and same publisher of the given book and recommended top n books.\n",
        "\n",
        "Popular Books Yearly\n",
        "This is the most basic model in which we have grouped all the books published in the same year and recommended the top-rated book yearly.\n",
        "\n",
        "* **1.4  Recommendation using Average Weighted Rating**\n",
        "We have calculated the weighted score using the below formula for all the books and recommended the books with the highest score.\n",
        "\n",
        "score= t/(t+m)∗a + m/(m+t)∗c\n",
        "\n",
        "where,\n",
        "t represents the total number of ratings received by the book\n",
        "m represents the minimum number of total ratings considered to be included\n",
        "a represents the average rating of the book and,\n",
        "c represents the mean rating of all the books.\n",
        "###**2 User-Item Collaborative Filtering Recommendation**\n",
        "Collaborative Filtering Recommendation System works by considering user ratings and finds cosine similarities in ratings by several users to recommend books. To implement this, we took only those books' data that have at least 50 ratings in all.\n",
        "\n",
        "###**3 Correlation Based Recommendation**\n",
        "For this model, we have created the correlation matrix considering only those books which have total ratings of more than 50. Then a user-book rating matrix is created. For the input book using the correlation matrix, top books are recommended.\n",
        "\n",
        "###**4 Nearest Neighbour Based Recommendation**\n",
        "To train the Nearest Neighbours model, we have created a compressed sparse row matrix taking ratings of each Book by each User individually. This matrix is used to train the Nearest Neighbours model and then to find n nearest neighbors using the cosine similarity metric.\n",
        "\n",
        "\n",
        "\n",
        "###**5 Content Based Recommendation**\n",
        "This system recommends books by calculating similarities in Book Titles. For this, TF-IDF feature vectors were created for unigrams and bigrams of Book-Titles; only those books' data has been considered which are having at least 80 ratings.\n",
        "\n"
      ],
      "metadata": {
        "id": "NJb8syM2dTl1"
      }
    },
    {
      "cell_type": "code",
      "source": [
        "bookName =\"Harry Potter and the Sorcerer's Stone (Harry Potter (Paperback))\"\n",
        "number=5\n",
        "# Harry Potter and the Sorcerer's Stone (Harry Potter (Paperback))"
      ],
      "metadata": {
        "id": "Bp7YJkPDXxoR"
      },
      "execution_count": null,
      "outputs": []
    },
    {
      "cell_type": "markdown",
      "source": [
        "## **1. Popularity Based (Top In whole collection)**"
      ],
      "metadata": {
        "id": "E1vYccLrdqye"
      }
    },
    {
      "cell_type": "code",
      "source": [
        "def popularity_based(dataframe, n):\n",
        "    if n >= 1 and n <= len(dataframe):\n",
        "        data = pd.DataFrame(dataframe.groupby('ISBN')['rating'].count()).sort_values('rating', ascending=False).head(n)\n",
        "        result = pd.merge(data, books, on='ISBN', left_index = False)\n",
        "        return result\n",
        "    return \"Invalid number of books entered!!\""
      ],
      "metadata": {
        "id": "4qI9OtiUfFeF"
      },
      "execution_count": null,
      "outputs": []
    },
    {
      "cell_type": "code",
      "source": [
        "print(\"Top\", number, \"Popular books are: \")\n",
        "popularity_based(dataset, number)"
      ],
      "metadata": {
        "id": "Jq5V-MzPXxh0"
      },
      "execution_count": null,
      "outputs": []
    },
    {
      "cell_type": "markdown",
      "source": [
        "###**1.2. Popularity Based (Top In a given place)**\n",
        "\n",
        "\n",
        "\n"
      ],
      "metadata": {
        "id": "qfBcFpWRgQSk"
      }
    },
    {
      "cell_type": "code",
      "source": [
        "# we want to recommend Popular books in a given place\n",
        "def search_unique_places(dataframe, place):\n",
        "    place = place.lower()\n",
        "\n",
        "    if place in list(dataframe['City'].unique()):\n",
        "        return dataframe[dataframe['City'] == place]\n",
        "    elif place in list(dataframe['State'].unique()):\n",
        "        return dataframe[dataframe['State'] == place]\n",
        "    elif place in list(dataframe['Country'].unique()):\n",
        "        return dataframe[dataframe['Country'] == place]\n",
        "    else:\n",
        "        return \"Invalid Entry\""
      ],
      "metadata": {
        "id": "yC5we1MxXxeH"
      },
      "execution_count": null,
      "outputs": []
    },
    {
      "cell_type": "code",
      "source": [
        "place='India' # Just choosing a arbirary place\n",
        "data = search_unique_places(dataset, place)\n",
        "\n",
        "if isinstance(data, pd.DataFrame):\n",
        "    data = popularity_based(data, number)\n",
        "\n",
        "data"
      ],
      "metadata": {
        "id": "T9KV-j_xXxa7"
      },
      "execution_count": null,
      "outputs": []
    },
    {
      "cell_type": "markdown",
      "source": [
        "###**1.3 Books by same author, publisher of given book name**"
      ],
      "metadata": {
        "id": "q72jlDKvhGhT"
      }
    },
    {
      "cell_type": "code",
      "source": [
        "def printBook(k, n):\n",
        "    z = k['title'].unique()\n",
        "    for x in range(len(z)):\n",
        "        print(z[x])\n",
        "        if x >= n-1:\n",
        "            break"
      ],
      "metadata": {
        "id": "dJfKuC_7hCjF"
      },
      "execution_count": null,
      "outputs": []
    },
    {
      "cell_type": "code",
      "source": [
        "#Search based on same author,and publications of similar to user input book\n",
        "def get_books(dataframe, name, n):\n",
        "    print(\"\\nBooks by same Author:\\n\")\n",
        "    au = dataframe['author'].unique()\n",
        "\n",
        "    data = dataset[dataset['title'] != name]\n",
        "\n",
        "    if au[0] in list(data['author'].unique()):\n",
        "        k2 = data[data['author'] == au[0]]\n",
        "    k2 = k2.sort_values(by=['rating'])\n",
        "    printBook(k2, n)\n",
        "\n",
        "    print(\"\\n\\nBooks by same Publisher:\\n\")\n",
        "    au = dataframe['publisher'].unique()\n",
        "\n",
        "    if au[0] in list(data['publisher'].unique()):\n",
        "        k2 = pd.DataFrame(data[data['publisher'] == au[0]])\n",
        "    k2=k2.sort_values(by=['rating'])\n",
        "    printBook(k2, n)"
      ],
      "metadata": {
        "id": "KU4dG5djhSY4"
      },
      "execution_count": null,
      "outputs": []
    },
    {
      "cell_type": "code",
      "source": [
        "if bookName in list(dataset['title'].unique()):\n",
        "    d = dataset[dataset['title'] == bookName]\n",
        "    get_books(d, bookName, number)\n",
        "else:\n",
        "    print(\"Invalid Book Name!!\")"
      ],
      "metadata": {
        "id": "Fs-jIyq2hSUt"
      },
      "execution_count": null,
      "outputs": []
    },
    {
      "cell_type": "markdown",
      "source": [
        "### **1.4 Average Weighted Ratings**"
      ],
      "metadata": {
        "id": "-o44jzw3jA_h"
      }
    },
    {
      "cell_type": "code",
      "source": [
        "# create a copy of df(average rating df)\n",
        "avg_r_df = dataset.copy()\n",
        "# calculate the average ratings\n",
        "avg_r_df['avg_rating']=dataset.groupby('ISBN')['rating'].transform('mean')\n",
        "# calculate the total ratings given every book\n",
        "avg_r_df['total_ratings']=avg_r_df.groupby('ISBN')['rating'].transform('count')\n",
        "# show avg_rating-dataframe\n",
        "avg_r_df.head()"
      ],
      "metadata": {
        "id": "Fs0fsooUhSCh"
      },
      "execution_count": null,
      "outputs": []
    },
    {
      "cell_type": "code",
      "source": [
        "# mean_ratin - Mean vote across the whole\n",
        "mean_ratin = avg_r_df['avg_rating'].mean()\n",
        "\n",
        "# Minimum number of votes required to be in the chart\n",
        "# choose the top 90 percentile of the data\n",
        "m = avg_r_df['total_ratings'].quantile(0.90)\n",
        "print(f'C={mean_ratin} , m={m}')\n",
        "\n",
        "# choosing total ratings in dataset greater than the 90th percentile\n",
        "avg_r_90_percent = avg_r_df.loc[avg_r_df['total_ratings'] >= m]\n",
        "# print the average-rating-dataframe 90th percentile\n",
        "print(f'The data shape of average ratings df before slicinng based on 90 percentile {avg_r_df.shape} after slicing {avg_r_90_percent.shape}')"
      ],
      "metadata": {
        "id": "pYIY45-BjfPk"
      },
      "execution_count": null,
      "outputs": []
    },
    {
      "cell_type": "code",
      "source": [
        "# calc the weighted average of books\n",
        "def weightedRating(x, m=m, C=mean_ratin):\n",
        "    ''' returns weighted avarage of items, taken is x = dataframe,\n",
        "        m = top 90 percentile data, c = mean-rating of the dataset'''\n",
        "    #  v - number of votes\n",
        "    v = x['total_ratings']\n",
        "    # R - Average Rating\n",
        "    R = x['avg_rating']\n",
        "    return (v/(v+m) * R) + (m/(m+v) * C)"
      ],
      "metadata": {
        "id": "em5Y9qypjzE8"
      },
      "execution_count": null,
      "outputs": []
    },
    {
      "cell_type": "code",
      "source": [
        "# calc score(weighted_average)\n",
        "avg_r_90_percent['Score'] = avg_r_90_percent.apply(weightedRating, axis=1)\n",
        "# sort based on the best ones(highest-weighted-avg)\n",
        "avgwr_df = avg_r_90_percent.drop_duplicates('ISBN').sort_index()\n",
        "#Sorting books based on score calculated above\n",
        "avgwr_df = avgwr_df.sort_values('Score', ascending=False)\n",
        "recomm_number =10\n",
        "print(\"Book recommendation based of on Weighted Average ratings :-\\n\")\n",
        "# choose the required nummber of books\n",
        "avgwr_df[['title', 'total_ratings', 'avg_rating', 'Score']].reset_index(drop=True).head(recomm_number)\n",
        "\n",
        "# avgwr_df.shape"
      ],
      "metadata": {
        "id": "mOzDS6Zyj2Ut"
      },
      "execution_count": null,
      "outputs": []
    },
    {
      "cell_type": "markdown",
      "source": [
        "## **2. Collaborative Filtering**"
      ],
      "metadata": {
        "id": "0JA0on9ieGPa"
      }
    },
    {
      "cell_type": "markdown",
      "source": [
        "Selecting books with total ratings equals to or more than 50 (Because of availability of limited resources)\n",
        "![image.png](data:image/png;base64,iVBORw0KGgoAAAANSUhEUgAAAwQAAAHfCAIAAABh/4hwAAAgAElEQVR4nOy953Mc15X/3XFmenIEJiDMIOdAAgxgAiEGBVr2WpZWKm85rLe2fn/CvtgX3vd+tbVVW7tb2nVc27ItaSmaosQgRogESCLnnAczwGBy6vS8OGY/YwSKBCnLIs6nVCWip/v2vbfT9557zrmkLMsEgiAIgiDIXoX6qiuAIAiCIAjyVYJiCEEQBEGQPQ2KIQRBEARB9jQohhAEQRAE2dOgGEIQBEEQZE+DYghBEARBkD0NiiEEQRAEQfY0KIYQBEEQBNnToBhCEARBEGRPg2IIQRAEQZA9DYohBEEQBEH2NCiGEARBEATZ06AYQhAEQRBkT4NiCEEQBEGQPQ2KIQRBEARB9jQohhAEQRAE2dOgGEIQBEEQZE+DYghBEARBkD0NiiEEQRAEQfY0KIYQBPnKkGU5Go3+y7/8yyeffJLJZL7q6iAIskdBMYQgyFeMLMtfdRUQBNnToBhCEARBEGRPg2IIQZCvHjQOIQjyFcJ81RVAEAR5odgk7EiS3OnXbX/atPELf9pa8mPOuO0OT1ixLyxhaz2fROPCzrIsP77h2xa19ZDH7JZbt639uQs5nlvUTrXatkOe8Lo/ebcjzw6KIQRBvmJeDLOQLMuyLAuCwPM8z/OiKNI0rVarVSoVRVEEQUiSJIpiNpvNZrMkSapUKpVKRdO08k2Fo1iWZRgm9/MpiiLP8yRJMgyj7L/p1JIkZTIZSZJYlmVZFs4I29PpNJRMkiTLsiqVimEYiqKU80K1s9ksz/MEQSj7kCRJkqQkSVBnQRBAsqjVapZlaZpWClFal8lkKIqCJsOBoijCKWA32J+iKIZhJEmC00HbGYZhWRZOmtsoqHYmkxFFMbfVDMOo1WqapnM7CnZTpBV0mnIKiqJYliUIgud5WZahFSRJ8jwPvUdsEYU0TbMsK0kSz/OSJCntpWkamikIQiaTgc6BnZUrKMsyFKtWqymKguqRJKnRaJSuU0pmGEY5SrnoPM8LggCtgG6HK4s8d1AMIQiCPCugJ2Kx2NLS0uLi4vr6ejqd5jiurKysoqLCaDTKshyLxWZmZpaWljY2NhiGsdlsXq/X5XLpdDqSJNPp9Nzc3MbGRklJSV5eXq4YikQiU1NTNE2XlpYajcZtxVA0Gu3p6YnFYtXV1SUlJSApZFlOJBJ37971+/08z7MsazKZ3G53UVGR1WplGIYgCFEUo9Ho/Pz84uJiJBIhSdJisRQVFbndboPBQNO0IAjDw8NTU1PxeFyWZYZh7HZ7QUGB1+vV6XSgReDjPT8/PzIyotfrq6qqbDZbPB4fHR1dWlqSJAmUDUmSIAIMBkNhYWEsFhMEobS0NJvNTk1N5eXllZSUcBynNCoWi/X09Oj1ep/PNzg4GAgElCYzDON0Ouvr6/V6vSKe1tbWhoaG1tbWiEeqi6bpkpKSkpKSWCw2OTlpMpnKy8tlWR4dHRUEoaqqymQyybK8vr5+//79ZDIJ4k+pKkVRFoulrKxsY2NjenoaJClUwGq1VldXm83mmZmZ0dHRWCwmy7JarbZarYWFhYWFhXq9Pp1ODw8PRyKRpqYmk8kUCoW6u7s1Gk1ra6vBYICieJ6fn58PBoNw3eGKJJPJ1dXVhYWFQCAQj8dpmrZYLKWlpT6fD+6WL/FW3qugGEIQBHkmwOqwvLzc1dUFykOtVjMMw/P8wsKC2WzmOC4UCt26devOnTvZbNZoNKbT6Y2NDafT2d7e3tbWZjAYQLUMDQ29+eabdrtdMQBIkuT3+8+fP69Sqd555x2DwbC1AqIojo2N/ed//ufy8vJbb731gx/8QKvVghgKBoP/9V//FQqF6uvrWZYFudPW1nbmzJm8vDzY4d69e3fu3InFYjqdThTFWCxmt9vb2toOHDjgcDgymcz58+evX7/u9Xrz8/Mzmczq6qrZbH7jjTfa2to4joNvcyqVun379q9+9Sur1fqDH/zgxIkT4XC4s7Pz7t272Ww2Go1ubGzodDqr1cqybEFBwaFDhwYHB+Px+DvvvCPL8m9/+9vS0tJ33nnH7XbTNA3qampq6t133z18+LDZbP7f//3fwcFB0HBgnWppaSkrK9Pr9UpHzc7O/vSnP52amrJYLGABUqvVZ8+ezcvLm5yc/MUvflFRUQGtvnDhQjKZ/Id/+AeDwUBR1Orq6vnz54PBIMjK1dVVq9UKVa2oqGAYpqur68MPP+Q4DrQISZKgcUmSvHbt2oULF/Ly8lwuVzKZDIVCDofjjTfe2LdvXzwe/+Mf/zg2NvZP//RPBoNhYWHhX//1X0mS/Od//ufW1la1Wk0QRDabffjw4d27d99++2273U4QxNra2sOHDzs7O2dnZwmC4DgOTEeHDx+2WCw6ne4vclPvOVAMIQiCPBOSJK2url68ePH27dsul+sb3/iG1+vVarWJRIJlWZvNFg6Hz58/f+XKlaamphMnThQUFKRSqf7+/g8//PDdd98lSfLEiROSJMVisfX19U35lmRZzmazoVBIrVbDNNZWUqnUgwcPQqGQJEnd3d2vvfZaUVER/MTzfCgUcrlcP/zhDw0Gw+Tk5B/+8Ifz58/n5eV1dHSEw+Hr16/fvHnT6XS+/PLLhYWFoigODg5++umnv/nNb3ief+mll0iSDIVCBEG8+uqrLS0t2Wy2s7Pzvffe+/Wvf11SUlJcXAzaJRqNDg8PEwQRCAR6e3sPHjxotVo7Ojqqq6vT6XR3d/e1a9dqa2s7Ojr0er3BYGAY5s6dO6FQKJvNejwejUYzNja2uLjocDgoipJlGRq1urpaWVlJEEQ0Gs3Pz//bv/1bkCM0Tefn5ytKCEin07FYrKio6JVXXrFYLBRF0TRdVFSk1+szmUwgEMjLy4NJtI2NjXg8DpNlBEF4PJ633347mUwKgvDgwYNf//rXjY2Np06dYlnWYrEYjcZYLEZR1OnTp6uqqsAYZjabi4qKJEmKRqOiKLa3t588eTIej3d2dn700UeXL1/2eDwqlWpjY8Pv92ezWYIgMpnMxsZGIpF4//33nU6n1+uFucJEIrG2tpZOpyVJikQiN2/e/Pjjj1Uq1fHjx8vLyy0WSzabjUQiFotlWymMPBdQDD1PdvIBfJF4EkfOF+m8T8VeuAGQTYBfyMDAwP3798vKyt56663y8nIwSwCCINy8efPDDz9sbm7++7//+7y8PLD6+Hw+s9n8H//xHx999FFtba1KpSIIQvGY2cRj7itZlldXVwcHB2tra2VZHhgYmJ2ddbvdim2JoiidTud0Ou12u9FoXFhY+PDDD+fn52Fy6tq1a3q9/o033qisrITPfFFRkdls/tnPftbd3V1bWwtzNxzH5efnu91ulmWtVuvc3NyNGzf8fj+oLlEUV1dXA4HAkSNHVldXJycn19fXvV5vY2NjY2NjKpXieX5gYKCqqur06dNms5kgiLm5OTgdTMw1NDRcuHBhbGyssrISTCZ+v//+/ftOp7O6ujqTybAsm5eXd+rUKbPZrPgDbe0ulUrl8/na29uhB8A8BtNej+lbq9Xa3t5OEEQ2mwW7UV1d3csvvwzXcWVlBSp54MCBtrY2mF6EA4PBILh/2Ww2j8cD2ndxcXFhYWFtbc3pdG66dmazubGxcWho6PLly2+99ZbFYgEPIahnNpsdHx+/fv26yWR655136uvr1Wp1roP5Tk1Anh10xXo+wPMmiqIgCIIgwBz5pl/hJxiX5P4Ev249BLYrJW8LHLh1u/yIZyl5k1srGK4BpSFbXV+3PenWXlJOoXgLblsBpeuUvt3UgTudYqeitv77MQc+eT8rjdp09TedCPZ8zBV5zE217UVBvnLAp2d4eFij0Rw9etTr9YJfrUI6ne7p6clms0ePHrXZbOCxCxM9jY2NLS0tMzMzExMT4p97Bz/52UVRnJ2dXVlZqampOXjwoF6vHxgYSKVSm25CnudTqVQ4HA6FQnq9Pj8/P51OT09Pr6+vl5WVud1umH6iKEqr1dbU1NTV1YVCoeXlZbBqKEXBP1iWBX9e5Ss+OztLUVRzc3NVVVU4HJ6engbPX6UflG+58qdSrFqtBovL+Ph4OByGR2Zqamp6erqhocFoNBJ//oQqj8NOfZL7anoS9ZB7vZSjlKoSj8LZvvAtBBspioJ50m29u8rKysrLy69evdrX17fJ1BeLxQYGBtbW1g4cOFBVVcVxnNJvm3oMee6gZeiZUD6EqVQqGo3GYjGIiTAYDFarFWbTRVFMJpORSCQWi4miqNPpTCaTwWCA9wjEemxsbKhUKrPZrLxcBEFIJBLZbJbjuHQ6HY1GlUgH5ZGgKAo8HOPxeO4Li6Ioq9VqNBqz2Sz4EtrtdghnIAhCkqRkMhmPx7VarSRJ4XBYEASlOUqsh16vN5lMyrhEkqR4PL6+vp5IJERRpGlap9OZzWa9Xp/7zEuSlEqlQqGQLMswva1EtcAbE1wHstmsWq02mUwmk4ll2WQyubGxkTs7QNO00Wg0mUyCIASDwUQiAW8Nmqa1Wq3BYNDr9SqVatM4CZq2sbGRTqeVjSRJQlvABM2yrNFopCgqFAqJomg2mzUaDUmS2Wx2dXV12xUhVCoVOMBGIhGlr2C72WyG2ZBQKJRMJkVRZBhGq9XCJaZpWhTFcDicSqUcDodarU6lUsFgkGVZh8MB1xqqHY1GE4mExWKB15/8KC4mFovFYrFUKkWSJMdxZrPZaDQqByJfOXBjb2xsLC8v5+Xl+Xw+uJ1y94nFYhMTE263G6ZFiJzPs9ForKuru3z58vT0dFlZ2e7qkEwmBwcHVSoVOMTcu3dvcHAwHA7DTUsQhCiKKysrn3/+Ocuy09PTg4ODNTU1tbW1yWRyaWmJZdmSkhLwMVLKNJlMZWVlExMTfr+/pKQE3kgbGxuBQECW5cHBwenp6aamJpfLRTxy3+7v77fZbFVVVRqNpqur6+HDh/v27YOH9AubQNN0YWGhy+Wanp5eWVlxu92CIPT29gqC0NTUBG8hURTX1tb6+vrA9ZimaYfDUVBQoNhpAEEQQqHQ1NRUNBqlKEqj0djtdsUpe3fAOzkej4+Pj3McB2F0NpvN6XTCDSAIQiQSWV1dzWazfX19Kysr1dXVuV7wCpIkGY3GM2fOvPvuu5cuXSovL1dm+mRZjsVis7OzDMP4fD6tVgvXLpPJwNsPNBYGlH1JoBh6JmRZTqfTi4uLQ0NDU1NTGxsbgiDQNO10Ol966aWysjKKolZWVvr6+iYnJxUZUVBQsH///vLycpVKJQjC4uLixx9/bDabT5065Xa74cFLpVKDg4OLi4vV1dUrKyt3795NpVJgI5FlGZ4HrVbb3Nys1WofPHgQDAaVMQTHcR0dHa2trWtra7/97W95nv/GN75RWVmpBC9MTk729fVVVlbKsnzr1i3QLjDcgfBOGLO2tbXl5eWBKVsQhLGxscuXL0ejUYgHhtiWw4cPFxQUwGBXGaR+9NFHkiSdPn26qalJEUOJRGJqaurBgwfLy8twIp/Pd/ToUXgDXrlyxe/3K+JGq9UePnz40KFDoVDovffeC4VCcFKCIEiShCiS2tpaJZCEeDREXlhY+OSTTxYXF5WBFMuyDQ0Nhw8fTiQS4Btx+PBhhmGuXLmSTqdfeumlwsJC8Ip4//33/X6/Mv6DNlIU5XA42traMpnM9evXIbIDquFwOI4fP15RUTE4OHjjxo14PA4zHQzDeL1e6JlsNnvr1q2JiYm33nqroKBgcXHx/fffZxjmu9/9bn5+PjhbZDKZ/v7+/v7+l156CS4Kz/PBYHBkZGRkZCQYDIJE4ziusbHxyJEjDofjK7nbkW0Bn49UKuV0OhVv4lwgMkiJA1J2IEmSYRir1UoQBIyUdnf29fX14eFhj8eTl5dns9kqKysvXrw4Pz9fUFAA+wiCMD8/f/XqVUmSlpeXWZZ1u90ajQYGRTAs2SQplIqFw2EYaIED+Pz8fCQSGRgYMJlM3/rWtxwOB8iUpaWl4eHhtrY2k8nkcrkcDsfw8PDq6qrFYnmSVpAkaTabS0tLx8fHZ2Zm6urqNjY2enp6CgsLy8vLlVfQwsLCpUuXoJM1Gk1zc7Pb7d5UVCaTGR0dvXDhgl6vpyjK6XQeP37c5/Ptom8VQPGEQqE7d+4sLCyAKKmrq9Pr9fBTNBrt6uqKRCJ+v39iYiI/P7+trc1ut29sbGxtKU3TLS0tExMT165du3///v79+5VTpFKpWCymUqm0Wi28OaPRKETkZbNZvV5fX19fWFiIYujLAMXQ7gFTx8zMzKVLlx48eECSZH5+PkSF+P3+aDQKY6mPP/747t27Op3O5/OpVKrR0dHu7u7h4eEf/vCHpaWl4Hp54cIFiqLMZvOZM2dgEJNOpycmJnp7e61WaywW8/v98Xg8Ho/PzMwIguD1es1ms8FgKCkp8fv9Fy9eFAShoKAAPsY6nS6RSMCA9eLFiysrK1qt1uPxmEwmkiThzXjjxg2NRmOz2QKBQCAQSKfT8/Pza2trEFKr1Wq9Xm+uFQSs1levXvX5fPX19aCourq6wuEwzHzDKz6dTvf19X3wwQcqlcput9fW1oLdSBCEubm58+fPj42NFRcX5+XlhcPhYDCYTCYlSVpcXLx69Wo8Hne5XCqVSpZlvV4fj8dhLHjp0qX8/PwDBw5otdpIJDI6OvrgwYOenp6333573759uXpIkqSVlZWrV68Gg8HCwkKNRkMQhEqlKiws5Hne7/dfvXq1qqqqoaGBZVkIn2luboZvBpigIAw4HA6Pjo663W5wgSQIIhqNzs3Nffzxx1qtVvHGAEMUvHxv3rzp8/lqa2sTicTo6Oj9+/dTqdSrr77Ksuz9+/dv3LjR0dHhdrtXV1c/+uijZDJZVVV18uRJGI7zPD8yMnLp0qWqqqqKigqIS7p58+bNmzfj8bjNZrNardAVKysruUavF4YXY+4P5nG2bgcBBPOnm/YH5U0QBMjuXZxUEISZmRm/319WVjY5Oen3+zOZzPr6+tDQ0P79+8H5hmGYoqKiU6dOcRy3tLQEkUoOh6O0tJR4lB9o2ylakiQVO4QgCOFwWKvVrq6uBoPB0tLSoqIikCmZTGZycnJmZqapqQkCxOBJnJqaggHhF7YCxE1lZeX169cnJiZisdjo6Gg4HD59+jQEWEEX2e32xsZGeOQhJG1r4TRNGwwGl8tlNpvBRr6tQn0q4Arq9frKykqYzmMYpqCgQKPRpFIp6JxoNBoMBuEtWldXl5eXl+s3tqk0q9V68uTJ8fHxy5cvm83mrZ2vzKrDYBv8wGia5jjO5XJtOwGHPCMohnYJvCyCweDNmzcHBgbKy8sPHjwIISSQgCsvLy+Tydy6dev27dslJSWnT58uKSlhGGZ+fv7KlSuffPKJw+H4u7/7O5i+IQgiHA7fuHEDcoTAEw72CY1GU11dXV5ens1ml5aW3n///Xg8/q1vfauqqkqtVhuNxjt37lAUdeTIkVdeeQViDSADB8QpkCQJpqPW1tb9+/dD8jFRFGE6r7a21ul0ptPpUCh08eLFhw8fnj17tr29Xa1WWywWm82W+64RRVGtVre2toJf4czMzL//+79/+umnBw8eBI9ImEgaHR212Wxms3l2djYej4MigXwb/f39dXV1b7zxhsPhABkEzqSSJME4r6Ojw2QyQRPy8vI0Go0kSTCQ+va3vw15OxYXFx8+fHjr1q0PPvhArVZDo3IrybJsS0vL66+/DhINMoWAyydkMIN3DSQ0g84nSdJut3/3u9+FcJKxsbF33333xIkTp0+f1ul0arWa47jZ2VmTydTR0dHe3g7DaI1Gk5+fD7nUOI47cODA2bNnJUkaHh7+/e9/39nZWVVV5fP5eJ7PZrNwIvFRIr4rV654vd7q6mr4nIiiCPuAhL1x48bVq1ftdvsrr7xSWloKNwnMbNpstr/cXf4X5Ourh8BGq9FoYrEY6AAlDSCg1WqdTmcgEIDJ7txnCiZn4TO/6agnAQyug4ODYON58OABwzAbGxuSJPX09Lz22mswjcUwjNvtPnLkiNVqjUajeXl577333v379wsLCw0GQyqVWl9fhyxEuRULBAIwGQSzVDab7fTp0w0NDZFI5Pe///3Y2Njo6KjdbidJMhwO9/f3C4Lg9/s///xznudjsVgymRwZGTl8+LCiZh7fEDAVu93uxcVFmA7T6/XNzc3KTD3DMMXFxadOnVKGXmC73VSUWq0uKio6d+4cDFogA+TTduxWwIH64MGDigM15I2EKWyLxXL8+PGjR48uLi5euHBhcnJyfn4eOn9bGIYpKytrb2//+c9/fvfuXdBt4Eam0+kUbwTIC9Xa2up2u69evToyMpJIJHbylEKeERRDuwfGQ4ODgyUlJW+++abP54NxGPFIKo2Ojt64ccNkMr3++uu1tbXwq9VqtdlsS0tL165da2pqamtrI0kShjILCwswYoPJfuUV4HK5CgoKRFE0mUy3b99Wq9WVlZXNzc2QlRWGbm63u7GxEUSJ4olCEIRGo6mvrxcE4fLly5AmBGoIKsFms7lcLlmW/X5/T0+P0Wj0er379u1TXoubxh8kSSquQlqttry8/MqVK4opWBTFQCAwOzvb0tKi0+kmJycDgYDVaqVpGuJa0+m01+uF6XClZCXprcfjqa+vt9lsylQCmKZomjaZTFarFSbXISRVrVb/6le/8ng8NTU1ueMkGDLCPBrM2SuTg48PxADRSRAE5MyFpHANDQ2Qk21jYwPmH71eb1NTkxL4I8tyOByGy6TX661Wq0ql4jhuamrq0qVLfr9fmapQTs1xXG1t7cTExGeffeZ2u5V5BKWe09PTN27cUKlUb7zxRlNTkzKulR/F0+Gg8K8HuBwWiyU/P39iYmJ8fNzlckH6GfLRChJgUfjDH/4wOjpaXl6uTOAqTjAWi6W8vFyZqFKc7ont1m3ItT/Jsry0tDQyMuLz+To6OkAlQKrooaGhmZmZ3OcdEjGDM1BeXt76+jpBEB6PRxCEiYmJQ4cOKW6F8CCPjo6qVCq32w0vLrVa7XK5fD4f+Nv927/92+3bt5ubmw0Gw9zc3Pj4eEtLy0svvcRxnCzL5eXloiiOjo4uLi5ardYnUbow71xdXf3555+PjY2NjIyUl5eXlpbmejTDQEKRRzuVo1Kp9Hq9Xq9XpFKukXsTm7ytH1NV0FXgGZ17Onjn2O12n89XXFwcjUZ/8YtfjI+P19XVPaY0nU534MCBu3fv9vf3g/0MPgQej2dsbGx6erqmpsZoNHIcV1RUZDKZxsbGZmZmdioNeXZw6nGXgLPbxMSEIAj79u0rLi6GR1QBXjFLS0t1dXUQYALbaZp2u92nTp1aX1/v6elRkrjX1dV5PJ6bN2+OjY3lhhjklqlsIbZ8FJVoNUB5CAVBgFdMV1cXhLQ8puRNheduV8y2PM+n0+lEIrG8vBwIBIqLi/Pz88lHiefBb7GhoaGyslIUxcnJyXQ6DU5OBoNBkqSZmZnl5eVMJrMp1kP+88gpxX6T2+dQJbD0NDU1GQyGiYmJSCSydU/5zyG2fFS2ktsb8qNI1039ID+KetsUUZJ7IsXwptPplIn/TXi93sLCwuvXrw8NDW0KJ0kkEiMjI+vr662trbW1tbkWfpRBf52QJGkymWpra7PZ7GeffdbT0xMKhTKZTDabzWQyqVSKZdnm5mar1Xr9+vWxsTGwPmaz2WAweOvWrZGRkcbGRsUeDGFfmUwmnU6n02kwMxOP7qtsNpt+BJxifHx8eXl53759HR0dJ0+e7OjoeOmll9rb27PZ7MDAAASKQz3hFZFMJldWVqLRKLj5l5WVuVyuiYkJyKEM5tJgMNjV1TUxMeHxeFwuV+4SGfDhr6ioyM/PHxkZAY+igYGBWCx26tSpl156qaOjo6Oj49SpU/v27QsGg1NTU7l1eHw36vX6uro6lUp1+/bt5eXlhoYGq9WqPEFKDyidoxhTdyrwMY8MvHByS9u63EfuzlsvjbLSiHI6iqI4jistLbXb7ZDO+zFWHPBnOn36NEmSXV1dsViMIAiDwVBbW2u1Wru6unp7eyEJU27U7Rd2I7Jr0DK0S0AMrayscBzn8XgUm5BCOp1eWFggSbK4uDjXEAJDNEgjNjs7C1POYNopLi7+zW9+c+XKFWU09oSAR05XVxfYTjiOg+yoUE+NRtPS0tLb23v58uWqqqonsVoTO4yQIFMcy7KCIMCr8JVXXgEHZPAifPjwoclkqqysFARBp9MNDAy0trZqtVqO46qrq0tLS3t7exmGOXToUFVVlTKtDkJqZmamu7sbQkW0Wm1JSclOGcZomrbZbG63e21tLRKJgNe5Um2e51dXV4eHh8EjG/KjQGjGM5JIJCYmJu7evQvJ3CDvPvwETgOrq6uiKA4NDY2OjlZWVoKX2NbBvdFoPH369E9/+tOLFy+WlpYqdZNlOR6Pz87OsixbU1MDvhGSJEE4iSzLGE7yVwhJkhqNprGxcW5u7vPPP//ggw/Gx8cdDgdkoLZYLLW1tdXV1efOnfvss89++9vftrS05Ofnp1Kp6enp7u7uwsLCM2fOGI3GcDgsimIwGLxz5w5kryEIAvwCQXwvLy/fuHFjbGwMfoKkf0NDQwRBwMMCNxssQGG323t6er75zW8Sj0xQPT09HMetrKx0dXXF4/H29na73a7X6zs6Om7evHnp0qWlpSWn0wnegX19ffn5+QcPHrTb7YoaU9prtVohOHxlZUWtVvf09Gi12oaGBo7jwGpiMpkqKipu3LgxPDx8/PhxnU73+G85+cgK7vV6HQ7HzZs38/PzKyoqYJId4Hl+dnb2k08+gecFIhsaGhqUtENPfr3A8LaysgLyFJ4mo9HY0NAAluncWhGPbMChUKizs3N9fR32N5vNlZWVDMPktoskSafTWVBQsLKyEgwGlXAzZQdQNqDSOI7bt2/fxMTET3/6U9BhGo2mpqbm6NGj4AYwMTEBGXt2pqgAACAASURBVCPBizGTySgLxj15e5EnBMXQLgHXNsgwC8P3TTco5AzlOA5CrDcdDglY4/E4rNtHEATIhe7u7gcPHjQ1NTU1NT35OIDnebAxwPSNw+GwWq3K2jcURVVUVBw5cuTixYvd3d3Hjx//wgLBtqE8txD0RBBEMpns6+sLhUKpVGpubq6iogLyjMEwa21tbXh4uL6+Pj8/Px6PWyyWiYmJQCDgdDpZli0vLz937txHH33U2dk5NjZ26NCh9vZ28KMiHsmsRCIBrz+Hw/HNb35zWwVDPooR0+v1y8vLYHnK3SGVSg0MDEAWA3g3nTp1ChYkesL+3Bb5UcxIKBQCd4GamhoI8icIIhaLdXd3Q2D/xMQEx3FHjx4tLCwEsbsJmqZbW1v7+/tv374N7lzKKSCNAsMw4EYAzZmampqbm8tkMiqVqqamxuv1ohj6qwJG+a+++qrNZuvt7b137x74BlEUtW/fPp/P5/F4XnvtNbPZfO/evWvXroEzHEVRjY2NBw4cgIUyIIBLp9MNDw/DOgwEQeTn50NCP6fT6ff7u7u7YZhEkiRElQuC0NDQkCu7SZJ0uVxHjx4FX2aVSlVUVBQMBj/++GOapiGrxenTp48ePQrGy+PHj3Mcd/fu3Tt37sDghCTJ0tLSgwcP1tXVQeYIl8sFxk6YzdHpdC0tLUNDQ9FoNBKJUBTV0tICy2hAtSHzYV1dHQQZ6PV6s9ns8/kcDoeyD8yMa7VaZbEtiqLsdnt9ff3Y2Njhw4cLCwuV+XqWZV0u1/j4+I0bN+Dmp2m6vLwcQklgH7AtFRcXwwtnk8EbFjiDn8A8v7Cw8ODBA6U/nU6n2+222WxGo7GiogKC6QBwYbRYLCMjI/Pz80r/G43GwsJCWFINwlMIgjCZTPX19el0OpVKURTl8XhSqRR8I2CMZ7VaFSO3w+E4efLk5ORkJpOB7nU4HKdOnTIYDD09Pffv3+/v74fM4xB14fF4NsX9Ic8L7NZn5fEjHiVR3rZaHtaOJh5Nh8NCRUtLS9evX7fb7U/+8YZoEbDBEASh1+s3reZosViOHTvW19f36aefWiyWxwTxQnNCodD9+/chbRrLspWVlTU1NQRB6HS65uZm+HhDQoHz58/b7fbq6mpRFCcmJlZXV2tra8GjMxKJzM3NTU1NVVdXg6/3gQMHrFZrf3//4ODgzZs3V1dX33jjjYqKCoIg1Gq10+lsaWkBc4her4ds+o/pWBgnbU26A0tglpWVwapDkMP+uaQsAzepAwcOgOcmLLFJPBo4ZjIZSKvv9/tra2vz8/M1Gs1OwV92u/306dPDw8MXLlzYeq1zbypBENbX16empqamptbX19988034CuLo8K8HmDwqKiqyWCx1dXULCwvRaJQgCLVa7fV6bTYbeP6dPXu2vLx8cXExmUxCrqmSkhLwUCYIQqfTHTp0CAIalIsLUagGg+H1118/cOCAKIqK4jEYDMXFxTqdTqPR5OabJgjCZDKdO3euoaHBbrerVKrvfe97q6ur8JLR6XQul8vj8SjPl8PhOHbsWHFx8eLiYiKRALMrhHxCziSNRvPyyy8nEgll5Q2WZZuammia9nq9RqMRFtXKXTMLRMDf/M3fZLNZSJ8Glk6Hw6EYe8xm88svv5zJZCAqTRkTHjt2DIwriqM0SZJms/mtt96CrGlKn1utVkUJwZbi4uLvfOc7kMst165DUVRJScnbb79tMBjAI/PVV19tamrKfRNCIkow2//jP/6jz+dTamUwGNrb2yHAVinWaDQWFBSYzebjx4/X1tZ6vV7YX61WHzx4sKCgwOl0WiyWs2fPtrW1gVIsLCz8/ve/X1BQoBTCMEx5efmPfvSjZDJZXFwMrymPx3PmzJna2trFxUXIucAwDOQs2JpXCXleYLfuEnhHwPqLucleFSAjXzKZBOt3rh4Cr1ue541GY64dGPIGjY2N3bp1q7e3F2LBvlASwYu4pqbm7NmzEIpFkmRuAAXsUFZWdvLkyZ/97GfXr19Xgph2IpVKTU5OPnz4MJPJaDQalUpVUlJCEATHcQ0NDadOndLpdOFw+MMPP/z1r3/d3NxcXl4OKxLE4/GFhYULFy5AUhDIzHvy5EnwzTSbzbBzQ0PD7373u66urpKSEnAxBrfiM2fOQLQUNOExGWZTqdTa2hokYFQcfeBAmCU8d+4cJEGhaTq3k3cNSZJGo3H//v2vvfYaKDCwD8Fnz2Aw7N+/v729fWNj45NPPpmenp6fn/d6vTuVxjBMXV1dR0fHe++9d/fuXSUuRq1WQ0Ai3DYMw2g0mvLycq1Wm0wmYUVuDCf5KwTuNMiKWVFRAY88XFYl0SLYDGpqagRBgJsnNwejWq2GZck3TbvAJ9ZsNtfX1289Izw+mz6Q8MAqn+cjR46AEx7M0eeOwYhHCU5ramrAzw+KzZ2OgXtVkiRlIyQ8PH78OHy8Dx8+DBPHufoDHICgfDBWQeilItogz7WyA2yEpcQ8Hk9ugbIsa7Xa1tbWTXc+NCf3pBDHqnSasidYXGAKDB60uro6OPum/gQjH6yPprwkOY6rrKzclBVT2b+srAwcvWF/MDs5nU54RcAaKbCn1Wo9dOiQkkYBOlOn0zU0NCj7QIdD1taysjK4kaDwXedfQJ4EFEO7BJ52m802Ozu7sLBQWVm5KZsFDNdkWZ6dnU0kEmq1Wpls4nl+eHiYoqjS0tJc3yAI7zp8+PD4+HhPTw8sA/SElYHZulzvk02vVHib3L17d3R0FFJL71QUSZIWi6Wjo6OxsRFCwfPy8hSZRdM0y7KQ17WhoeHDDz9cWloCp8vp6en6+npInyPLcklJCWRBXFtbUyZ94M1bXV198ODB4eHh5eXlZDIJr2mIw8rtxq1CUOlAv9+/sbEB0V6bbCSgU00mU64zwWPCSbY90bZAOAnHcYo5StG4sHASJG6BVEOjo6NNTU07DePg/jl+/Pj9+/e7urpqamrg2nEc53A4EonE+Ph4U1MTJNqGACWYfXvy2iJ/YRRt8ZiRhpLUdNvDHzPo3+kruPVcioJRtkAE1mNqDhrlMffq1p9yQ9a3bS+8lHLruWk30Apbj9p2z2133nrsY3bbVOxjXq3bVkBRrlvZuj23hNz6bBqmKhu3VmbbfkC+VFBm7hL4mEFI5L1798bGxiDFiPxoLS2Y0i4sLOzt7R0aGoL80bIsw+KIn376qc/nO3DgwKYHSa1Wl5eXHzp0aHV1tbe3d6dFqjcB0kfKYWttIUsYJHW8d+8eZGXcqUC9Xl9VVdXW1nbs2LG2trby8vJN+ewhsiMejwuCwDCMKIpTU1MrKytnz549d+7cq6+++sorr5w7d+7gwYOwShG4ACtrRMObFByBc6XPplbkxmoRBAEbU6nU7OzsrVu3ILVPbtLFra1WeEzXKUuPKVEbj+/n3Eoq+5OPljHSaDQlJSVOp3NhYSEYDG6dkVTqA7MMZ8+ejcVivb29xKPMBdXV1Uaj8e7du8PDw6AUYVyoZBjfqXoIgiDI7kDL0C4B80N1dXV9fX1nZ+cvf/nLo0ePlpSUqNVqCIZ0u90FBQUnT5783e9+9/vf/57n+dLSUki6+Mc//nFycvL73/9+RUWFYmBQijWbzfv373/48OHt27cf86VX9ofPOcRPKcvc2O12CGTI3ZnjuP37909NTf3iF7/IdQ/ctthtB2eiKMZisUAgAIsxXbp0SZKkioqKTCYzODhIURREw0KEBcMwjY2Nvb294+PjNTU14EVktVrVanUgEOjp6aEoqqioCNwneZ5fWVkZGRmBIDiYk4IsKZIkwUk5joM1PTo7O0dGRo4fP97a2rrtoGqndm0K64hGo5OTk0pjNRoNBAbuNDsJEYKDg4PKlNamvJTEo+RsPp+vt7d3ZWVl63IEuXqL47jW1taenp7z58+DXV2tVldXVx85cuT69evvvfdeMBgE56d4PO73+8EDCfUQgiDI8wXF0O4BF9qzZ8/SNN3V1fXzn/+cZVmWZUEJvfnmmw0NDe3t7ZCH+r//+78tFgvkh2VZ9jvf+Q6EDEAyQCpnSWfwxGxvb19cXNzqec0wzKbpcPgw37hxY3R0VFEwZ86ceeedd8AgRFEUfH1hpv/YsWPd3d1+v3+T/XaTo8BWKIpKJpOffPIJZEKCBD/nzp3bv3//+vp6X18frH1NP1q6S6PRQBaisbGx2dnZQCBw7do1SZLUajUstXHkyJH9+/fD0qSpVOratWuDg4NgKqNpurGx8Yc//CFJkplM5tq1a4uLi+Cgk06n1Wr1yZMnz54963Q6N7Ui1xVjU+9B3+b6PczPz//P//wPyC+CIDwez49+9CNYxA1CTnKbT5JkJBI5f/78vXv3oNi8vLxXXnmlubmZoqjc/fV6fWlp6b179+bm5iDyS6PRKPXc5DHgdDpffvllSAEFtcrPz3/11Ve1Wu29e/d+8YtfGI1Go9EIqbcNBoOyWhyCIAjyvKB//OMff9V1+LoCny6IKfB4PJAt1GQyud3uqqqq6upqiGNyu92wLCJN0xzHlZeXd3R0HD9+HNbpJB5NjtTU1IDXHnyJjUYj+KDU1NTkusWwLFtcXFxZWWkymahHa6CaTCaoA5zL5XJVVlZCGjeVSlVfX+/z+UAEUBSl0+nsdjtkUoYzEo/S4btcrrq6OvBz3NRYsGdA7kStVms0GktLS0+ePHns2DEIu5UkqbW1tbKyMjd7NeRlttvtZWVl4DYEOWQ9Hs/hw4ePHTtWVFQEkfk6nW5TE0pKSiorK2GpMuhbcFRqbGw8duzY4cOH3W73JvdJqCQk/FXSYOY2Qa/XV1dXw9LiSm4n5aRFRUU1NTUQn6LVauvq6uAUcDg4gIN3p8vlgv3Ly8shK53D4aipqQGlAupHq9X6fL6CggK1Wl1cXLxv3z5QXZCRBSJKlFsIErc0NzdD5BHcVG6322AwgAO7yWSqqqpqb29vbm5Wkvd/abf2X5RsNtvZ2VlYWAh36VddHQRB9iJfHKyEPB6YpYKwanAMAl9mnU6nUqlg4apMJhOPxyHoTKvV6vV6iK4iSRKymiYSCfjYK7NmPM9DaVqtFjKIyLIMCWQ3bUylUolEYpODMOQ3EkURFpmHBZyJR3lXk8lkNpuFBZUIgoD5L9i4yYVZAZx1IpEIJI+GKCdYtwuSl8Biy8qJlJ5JpVJwLoIgkslkMpkURVGlUkGOE/j4QcamTXm3VSqV0WiERbkhmRBshGori9hvuhaZTAbiljmOyzWhgbdWIpFgGAYqE4vFNsW90zRtMplYluV5HlZVAwkLnQaVzPUBomlaq9XCxCiE3YHGyj0XLOWYzWZhYXBYtglc3ZVrDeuO8TwPN4Yy9QltSafT4IIGS6RBXrsXRgnJshyLxX7yk58cPny4o6PjqXKNIgiCPC9QDD0rSgfm+tLmmiuUfWCH3KDWTSXkfrlzT/EkO2+KHdtUyW1L2FrDnQ7PbeCmNm71edp61KYSlMO/sAmKsSe3/E19+5jT7dTwTRdl25NuLeRJ+nnbw7f9adOx227f5D++qdNeDFAMIQjy1wAapZ+Vx3+bc3/aaYfHa5cn3PnJv5E7fcKf5MAnb8K2Pz3+8J0q9lSf/yfvusef9Kkques6PK8zIgiCIM8ChtYjCIIgCLKnQTGEIAiCIMieBsUQgiAIgiB7GhRDCIIgCILsaVAMIQiCIAiyp0ExhCAIgiDIngbFEIIgCIIgexoUQwiCIAiC7GlQDCEIgiAIsqdBMYQgCIIgyJ4GxRCCIAiCIHsaFEMIgiAIguxpUAwhCIIgCLKnwVXrEQRBvvbIspz7J0mSz6W03HK23bi7ov5ihyPIE4JiCEEQ5GuMLMuSJEmSJIoiQRAURdE0TVHUrtWDLMvZbDadTjMMo9FoaJomCEKSpHg8LoqiXq9nGOYJC5ckKZPJCIKgUqlYliVJ8mmFVCaTicfjHMdptVrUQ8iXB4ohBEGQrzGyLEcikeXl5UQiQVGUSqXKy8uzWq0qlWp36kGSpEAgMDAw4HQ6q6qqOI4jCEIQhAcPHqytrbW3t9tsticsmef5+fn5lZWVkpISt9sNuuoLmyNJEkEQFEXJsry8vHz58uVDhw7V19ejGEK+PFAMIQiCfI2RZXl8fPyDDz5QqVQGg4HnebfbfezYMa/XS9P0LgSELMt+v/+zzz6rr6/3+XxarVaWZUEQOjs7JyYmGhsbrVbrExaVzWZnZmb6+vo4jnM6nU8ihgRBWFtbk2XZZrMxDLOwsPDLX/7SYrHU19fLsox6CPmSQDGEIAjy9cbv9w8PD585c6aiosLv9z98+DCTybzzzjsGg0GWZZ7nBUEAoxFFUQRBiKIoCIIoijRNsywLG2VZFkWR53k4JJ1Ow7+Vs6RSqWQyKQhCKpWiKIplWZqmQSfRNA1CB/4kSRKm0uDPTCbD83w2mxUEgWEYmMUjHhmB4CywnSTJeDx+/fp1WZZPnjxpNpt5no9Go9lsNpPJSJLEsiyUrKgiZX4QDocZQ5IkwbAEzYTawkmhNwiCgPpDb0A5kiSBOQ32oWla6THkhQfFEIIgyNcYUAYWi6Wpqam1tTWVSoEeOnfunFarjUQik5OT8Xhco9EUFRXl5eWB4Wd5eTmdTut0uqKiIpvNRtN0PB5fWFhYX19nGGZlZSWTyWx1yuZ5fmlpaW1tLZvNOhwOn89HEMTU1JRer/d6vRRFxWKx2dlZo9FYWFjIsiwcKAhCMBgcHBxMpVI6na6wsNBut8POy8vL6+vrPM8bjcaioiK9Xj89PX3p0iVZllmWra6uhimzaDQ6NDS0sbFhNpvLysqMRqOivRKJxPLyMsuyLpeLZdlYLBYIBDiOs9vtkUhkcXExFouZTCafz2c0GlOp1NzcXDAYJAjC5XIVFBQwDLO0tJRIJFKplCzLNTU1qVRqamoqmUyaTKaKigqDwYB6aC+AYghBEORrD5hzMplMIpEQRdHhcLAsu7Gxce/evZmZGY1GE4/Hp6amTpw4YTAY5ubmpqam0ul0PB4vLi4+cuSIVqt9+PBhf38/y7Icx83PzwcCARAiuacIhUK9vb1WqzUcDofD4VOnTpWVlV29elWj0Xzve99Tq9Xz8/MXL17cv3+/x+PJPWpgYGBjYyMWi21sbNTU1Jw4cUKj0Tx48GB4eBhMOPF4vKqqqrGxMRAIBINBnudHRkZMJhO0a2JiQqfTbWxsBIPBEydOtLW16XQ6sDytr6/fuXNHq9WePn3aYDCsrKx0dna63e6qqqr+/v7p6WmVSuV0OmHSbXh4eHBwUBTFdDrd19d34sSJoqKirq6u4eFhtVpdUFDg8XgePHgwOjpqNpstFovL5dLr9V/F9UT+0qDgRRAE+Xojy3I0Gu3t7b127dr58+cjkcjx48f1ev3g4GBnZ6fX621tbfV6vWNjY4ODgxRFeTyepqammpoaWZY///zz4eHhiYmJzs5OQRBaWlr27dsH81NbxVA2mzWZTK2trW1tbbFY7MKFC4lEgiCInp6e5eXlZDI5Nja2tLSk1WoV9yBRFFOplEqlqq+vb21t1Wg09+/fHxkZmZyc7O7uFkVx3759R44csdvtn3/++djYmMPhcLvdPp/v6NGjlZWVFEXBtFddXV1bW1s0Gr18+fL6+rpSJTD2LC0tZbNZWZZjsdjc3ByYvvr6+nieb2xsrK+vNxgMy8vLn3/+OUEQTU1N9fX1i4uLnZ2dsH9fX5/H42loaMhkMt3d3Wq1+tChQ01NTXq9Hr2U9ghoGUIQBPnak8lkVldXCYKYmJjQ6/UlJSWSJD18+HBqaqq2tnZ+fj4ajWYymZWVFZ7nRVEMBAJra2vhcHh1dXVubo6m6bW1tTNnzjQ0NDAMEwqFhoaGNvk7kyRpt9ubm5srKytlWZ6bm/vVr361sbHR0tIyPj5+//79AwcOjI+PFxUV+Xw+ZWqJoiibzVZfX19TU0MQRCqVunDhwsjIiNFozGQyra2t9fX1arVarVYPDw9PTk56PB6LxaJSqSorKx0Ox+TkJMuyVVVVtbW1PM9XVlbeuXMnHA4XFhaCTAFXJ/D7kWVZSTSgUqk4jotEIsFgMD8/nyTJmZmZ4eHhsrKyxcVF8FWam5tLp9OSJFmt1vb2drfbvb6+rtPp1tfXl5eXy8vLVSrVX/pCIl8RaBlCEAT5ekOSpNlsbmlpOXv2bHt7O7gNZbPZtbW1TCYDiiedTpeWlno8nqWlpU8//fThw4eiKOp0Opqmk8kkzEyZTCaVSsUwjMFg0Gq1m3xlSJLkOE6v14PbtcPhkCQplUqVlZX5fL7u7u7x8fG1tbXa2lqr1aoYVCiK0ul0JpOJZVmVSmU2mymKikQikUhEpVLBdpqmjUYjx3GJRILneeKRIxRUgKZpnU4HrtNGo5EkSfCAzq3Y1g5xuVxHjx61WCy3bt364x//OD09HQqFkslkPB4PBAKhUMjr9dbV1YGLtMViMRqNDMOAKlKr1ZcuXfq///u/hYWFTeYx5EUFLUMIgiBfe9RqtdPpLC0tBe+fsbGxqqoqs9nscDgOHjxosVggDSNJkj09PaOjo8ePHz948ODDhw/n5+dBZFAUFY/Hs9ksTdOxWCyZTG7VAZCMURRFWZbX1tY0Go3RaLRYLHV1db29vbdv31apVLkGFXDrSafTiURCEASYzqNp2m63q9Xq1dXVSCTC8zxJktFoNJFIuN1utVpNkqQoipIkgQd3rtbZpHsgbI1hGAg3g0i3TCZDEATHcXV1dWaz+ebNm93d3RaLRa1WW63W2trahoYGtVpNEIRGo4GqKp3DMExdXZ1Op+vs7Lx7925hYeGuMxQgXy9QDCEIgnyNyV2wAuakXC7X+Ph4Op1uamoKBALz8/Ngy2FZVq/XQyx6Mpn0+/1+vz+VSnEc5/V6V1dXBwcHtVotx3Gjo6PRaHTTiSiK4nl+aGgIslH39/c3NzeDfKmoqLDb7QMDA6+//jrkE1LUAwig4eFho9EoCEJfX5/JZKqrq6NpemFhob+/n6IomCPTarXV1dUmk8lqtc7Pz4+OjsK011YBlPtvvV6fn58/MjLy4MEDt9s9OjoaDocJgohGo6lUKp1Og/GJIIji4uKFhYWNjY1QKGQwGOBYRQaBbovH40tLSzzPg3gCAfflXTvkrwf6xz/+8VddBwRB9i7ZbLazs7OwsNDn8zEMDs+eGshAzfN8XV2dw+GgaRosMbW1tYWFhRqNJhAIrKys+P1+URTz8/MhMWMkEhEEgWVZo9FYWVlZU1NjNBqj0ejq6moqldJoNBaLpbKysri4GIwokiStr69brVaLxbK8vLy0tGSz2U6dOlVYWAh5g8At6dy5c2BKgbqB9zRBEDqdLhwOr6yssCzb3NxcW1trt9s1Gk0ikQgEAn6/nyCIlpaWhoYGk8lE03QkEolGo1qt1mg0hsNhcACXZRmETlNTE8zEgS1HrVYnEolQKJTJZFiWtVgsJSUlBoNhenp6fHw8Ho/7fL6Wlhafz2c2myFb9/LyciqVslqtEKRmNBrr6+tVKhXotvHx8Vgs5vP5Dh48aLfbnyRXJPJ1B189CIIgX2MoiiovL7darfn5+aBLmpqaPB6P2WzW6XRHjx5dXFwMh8Pg/mw2m61Wq1arhWQ8er0elhuzWq0Gg8Hj8YRCIY7jzGazIAh6vV6j0RAEQZIky7JHjhzheZ5hmEAgIIqiy+VyOp0Mw0iSFIvFYrFYTU2Nz+fLlQ4qlaqsrCw/P1+SJPDgtlgseXl5EBi/b9++wsLCtbU1QRCsVqvT6YToraamJovFEo1GXS6X2Wz+wQ9+4Ha7QffU1tZ6PB6n06nYhzQaTVVVldFoXF9f12g0EI3PcRzU3Gq1siybn58PE3P19fV2uz0QCAiCACYorVZ76NAhnuc1Gg3YisrLy81mMwTk5+XloRLaI5BoA0QQ5KsCYqF/8pOfHD58uKOjA4wQyJMDL3AIoVIWZ4UAK2WuShAEyAoNeaLBI0cURcVDWfkHZKaGpV5hfgrKhLOAEw/4L0NSRIh7n52dvXLlSn9//7e//e2jR4/mXkQ5BzhcWUQWipUkCUpjGIaiKCUzNdQZNkJb4CeIFINW5M7EQc2hjcQj/2ulOVAOnBE2Qk0gmbVSsdyico/6i15R5CsCLUMIgiBfV+BTragZZWPun+AtlHsUOB1vLW2n7XAWxUaSaywRBGF0dDQQCJw5c6apqWlTLPrjl6lX9NnW7bl1zt1hp/23rTmswvGFe+YWCF236ShkL4BiCEEQBNklMElXUFDg9XoxWTPy9QXFEIIgCLJLaJr2er3KyqxfdXUQZJegGEIQBEF2CUVRmKYZeQHADNQIgiAIguxpUAwhCIIgCLKnQTGEIAiCIMieBsUQgiAIgiB7GnSgRhAE2RNIj/IfPv+iSRKyNyqlUyRJPXlwGdRKlogvIwcwSRIkScgEIcsEIROQRxED35A/B8UQgiDIi48ky4ls1h+LBOMxRQ49uyKAkjQsU2ix6VnVSiwajEf1ak2J1a5h2SfRQzIknA6uioEVOcsT8vOollI7mmbynLTVLm6si4FVmaZYTxFttlI0jXoIyQXFEIIgyAuOJEkJPnt/aeHicP90YHnrUvDPgizLJp3+200HGlzuD4f7umfGfTbH/2vrKDJbvvhYSZIFIbswm7hyMdPTJfMZkmZJknoeMk2WRZGgKO7EaW3biUz/w+T1T2SCNH7nu5p9Bwmae+YTIC8UKIYQBEFeZERJimbSt+emLgz0zoWCFp2hqaA4T2d4LnJIkKSHi3Mr0XAwGVdTTJUjfyLgj2cyoiwSBPF4M48sSVImnRkZSFy9lBnqJURR09yqrm0iueehVAQhOzuVGeyV00mCptW1jUJgJTM+IgvilzIZh3zNQTGEIAjyYiIThCxJsWyme3HuwmDfQnidppl8g6mjrKo6L598HtNRWUFIZLPBRJQkCC2rqnO6+/3Lq+H1Eug/rwAAIABJREFUL5ztkiVJSqezU+OJzz7NTo6SKhVBUkxxqab1MG0wPvsclpRJEyoNPzdDkBRJ01Sek3YXkfNzBEESqIaQLaAYQhAEeTGRJCmWydyanfzjcH8ym2kuKlmNxUiKZGlaQ7M0TT27GqJIkqJIED4kRTAUTZEkSXxBybIkSelkdnQofv2ysDinrmsiaIqfmiBJiqIZimGfg0OPKBIURZB/knx/8pkmZVRCyLZgaD2CIMiLhkwQoiStJRLXp8ff73+QFfhXahpPV9SYOY6UYaH75+emnMsXFirLsiiKyURmdDh++Y/83JRm3wH92W+whT5iy7Lzz7sy6DGN7AhahhAEQV4oZIIQJDGUSFwaH745NaZmmDOVdW3FJSuxaK4Eep5hW09eN1mWkonMUH/y1lUxtKZpOaw92kFb7dnJsT+TZ7uO/ycJFD3ILkAxhCAI8uIgy7IgimupxPWpiSvjQyxFn6qoPVTk07KsIIkS5NohZEmWRVGUCXkXs0YUSdIURT59QJosSVIikRkdSt68zC/Naxr2c/sO0SaLzGdlnpdlCeovZTKyJOxGD5EUyTAUwxIUTnogTweKIQRBkBcHSZb8ifjl8eFLw/1JPnvQV27mNFPrAVGSF6Mb8WzKwKplmYikUwuRjUQ2SxDE07rRGNSaApPFrOHorZpD/rP//flPspzJZCZHE9c+zgz30zYHwbL83JSwMCMLAj89QWSzBEXK2UxmaUFYXSJ4/qkbr9awniJVQRGlwch55OlAMYQgCPLiIErykH/5k5H+eCZl4nSL4fX/i4RkgpRlmZdEXpTsFoeKZhYjG5dGBpYjG9LTCCGSIGRCLrDaX66sMzm3CA4oameLjpROZcdH+NlJUqsjGJYfH+Mnx/90DM/TVjttsck8nxkZyI4Nytns0xqHSJ1ebmxh7HnbiCH50X8Ish0ohhAEQV4cJIIIpxOpVKIs391QUMxSTK53kIqhi81Wp9GYymbqPUVus20X82R5BqNDb9jNRJQsywJP6o3qmgZVSQXFqnJ/JDkt4ymg9QZu3wG20EsIwtOJF5IkVWo6z0lpdf+/2xApE7j4BvIEoBhCEAR5kQDfG6LM5nitsk7NMLlSgCJINU2paMaoUp/wcYL0VIahP6GmGTVN7zqHNaXVqbxlXFMLpdH8mbMzRZI0TZCUqriELSgmoBlPBUmRNE1QzyOBNbLHQDGEIAjyQgFpf9Qsa9JoNAy7SbXAHzRBsDS9u1kjKGH3C76SJMnQpEpFqtSb6vYnExZNkzS9y8IRZFegGEIQBHlhIR8baP4sBpRnXt1sGy2FBh3kqwLFEIIgyIuPTDxD8p5NPMdVXonnVyvFMwo9hJCnB8UQgiDIi4wsy5IsZwRBkJ7eC2c7GIpSMQxN7iLT0Ja6SZKUTMqppPysdZMJmSBpmuQ4itPiLBvytKAYQhAEeZERZSmUTI6trUZSKeLZpqJkgpBlwqzVltkceTo9/YxiSJblbDYzMZKdHJXT6WcKfJcJgiBITqsqq1SXV9M63TNVDNl7oBhCEAR5kZFkOZhM3Jub8UfDz74imSzLTrPZoNY4dPpnr5ssicJaIDs9IScSMiHvULttt8pb/6L0RspsUfnKMJ0Q8rSgGEIQBHmRoUjSrOGq810uo+mZC5MJgrByeiunfQ6OOSRJsqy6vJo2mgk+++x1I1VqOs9FcRxJYnpF5OlAMfRl8Zi40+frfYggCPIYKJLK1+uP+8qykrTDVBRJEoTiASQThCzLj0nGqKIYDcNQO7zHnkqFkDTDegqZfBch75gfmiQpAtIaybIsSfKOrYCgfYakmScyJiFIDiiGnjOyTBCELMkEz4s8LwmCJEoyIcsERTIUxbCUWkXRNEWiJEIQ5C+DLPOiGE2nM8KOq32xNGPScFqViiTJeCYTyaQEUdymJIIgCELNshTJ0ZSKfLRp9+8ySRSCq+J6UBb4nXQaZTSx7kJSrZb5LL+8IEbCxA7ry5KsirbZGXseqVJt8zMux4HsDIqh54Ysy6Io84IYiWZD4UxgPRnayMQSfDotSLJM05RWw5iMKleezmHX2MwaTsOQFLnT6ApBEOS5IMryUjTy2eTYWjy20xjMptXtL/JW5zkpghwL+u8vzEbT6W32k2WJIPKMxqPesjKbI/f1tZs3GThQjwxkBnvlVHLbPQiSYgq81MmzlNMlxmLJe7f4+VlyB7s7qdWpaxup/Yc2LfSBIF8IiqHngCwTsixnsuJ6KDW/FBufjswtxQJrqWg8m0qLvCBKskyRlJqltBzjsHGFbn1lqbmu0ma3aVTs7rPaIwiCPAkyQfCynJbEnRyoeVmSiT+l6pEJIivJ6R0tQzL/vDIDEQRBUbTZwrg8cmY77UUQBEkxjnxSrSIIgmJZxu4kRJGQpW2tUaSGo80WkmHQBIQ8LSiGnglZliWJSGeE4HpqcjY8PL4xPR9dCSSj8WyWlyQJHIfgsSQJmSApYjmQnJyNDI6FxqcjjTW2mnKryaSmaTQRIQjypUCTpNtgOltRneT5rW8ZSFWoYVkbp2NpmiKJcnueldNlREHeojjgXaZjVQ6d7lnj6gmCIAhSpVZX1rKFPkLaRnv9aR+1htYbCIKg9Aau9bCcTuUuPftn0DTFcdssWY8gXwSKod0jyzLPS+sb6ZGJ0MOB4Nh0eHUtlUwJgvhnztO5hh9JJjJZKctnI7HsajA5PBFq2+88tN9Z5NGjiQhBkC8DiiQ1DOMyGIUdVmUlCYKmSJaiQd8YVGo1zYg7mn9khqJUzyWrIUmShEwyDKVREzutGEsSJKOC16hMEKRK9bi3JEWRDEtSuEw98tSgGNoNyrzYsj9+r2f17sPVmcVYMimIkgwjlu2fRLBQkwQhE5JMRON8YiYSi2dDkfTL7UW+IhPLUKiHEAR5voiyvJ5K9vuX/j/23rO7jiu7+9z7nMo3Z+RAMCdRFJWbit0t2e62x+PpGY/b7/19/BE8L73aXn4ed1tqtUJLakWKUUwgCCKHi5tT3Qrn7HlRAAmCAMUASiRRv8VF4l5UnTq3eOvUv3YstdubboAAKdPcm833xRMMcKZevbpSbDrdzeUJUTYaO5Tv2YaiiwDScboXz7pXL1PXvlN9IQIg472D1gsv82RKtlrtrz4X8zMAclOpxqyItme/vv8Q344aSCE7ilAM3TdEIKVstb2r16uffbNw+kKpWO56vly1297L4oAAgRffp/ll2/5q0ffo794ZHR6IKaEeCgkJ2VYE0WKj/unE1blqZauihn3xpM55LhJlyCZLK3+euFxqNTcNvCGggUwuaZhZK/Kw1iEiEEKUS97MDdnZXKgBMhVBOsc5kfRcf3nem57YKmaIReM8kyPfDyOGQu6XUAzdH0QgpKzWumcvlj79euHClXK96UkJ+GCFXRGkpErd/erMcjKp/5UxVMhbLJRDD8dNJ+X687jpmyEhOwGGmIvEXh7eVcnlN7kACAAgYVr98ZTCOQMcTqV/Nrq76XQ3C80hIEhHYoVobBvCHBFB0/WDR5VsgTxvkzWUABB5IskTCUDk0Zj10km5/9BWIUOoajxXYKaFiKEeCrkvQjF0HwRKqFztfnFq8Y9/np2aa3S6AujB76+BJYkklavdT76YVzl745X+fMbUdL6j4qlpDQBgDycGicj3/UajIaWMx+OapiGilLLdbne73UgkYhgGY2z75h4S8rjDEHORyKsju/2tg5Q5Y7qiKsgQYTiVLsTiYuvOqQrjhqoy3IbriClcKfQp2fzdetczHiSIoapqI6MghrfcEhG4gkp4Xwu5b8Ivzb0SeMeqNeerU0sf/Hlu4kbd82VQt/Vhh0aQRAvLnfc+nV2p2i88Uzi4N5WM64xtQ1Poxxwicl13bm5uaWnJtm1N07LZbF9fXzQaVR50RatWqx9//HGz2XznnXcGBgYAwPf98+fPX7169cSJE/v379c2LcgWEvKUQkCCpO17jvA33yJYZtwu3tpl8+R0IgAiQ9U0zomxh+10RkQkRa0iqhXw/IcbjIAAVZUl0zyVhlAPhdwn4TfmXiGiVts7/f3KB5/NXZ+puz5tp1Ih9AUtFtt//sqdnmu+stT7s+d7C3lL4U+5W4eIms3m+++/f+HChVwuR0Se5504ceL111/PZDIPYMIhItu2x8fHK5XKK6+8ElibpJQLCwsXL14cGRkJCh483Wc1JGQ9QtJ0rfLRxNWVZj2ISX7goQILbiGWfH1s995sITBg0+0b3N+A3a797ZfdU19Sp/1wxYEIiDCaME68bL10kidTDzFUyE4kFEP3hJTUanvnL5ff+3jm2o2a48ltvplicBRotLzLE9VytVuq2D8/OTg2Elf4Ux5D5HleqVRKpVI///nPE4nEt99+++mnn/b09Jw4cULTNCISQgAA5zzQRsFyLKVExMCnhojBm0IIKaUQwvM813XXix4hhOu6QgghhO/7N/eVUgJA8PKmtw7XuFkqav2hg5fBHIKNb7r2pJTBgIyxmwPC2h0iePOnOMchOxoCcH1Zte1Sp/PwlmwiqWt619/CyHRPrBNkjPFEQin0SXuLAOp7nhcAYCTG4onQTRbyAIRfmh+GCHxfzi02P/928cr1atcVj0KdrI5I4Hm0VLQ/+3ZRVTEeGy1kLc6fZjEU6IloNNrb2zs4OOi67ieffLKwsOD7PmOsUqnMz89zzguFQjab5Zy32+3l5eVGo6HreqFQSCaTjDEhRLPZLBaL3W7Xtm3HcTY9UKfTmZ2dtW07Go0WCgXDMGq1muM42WzWMAwhRL1ebzQahULBNM3ATFUqlTjnwaG73W6tVtN1PR6Pu65bLBar1Wo0Gu3p6YlEIp7nlcvllZUVRMzn8+l0GgDK5TIiuq7reV5fX18YsRTy46MijqbT/+8zJzpb9yYLuNmo9a6QpepZy2IPvCzhWrwkIuqG8cwJbe/BuxRdvI+BGUfTDAOoQx6AUAz9METUaLnfni1+e3a5Yz/M89C94gtaKdlfnFrOJM23Xh1IJfWn2zh003zi+36n04lEIrFYTAjx3Xffff7550II27allL/97W9HR0cvXbr0pz/9CRFrtVo+n/+Hf/iH3t7e2dnZ9957b3Z2NpVKdTqdy5cvFwqF9RZ7IqrVap9//vn169cbjUa5XH7++effeuutCxcufPnll3//939/5MgRx3Hee++98fHxf/mXfzEMAwDq9fp//Md/WJb1j//4j7quz83NffDBB0NDQydOnDh79uzp06eFEPl8/pVXXhkZGTl37ty3337b7Xa73a5lWe+++24+n//P//zPSqVi2/auXbt+/etfB8OGhPyYIENTUfviCUFbxkQzwFUrK4AkkkS0dUgzR6Yw9oDutjt3UlRmGCDk5nWlEVBVUTOAMSJJjgOuu/k4AMAYqBpsR2R3yE4jFEM/ABF4vlxYan93oVRtOLAdAdMBwbK0+VWLICQsrdhnL5b2jSUTce0pNg4hohCiVqtdu3btxo0bX3zxxfDw8NjYWKPReO+99yzL+tWvftXpdP7t3/7to48++ud//ufBwcFf/epXuq6fP3/+T3/606lTp06ePHnq1Knz58+//fbbR48ePXv27NmzZ8UdnZXK5XJPT8+LL75oWdYf/vCHDz/8cGBggHN++fLlAwcO7N27t16vnz59OpFIWJYV7OK67vT0dDweF0IQUavVmp6e1nV9YWHhm2++iUQi7777bjQajUajS0tLZ8+ejUQib7zxRrPZ/P3vf3/69Onnn3/+2rVrV69effXVV1944YV4PP50i9qQxxMhZaPrXCsvVzsdgM1bbMQMYySZyUdjgLjSak7Vym3H3VQMEVDKioyls2nDfNjVkIg8173yvTNxlbrdzUxSBIypff3Gs88r8aTodOzT3/jzM0CbdK0nIGZF9LG9+u59aEUeamIhO49QDP0AkmSn441P1q5P16XcHilEBIikMoYMhKCgTNF6EICQXM+fWWhNTNWHB+KxqPoU30eFEJOTkwBQrVabzeZvf/vbbDY7MTExMzNz6NCh+fl5IYRpmhcvXiyXy4VCodPpTE5OLiwsNJvN+fn55eXla9eu9ff3nzx5Mp/PI+KpU6c6nc6GM5bNZp977rlDhw7puu553o0bN65cufKzn/2st7f32rVrzWZzcXFxYWHh5MmT0Wg0iEO6GY206ZxrtZpt2/39/aqqzs7OLi0tFQqF5eVl13UBYGZmZteuXbZtDwwMvPPOO3v37g3y/H+cUxoSEkAAnpCXV5b+v1NfLNVrnPM7U8AQoC+R/OuDR181xjhjZxdn/3DpfLHd3MI0REOZwv999Lnn+gce3gJDnU739Nedrz8HKVBVEW6fHREgipHdyvAuHkvIZsM+9aWYvAqS4E4vHQFGouD7St9gKIZC7pdQDN0NIhA+LRbbZy6utDs+AOJW1b7uCySFsxNHc32F6OffLCxXbLqjWBECSgnFcuf7q5Uj+7PRiPq03kaJSNO0Q4cO/eIXv+h2u//zP/+zsLDQarUWFxcDGTQ/Pw8AruuOjo46jvPxxx9/8MEHmqapqiqldBynWq02Go29e/cmEgnOuWEYkUhkQ9gQIiaTyWw2q+u6oih9fX2aps3Ozkaj0RdeeOGTTz4ZHx+fnJyMxWLPPvss5zyQQRvmeTO8ur+//4033vj973//r//6ry+99NIrr7wyNzc3PT29sLAwOTmJiL7vDw4OqqoKANlsNpvNqqoaRguF/CRIoqrdqXba+XjyUP+Arqhwe3gQAmSt6Gg6p3LOEHenCyd3H6h0O1u4yWgonhpMJNnDr4QAQJKcLrMs48Qr2sgYqurGDYK29n39iKhkc4m//0dZKtIWNZDQNHm+T0kmMWxbH3KfhGLo7pDriZm55uxCm0DelgTx4EOCrvGDu1P/19+M9eQsVcH3Ppmtt9w7N0QgxxXLK51yzR4ejOHTW3UIEWOx2ODgYDqdnp+fv379eqVSURRlaGjo3Xff3b9/f6BOLMtyXfcPf/iDYRj/9E//JIT4r//6L8aYoiiMsSBZLMjwutOWI6X0PC/wdgXp9wCQSqUMwzh69OhHH3303XffLSws7Nu3r1Ao3NwrGOfmXjdHjkQizz//fCKR+OCDD86ePRsIrLGxsWPHjo2NjQXziUQiQQz4Q5aRDAl5eBBAY3x/oef/OfJcUjduS4YHcnzfFcJUVc4YRxzLZIbTKUmwiS8KMOjqqsB2rkdoWtroHuPYc0zX179PQvjlFfJ9BAYATNW0oVEYHN4ynAkRGIcwejrk/gnF0N0ggk7HvzpZL5Y68NAXf5A/EY2oxw/n/o93Rg/uTSsKvvPmkOOK9z+b7XT8jSZiRCKqt9yVctf1hMK3Q4o9fuA6lWdZ1u7du8+dO1cqlXp6enRdbzabhULBsiwi4pxPT09PTk6+/fbbfX19ExMTlUolFoslEol0Oj01NTU9PT04OFgsFkulEqzZcoLBEbFSqczMzFSrVV3XL1++DACHDh2KRqOmae7Zs+eLL74gol//+teqessjqWmaYRhLS0vFYjGVShWLxXq9HiTVK4qya9eut956q91ut1qtsbGxIAMul8vF43EiUhSlUqmEMijkcQGBM64xbqyzvhCRK8R8vXZlZXkknTmY7zEUxZWi43n+1tHWGlOiqqps43cbETgi48j5rcxaKcHrdv78oaxXon/9f2oDg+T7ol4lp7ulFuKMmREWjaGihHoo5L4IxdDdkJLqTXd6vtm2ffbgiaQAAAigKCyV0N56pf8Xrw0O9MU0lRFgf0/0nTeGiqXuN+eWPV9ucOcTQbcr6k1X+FsuTE86iKhpWmBNCVLohRClUunAgQPHjh07c+YMAOTz+W63e+jQoVgsdvDgwStXrrz//vvLy8utVkvX9XQ6feLEid/97nf//u//fvDgwSDBPp/PB/akQI5ommaa5vfffx8c6Ny5c2NjY4cPHw5k1rFjx95///3Dhw/v2bPnpnwJbFHHjx//7//+79/97ndDQ0Pj4+OO4yiKUiwWJyYmarXa8vJyt9sdGRk5cuTIysrKt99+G+S4CSH27dsXj8cNw9A0LTQOhTwm3PktdH1/srzyxfVx3xsdS2c5skvFpW9mp6p24CbDjbsT9SYSPxsZ25XKPmrPr3Rd5/oVUVw2Xjyp9g+IeqX5+/90Jydoy0atMfOZ58wXX+WJsOhiyP0RiqEtIQIhqFLrlqr2Q1pkGAPLUIYHoi8d73nz5f6efGT1Ng2gKmywL/bGq32zi63ZhdbG4siInie7XU/Ip/Y5xzTNo0ePcs5jsRhjrFAovPXWW7lcLhaL/c3f/E1fX9+lS5eWl5eTySTnPJ1O/+Y3v/n8889LpdLevXv37NkTjUbj8fixY8eklBcvXlxZWRkeHh4ZGUHERCIRHIJzPjIy8rd/+7ec83K5XCqVjh079tJLL/X09DDGfN+PxWK5XO7VV19NJBLrz79hGK+88gpj7NKlS7Va7dixY0eOHOnt7dU0zfO8hYUFAHjttddOnDiRyWR+/vOfZzKZycnJSqWSSCT27dtnmuZLL71kmubN9LSQkJ8EWku/unMdIQBB5JOQJCmoJGJ3irVq1W7TJnnuAJIQoeW4a040Wv/LB57grX83ZJMEKf7B77nKkhmerW8VM8QiUYzFkfOHmEnIDiUUQ3dDSFmpdet1576vcgJCQCJE0HUllzGOHcj87MW+fbuSsai2vukYIpoGP7wvffRAulTpdGwBcGs5QAApyfdJPqViKIgWeuuttwAgMOQkEolf//rXiMg5j0ajv/jFL1577bXA6xSYWJ577rmjR48G7wSGH855kNP+6quvEtFNPxfnHACCLY8ePXrkyBEACIpQK4oSRDT7vr+ysvLNN9/kcrnjx4+vT/hCREVRCoXCX//1X7/99tuMsSAgOggDKhQKb775JgAEAUOIODAw0NPT47pu4EQLZvt3f/d3wQzD6OmQx4Ateo4hIK7GAaicP9M3OJBMO/6WzcIiqp6PRvlt5XzwodPs16Z2ywdGsLoWBiMjjycib/6SuvatbTbknXAFTYsZxhaToe2J+wx5GgnF0JYQkOdTte7YjkDE+2hJSIAMFI6GpiTi2q6h+DP7s88eyQ30RVWVbWhHjwiMYTKmHz+cG5+sTUw1Jd16HtuwGDx9BGpmfefU9S+DRLNAggQaJdA66p0pJwCapgXtOzZ1SG26i5SyXq9/8sknly5deu211/r7+/kdz5SMMV3X78yK55zrur5+YoyxDbMFAP32gNCQkJ8IJCAhpSN821uXrkHQ9T3PD8oxEgAgYlw3TEW9WaGRIQuyzG4PaHzwGMr17a1XjT5CUteWrRZ562tkk2y35e19P5ii0s34b2SoqqiqcOtJYzVA8PYeaU/r8hmynYRiaEtIguuJUrXrCwIAQtpSD62lXSACZ6jrPB7VevPWyEB892hi/+5Ub97SNWUr0wAi6jo/uC/1wrH80ordaN9WMp8xVFX2kBFLTyg3Y583vPODu9w71Wp1cXHx5MmTv/zlL+/izNp02E0nFsYGhTyGIIIgWqzXT81Pm+qtZ49ADE1WSo7vASABSKLlVnOmVmmvaaa4bu5KZ5OGwbex9ut6Dxyi7LSdS+dkrQL8trBs0bFFrYyMASIQSdvuXjwniouruk0z1IFhdWSMWdbG6y68DEPuk1AM3Q3fk43m6orAgueZdQ6sVZsNImOgcNRUbppKOqkP9kRGBuN7RpP9vZFEXNNU5QfXEMZYKmEcPZA9faF09UZNyFvCS1WZofOdKYYeNYhYKBR+85vfJBKJIGLpp55RSMj2wxAtTYtqxly1/L+/P8tu71ZBRB3XiWqaqWkM0ZPianHxw4kr5U47qP/al0j9+uAzUa2gBKJke+GcpzLMsNyJce/G9Q3jkyQg4n19GI0CorBb3XOnvImrQBIQ0Ioaz77Ae/pYGJMX8tCEYuguSN+XrbZHBIigaSwe1QxdAQQGwBhyBTWFaRqPWGoyrmVSRiFnFbJmLmMm47ppKgpngSf+B4+EGERSRw/sTs4sNNudm9560lQetdSnuB3HT0gQsRTUmw4tOiFPJQigcjaayry19+BKq7X61h2kTWt3tmAoCkPMRGL78r2Nbjf4VSYSTRgGx4eOCtpkcshNy3z2BSXfQ+4mtdYACBBZJqcWehGAR2LmiZe1kbHVmCFNU/sHQyUUsi2EYmhzKOhKJmSn6xEAIubSxsvHe4b6Y8iQMVQ4ahozDSViqtGIapmKrnFd44rCGMM1Q859lKtmjCXi+sF9mdPfr3Ts9lqFR7QMJRHXFSU0WjwSAhm0acONkJCnA45sIJH8mwOHHCEBNomgRgSVMVNZNWIfzPeMpDO+JCQCBJVxU1WVR2SdVjVt1x5tZGyzAo83p8eAc0BkhmkeeRZI3gqf5gwwNJuHbAOhGNoEIiAi2/aLxU6z5QEBY5hM6McOZZ85lOWcAawlXyAwRGQ3PWawIZLk3g8aGJ+G+qNDA/H55Y7nSwDkiNGIEo+p/IF7RIfcA6FZKOQpBgEUxmOaEfvBLREBQOU8cXsmQRCS/EjmhgiKAveyuhEBY8jYho3D55iQbSEUQ5tARB3bO3e5/OlXCytlh4gAkTOm64qhK1xZvRoD99k2wjnLpIz9Y8nzl8u1hgsAgECSbNv3PMH4/WS0hYSEhATc8ZT2Q5tvtuVP/sCwxQe4z2mF2ilkc0IxtBEiEkLemG3+rz/e+P5qpdMViAiAjCHnt2XYb78DHdAylcH+aCqh1xsuAQhJs4vtMxdLfT3Rgd4oU37q9eixgoikhC3Krz0UCEGHIxACiIAhBi9DQp40fpyb/30che744ZFAq1n7ofgJuTdCMbQRImh1vG/PLn9/tdKx/R/zFogInLOopUWjKuDqlVxruOculceGE5mUEYtqPzzKzoCkkO22v7wk69XtHhpAU9X+IWZZ3uy0bDdZPKkOjbLNKhWFhDyeEIFlSyTCAAAgAElEQVQrRNt1fLl554rtwvFd1/eDFsYE4EnhC3F3EUJCyHZL1KvUfdji/lsfA8h1ZLtJvg9EQECeS04XpAj1UcimhGJoI1LSStm+MlHt2P6tRYRIShJCPupA2yBhY33QkZBULNmT0/WjBzLRiBpGtwT9V6VtO+OXOl997i/Moaog26YC/ETke2hYkXf/Thsc7nz9uXd9XB3bGy/0gqKExqGQJwEkBAKYqVQ+m7quPNpwQ3KFmK9VpBQI1PX96Wql2Grc3V4rm/XuhdP+ShEU/sjmRiCEvzQv6zUAIF94czPu1HVp24/mcCFPPKEY2ggBlSvdas1ZHxJEAJ4vHEc86rQjIvJ86bpy3dMLdV2/Wnfsrr/tUUpPIkRSdrvu9fH2nz9wLp4DYNq+gzyZBNyOhDvfdyevicV5s1bGkTEWi4tahS3OgRDbMHhIyKOHAcR0PRmJLTVrH167/Kgfn4io3ulEDTOqGa7vT5RW6t12bzShML5JNi3nPJnCaEysFEV1u226d+J7LBrl6Swq3K+UqdPhyRSzIhhWFAu5g1AM3QFB2/a6jr/hTccRrbYnBD1Sb4kk6jqiY68/OgpBXUd4fmjdBSCS3a57/Wrrkw/cq5fA93mux3r1DW1418N3ZyQAcpzm+/9LfPsFSGIRyzh8zLl0bu2XISFPAJyxfbmeXx09bvvej/ToRGBq2uF8T0TT9uRyhsIzkWjcMO7ckBmGfvAoSyTJ2bSq0PbPDFVVHRzhyZQ2OoaqioypQ8OoqOFjZcgGQjG0CTerS69CQEAdW9Qaji/o0ZlnArNQo+V27I3CJ7wVAwCRJMdxJ8bbn37o3RhXBkeo1QLOeDqjFHq3pVW17HaZFVnNvmGcWRbTDKDQLBTyxMAQh1OZQiwhV7u9/wh3fWKIhqJyxOcHho/1DnKGpnKHTx+Rabo2OKL2DTyiRP1NQESuAOfawLDa2w8AqKihZSjkTkIxdAcIpqnoGl+/jhBAp+uVql3XFRHrUZmGiKDbFSslu+v46xL3iTGma1zZ2UWoKbAJ3ZhoffDf/ty0NrZPP3Cke/60qKwEYVbbsMARISLe7I4LAICrkewhIU8IiKhyrm7Hs8H9HRcAAEymmeqtl3dshKgoqPwU952f6rghTwihQN4IAiTjejSi3bL/IACA44pStdtsu48ubCiob7RYbHu+XGd9Qk1lsYiq63xnWnaJgEiS6zrXr3U++8ibvKYO77J+9pY6OIKPwme5I09yyNME/hR/Nhw6JOTJIlTKG2EMM2mzkDUZwyAlIriwPU8WS3a50u3viSCybQ9LJAJfULXmLCx3XE+ud8ZZhprLWpa5U1O7ich13KnJ9h//tz87pR9+xnrlTXV0TJRX1m0DRPLBTThhb7KQkJCQHUwohjaCiPGIenBP6svTy/WWC4SAENQ/rFS7c4utfbtTlvlILGquK2YWmitlW8pVDx0BqJz15K2RgVjEVHbiDZtIdjvOlYudzz9yvj+j9A2oY3tRUfylBb9UlO0mBkVEXEeU67LduU+fFgEgsyyWzPDN4j1DQkK2j9v7jz1Q26KQkEdEKIY2ggiaxg/uTe8ZSZy7XPZ8SYSIQIDNtn9jttHqeKahbLssIaJ2x5ucadSbbjANIgLAWFQ9sDs1MhhT1R3q0xTFYvvjPzrnT1G3Q+2Wc+aUe+EsAAnbFovzPJkCIrGy3PnyU39x/v4DfJDle6xX32SDw9sSgh0SsrO4I2yAgr+Ct4NGIMFr4ZFnk/SBcWQcmIKMA/LbnGy4/p9QJIX8eIRi6E6QMejrjfz85GDXEddu1F1/tUly1xVTc635pXYqoau4nRE8ROB5YnG5PTFVd7zVgCHOMBbVnj2cffF4Pps2HlHT6MceEo2qN30dEJWhXWiasttZ/YWULJNVB0dYLEGeK1st2ajfpff1HQMDBFUuzQj43ia/gyBeaVs+RUjIUwLRzfrSBAREAoQHUoD0SPogfRI+CYeEC0DMSDIrB1wDIOk2/dI1Ub1BXgeYgoqJqoWKAYqOXAWmIleBa6hoTI2gEUduhGlfIT8aoRjaFDQN9fljOYXjJ18uXJ2sNdqu6wrhy4Vi+8pEdXQwloxvZ11XImrb/sRUfWGpJYVEhobG8xnjmYPZ117s2zOaVNWdarQgICFACHVgOPLLv2UR67bTzhiPJ3gmB8K3Xntbtpr3ZxkiAASMxpRCL2xYdjF8MA0JuRMiErJTJqdOTpuEA25HOA3yWtRtSbcFTpuEQ9JjmsUze7X+42BlKYjKUyM81kN21a3c8EvXyLEBDWQGMAQGyBE5R8XAaFbtOaL2HuPRQpjiE/KjEYqhTUAEJEjFjRePF/p6IuPXa2culr46s+y4ot5wv79aPrQ3lYjp23WvJAJfyKVi59zlSr0lADFqqscOZV490bt/LJXPmaah4P00nX4KQeSJlL7/EI/H11eaRgRgDLgCRPquPfRATVuRMQh68N427g4+2yEhd4FItle8xe/85SvSrpHXJSFAEvlIUoBoIRMsmlOGX1Z6DvNYH3IVGQAwUAwW71e1GFoZVKPe/BnZbEgZlLKoA3RAUXhqWIseUpJDqEVW3WvhlRjyoxCKoS1A5ArGotreXcm+QiSTMuaX2hMzdccVk9PNK9dqu0cSlrldncLI7vrfXy2P36j5nlQUKGTN11/qe+HZQsRSOQu87jt+RWAMVY1p+kYTTgAiPLwf8UcrBBcS8mRCBIiMR3shf5ictl+elK0VkAxZhCgD6KCuqj0H1aGXtb7nmJVhXLv5aIGIyDWw0qhZLNqjZHa7U1/4xSnpOEA+kE+SSLgkPfK64NnEdeAaIFuLOwoJeYSEYuhuIKKi8FgUR4fjB3Yn55ZaXUfUGs7Fa9VnDmV3jyQUZRvuv75PK2X73KVSpdoFRoah7h6N79uVjEY0vkPjhDbl7p2wQ0JCHh0EBAQSpJBuR3ZWRGNRtoprIkdI8lFtKqleffQldeAEixaYFsXAiLtRxyBTDEz0MzOlpEe9pXPu9DeifJ18zuN9PFbwS+P+yjjT4zw5pKTHeGqYmUlUDECOuLGTdUjIdhGKoR8AEThnqYR+cH/6/Hh5erblOPLajdo3Z5bTST2XMR/SZkMk7a537mL56vWa50vGWTZtHDuYzWetUAiFhIT89BARCfIc2Sn6tSl/ZdwvTZDbYkZczR/w/PPUqTJT1wae0cfeUvIHuBYDxmmrhXFVzTCmx1huD4v38syYe+Mzb/40aoY68ByP9YvajKhNe4vn3JmvmZXm6V1KehdPjzIrw1RzTWOF4UQh20kohu4BBF1X9owkjx3IlsrddscvV+1TF4r9vdEXjuWjkQd3lklJjuNPTNU/+2ahUncQIGIoB3enDu5Jadr213V8WiCSREKACNrZPsxZIgAAxpHzMG8lJGQdREQkJUhXduuisSgqk15pXDYXkYglBpSBE0p6zK9OesUrPLtbG3xe2/U6jw+hogPiD/r1g+5/gCozkmrPUW7leGrYWzoHbpvHB9X8Qek0RfWGX50S5eve/Clv4TSP9/PUiJLdy2MFZiRAMRhyCG1FIdtEKIZ+GARQOPb3RE++2Dc937xwpeJ6cuJG4+O/zCVi6uH9GV3jDyBciEBIeWOm+b8/mL44XpWCVJWNDcfffGWgpxBl4b15C0hK0Wx0L3/vLy0g0UPkm1AQJcQzeePAYSWdCfVQyE4naDZEkoRHXkvW573yhLdyRdYXACRL9OrDLynZ/TzeB3qc7Lqc+UztPWLs/gVP72F6DBkHuL/4HkRErmNyyIjmldx+2V4GkKhaXIvyaEHpPU7dmmwXvdJVUbrmTn/hTH7KohktM6Zk97F4P7PSqBjAlGCkR3RWQnYCoRi6JxDR0NnoYPzFY4X5xXap4nRs/+J4JZM2kwl9ZCB+v8FDRCCELFe6f/p87ttzy64nECER0186nt+7K6nt1PqK94QkUal0Pv3QG78EAA/1UEgESMrgqJJK8VQ6XEpDdixEBCRJuLJbl/UZv3JdVGdlu0hELJLXR1/jqUGeHGFGApmGjBGC6FbVgRd5fIhHC8g4sQe10CAiMFRNJbsf0ruCRvPAGADnnINmUjTPc/uo2xCNOVGdFrU5rzThLpxjWowl+nlikKdGeLyPqRZwFZEFkUzbfIJCnnZCMXSvMMYSMf25o/mpueZfvl1qd/xa0/367HI6qUUtNZcxGbvXR5Ng2anWuh9/Mf/JV/OtjouIlqE8cyDz0vHeaHS7ktSeUhjjiYR54iWttx8kPdyiRwTA871KroBhiFbIDoQIgEgK6dlkl7zSVW/xvKhMg2tjJKv2HFbyB3ligOlJVDRkDICtVocmya08t/LIOSGHh1QfiADIgjIZQEA3B2OAgJwxrqJi8EiOcofI64j2iihP+KWr3uJZb/orjKSU9C4lf0DN7kUzDYqBuGatD9fSkHsjFEP3gaLgcH/sr94ctrv+V2eKrieXVzp//HQOAN56ZaCQs1SF/aCxVkoSQpYq3f/64+SHn89Xag4Aqgo/sj/zq58PD/RGOENY36Y15HYQkSdTkZ+9tRYzdJdNAeAeUtA4R64g42FqfciOYbV4NAmX7KpfnfSWv/dL12S3gVpMyR9Q8wd5aphFcqiaiMpaGhet2x+Rq4BID/k8sh5c++eOEREAkCEQaiaoBjOSSmpYHXpRNhdF5YZXvOytXHWXzjMzpWTGlOw+JTXCrBwqOiALbUUh90Iohu4DBNQ0vnsk/vqLfSul7vXpuufT4nL7vU9m2x3/jZf7Rwfjus628l5LAiLpOnJusfmnz+c++HS2UncJgCMO9Fi/fH1w31iK802TUUPWgYiEtNYP4I7fBn8zVBTgHAFICPJ9ILnl9rThhIc5/CFPKwREJCUJR3bKfnXaL10VlQlp11G1eGrUyO1X0rtYJI+qCchwo+drXW/VtUvmR12rbh6Uc+QmKga30mrugDb6mmgti+q0X7ziF8e9+TOoWTw1omT3K6lhFskzLYJcWTNrhatryCaEYuh+QGCAEUs7fiTvevL3H06P36h5nlwodv7n45mFpfbrL/Xt25PKJA1NZeu9ZsH643qi0XTPXSx9/OXihSultu0DgKqwvoL1q5+PnDiaNwy+UxuQ3QtrJ1NK0ax1L14QK0tAmxaoRRaJqKNjav8wcu4tzrsTV2WzvtmYRIRKJqsfOKxkcqF3MuTphAhISilIONRtiMa8X5kUK5dFYxEUnSf7jaGX1fyhVQ3EOCICbWKeeVy4pcMQgBHn3EhyI0HpXTT0kmiX/Mo1f2Vc1Ga9pYtMjyjpMZ7ZoySHWCSHqgVMZYwBsvCZM2Q9oRi6TxAYYjKhv/RcDyL+z0cz4zdqXVc0Wt5XZ5an5hqH92eePZQbHoglYpqqMsaQJLmeaLa9qbnmhculb86sFCu2lMQQVZWNDETffX3ozVf7Y1EtvBlvzbonVClFqdz57CN/amILAw7yRMp85XWeyqKuuxNXO5+875eKWw2t9A6wRIqnMuu61t+jgy0k5HGGgACkkMIhryWay35lSlSuifoC+V1mZbTRk0pmN0+NMCOFG0KPn5ilCNfqUyNyDZnKtJiSHJQDL4r6nChf8ys3/MqkV7zCzBRPDiipEZ4YIiuLWgS5ioEqenI+bcijIxRD9wcBABEiJKLaC8fymso+/Hzu4rVKs+X5vpxbapcq3Uvjld58JJcx41FVUZjvy2bbK5bthaX2SqXbdXwCYBxjlrp/LPnOa4PHDufiMS0UQvcKYzyTiZx8Wxw6unmUDwIaEXV4lFkR5FzbvRcYo1Zj08EIgSfSal9/mFcf8pQQJGiQJOmR05J2VVRveOUJv3wdXJtFUkrhgJLbr6R3MyOxmn51y0jyhC9Dq9JIZUaS6Qklu1f3bNFe9ssTojQuVsa9uTPMTPD0qJLexZODaKSYHkWmIuOrqihciHcqoRj6YYIbriQiSb6Qvi+JwNCVVNJ48bmeTNr481cL310oFku24wrbEVNzren5lsJZ0P1TEglBQhARMARE0FWezZivnuh57YXePbuSqso8X7odl3GmqowhBi628KrcFGRMiSf5Cy+TEEi4uf0m6L3KGABogyNq7wBIuenpJADgnHEOjK1Jq/C8hzyBUFAm0SPhUrcuO1XRXPCrk7KxRG4LFUPN71Ny+3lymEfyyHVgDJ/KIs64Zt1CRKYT1xQ9rqR20dArolUU9Rl/ZVzUpv3SNdAiPJpXksMs2sMjGTSTyE3gKkMGD1wmIOSJJRRDW0IERCQE+UK6nrS7fqPpVqp2peYwznaPJPoKlqnz/btTibg23B89/X3p+nSjVnddT0hBUpKQcrXpMiJnjHNUVZaKayODsReOFZ5/ppDL6IisY/vTs83JmbqhK9mMmYxrsaim61xVmKIwxu6hnuuOgqQUgjpt6Tq4lSNL4cywQNcBkVxH2h3w/c29XgigamBFmKo+wjmHhDwqCAgoiAdy26Kx4Ddm/eIV2VoCIZiVUbJjSmYfj/WimWSKCZwj4MacgaeXIA+OAJmRZEZCSe/S+p+XTk00l/3KpKhOOzc+BekxI6FkdrPkMIv3cTONqsW4AsjDgOudQyiGNhJUYBWCHFe021617iyV7JVSZ2G5vbxiL5c69YZjGsozh7Kvvdi3bywZsdShvlgubR7am7l8vTI+WZ+Zb1Zrjt31fV9KAmSocmboPJ3UB3ojh/Zl9u9O9eYjusYIoN5wL12r/PGT2YvXyqrCcmkznzV781ZvPpLLmvmMmYhrlqmqCrv3OkZPN0QkatXOd1+IuRmQmwscFo9rB47qu/ch5+70Def8GVEtbxUDxAu95vMvq4W+0FMW8uQQ5MZLEi55HdmpiPqMqM2Iyg3pNEExleSoktnFM3t4JANabDXD/KbJ5Kee/Y8MrqbrIzBEI8H1OI/2q9l90q76tWlRmRK1GXf+O1g6x6IFnhhUksM83otaDNXIumgqCIXRU0wohm4RyCDXk52OV607M/PN69P169ONpRW72XJabd/1pKTA2+U021694XVs//C+dCKuW6Y6Ohzv64mcOJJfKnWWi51i2W62Pd+TisJiUTWbNvsLVi5jppJG0L7DF1Spdb87X/zT53OXx6u2IxBhpdK9Mlk3dBaLKKm4PtAX3T2S2DWU6Mlbibhm6irnO14SEcmu7U/d8G9MbOrWIgCWSPFcgUZGATS/UnKnJsRKcavTJu2Ovv8w5MNw6ZAngSAeSLjkdWW3KhrzojotatPSriNynuhTB57nmTEe7WFaFLkStu5az61KjIyhkmBGnCcGqP850SnL+pyoTfnVG/78aW/hDLcyLN6vpEZZNM+MJKomchUYRwjT0J5OQjG0ChF5vux0/Lml1sXxyrXJ6vhkvVJzbEcIQXQzmgQBASRBteGeulBsdtxGyz1xJJfNWIqClqlappLPWt5u4XokhAyqJ3KOmsqDfPvgaK4rZhaaX58pfvjZ/OxS0/NkcIEJCUJIzxettre8Yk9MN7+7UOrNW3tGkgf3pnaPJHIZ0zSUHW0lQqakM5HXfyGeeW6TAGoEIEDDVHr6mGkB4/ru/dyKyHZri9GQxeJKbz+EZqGQx5dVOxBIX7otaVdFY1E05kR9VrZLiIxFC1rukJLdzRMDTLWAqYCIiJtWnghZYzWCAZmCWgTig9R/nLp1vzbrlydEfc5bOu8vnUMzrcQHeLyPRXswkmFaFLmGjMNNa1PIU0EohgAAgiJAc4vtS9eq35xevHitWm+50gdYjUlZVzFo3V4d2794tWLbnm37Lx4vFHKWpnJEVBRUFGYYazvcXrBDSnIcMTXX/MPH01+dLpbKNhEhrlbMuRn7BwCSwPVEuSorNWdiqnHucunI/sxzR3L7xlLppK4oT1pbeyIK6hs+nMEZEZlpaXv2beEjW7cdIgDwZIonkqv/E5vCEBlHZGEufcjjBxERSI9cW3Ybol0U1SlRm5LtEpFkVkobfEFJ7eLxXtQTwDW8VSmRILxR/yCrNVoRCYEBMAMjumpl1cJBaddkq+hXxv3KlLd8wVs8j0aCJwZ5cpDHepmZQj2Kio6rOWgQnuwnnZ0uhoJyiM2WO7PQ+vOX899dWJlbanueBAAAvLPu2G2FigkcT16fbvr+bNv2X3y2MNQfNU2FB0Uv7tiBCCRRo+lMTjU+/nr+828WqnUX1yrobCFsVlWR3fVvzDZLle7cQuuV5+1jh3K9OcswlCemSCNJKRwQbQAipiGqwBREvpbLel+fgshz/UqZ7M62TA0Ng6cyzDCfkFMZ8rSz2jpegPClcMhpivaKrM+L+rxsL5Nno2Yp2b08Paokh1kki6qFyAmD1hg3v8Xh1/l+WC2uxAABiCFXmRahWK+S3S3tqqjP+tVpWV/0V674patoppR4L4v3s2ieGSmmRUDRkCmADMPk/CeWHS2GiEBIKpXt0xeKX59ZPnOx1Gh6BHCPEYbBNq4nJ2cbzba3UrZPvti7byyZiOmcb9w/aFNfqXW/PrP8l2+Xvr9aaXW84P0fPFaglYig0XTPXSmXat25xfbJ53v3jiUtU31C9BCB7Ej7BjhLAAhKArU08igoUeQmonZvRT4QAEiSqFU7X/zZn5vaogL1/cyKiPf0W6++ofUPhZ6ykJ+aIIXVk54t7YpsLstWUbSWpF0B4aFi8MQAT43w5CC3cqhFVqtFAwLRXZ6oQu6LtdUfgXGmx1CL8li/2ntMdmqiuSBqM7K5KKrTfmUSFJNZaR7NMyvLojlmpJhqoaKF9YqeRHauGCIAKWWl2v3LqYX3P5mdnm86jgy8OPfXrxNBCFoudT4/tdjquJ2O98yhXCphbNBDvpArZfubs8v//aep6bmW64lV79v9XTLoeTQz36o33E7HI4B9Y0nLUtk9Xnj3+sFo65d0569vH3bTQxAQATAEJu0Z2b6OTEE1CWoa9QJqBVRTqMRAiQLTAddbjNZx6xWR8KndonodQP7QZ9miENHNeSFgNE6eF7TvDj1lIT8FFFQJAuFKtylaRVGd8iuTsrFI0mdGkif6ldQoi/czM4lBzArefoGEt95HwGqsNSJwhjzC1AiPFSh/gJym6JRFfVbUZkRt1i9eBq7wWI+SHObJYR7rQS2Gig6MY+hBe3LYuWJISlkq219+t/zBn+duzDZdf9U1Bve5sKztQI2me+b7UrcrVFU5fiQXsdSb4xBRq+19+d3SB5/OTs02fD/Y8f6tGkH4toRa3fn2XDF4gtm/O2WZyj3YsoikQ14dQNy65W+qY0iue1/eEhwkAQgBJNHamwQAQOLWCCTX7Uir2mlVZ0jyO4AcpE3dGuEcoAZKBHgU1SRqGdRyoGVQyzCtAGocUd38/CDjyYz12tt0/PmH7TNPQAjMivJCL/DQLBTy4xJ4w0iCcKXTFJ2SbC7I+oJoLUu3iUzh8X6W6FdSIyzWy4w48qAHOzzWjcOeWhCQkKvIFdIiLJJTUiPSronWoqjNyOaStKvu/GlcucqsLI/mebyXRfLMSKBqAiqr5qZQGD3G7EQxFFRTbLW8b84sv/fJzMR0w/cJVnMvHhgkgmbbn1lolSod35frI3aJwPPk7HxzdqHp+fSQjwuIAASVuvvl6WVEiFrq6FBcVfkPyCEi8iqi+iX4TQRYs4LQmgS6+dlvapfglQSgtVZd8ubHuc0kg+ul1WbnkG5tQKKJJAgESAL0wekQlIkvADNRSzK9H6whAkRuAlM2PUWIyAxD6xskubVZCBHZWhlZIhJiK9lEAMgYKhzvbkMKCdkugkwCkuS75DSlXZGNBb8xL1vL0m0hU5mZ1nL7gsrIqMdQWXUi33rgCe+nPw03w60ROAOmcC3K471UOExOU7aLfn1O1OZka1nWZjxF41YaowUe62VmlkUyTLWAr8UVQWjMe+zYmWKIXFeMX699+vXijdmG59NaBO9DfTsDY2oqoReylqHz9aMhgmXxof5IJKK1bAEbM8we6GAA9ab73YWV3kIkElF78pbyg7YNkiC7IN3VV8E4awlzsFY/AxEhKDJGAMDWTXY12Pn2c4Vwq6g/AmNrigLXdUDE1T/kQHdOOkUABgwBNeQG8gioadSzqGVRK6CWBTUDuLkSCqYtbdufnxH12pa9yXST5wpKOoOci3rVX1yQnfaWyWSxhNI3wKOxcHUKebQEvjDpS68tWyuiPiOq07KzIp0mcp1F8lr+AI8PsFgP02PIdWRhptLjy1rJIgWRg2IyK8PTY+S0ZLskWkXRmJOtZbl41ls4i3pMSQzyeB9L9DMzw1QTuBb+jz5u7EQxJKUsljtfnymOT9UdVwJs11JDqsryGSuTMjfYaRBB1/hwfzybNIole1sOFlCuOn/5dimTMmNRNRbV7hY8hIBamqdPAslgfSWA2/TK2s+rYug2HXOngXeLn3HT9xGASLrUnSe3DMwAoxfVBKpp1AqgZVHLoZZBJQLMQKbeEk+bIqVfXml98kd/dhr55gXQMJE0jr/InjmBqubeuG5/9Zkor2x1YnhvX+Stv+JWJPSUhTxCiEg4orksWkVRvSFqM9IuAzBmJtWeZ3hqhMd7mZFaF2sS3i6fEFafIRVETorBrIyS3iWdprQrojEnajOiteQtnfOXv8dIRkkOqz1HeHosFLiPGztODBFRp+ufv1w+e7nUaruwrdZKQ2eFnBnbpAU9cobZjJnLGHwSxA9G/d4zQtLMfOubM8VdQ9GxkaSq3MVZhshMNPqDn2HzoKUHs8Pfw9YkSDrkN4CbLPkcBgJISYIaR2YBUxH5PebYE5FsNbzJcdloqANDuFrQ6TZYJMY0HRgDBqCqGIkwp7uVGYmZEVSU8N4T8qiRnbIz+aGozQVh0WrhCE+NsEieRbJMtZArYRbSk02QEYMAyLiiMyutJIdkz1HZKYvGnGjMy2bRL19jsR6eGgu10OPGzhJDRCQkzS+2vzlTnF9sCbmd6hwRYxGtN29FLHWzcGaMRbWB3piurZDR850AACAASURBVHRsf9uOS2A74vJE5cKVRCFnJePG1pHUgT2Ib9OB7xcEVNHoZ3ovKFHgFjJjLWsM7vu/QRIQKQPD1tvv8mR6Q/Un8jwA5Nkc0w3gXBvdzRMpcrrrAqRumxezojyTDW9CIY8YIgDgupLZzRIDPN7PzCTT44DK+sJkIU8Dq7YiDszkisGsNE8Ok9uSdlV26zzWGyqhx5CdJYYAoNv1L1+rXpuq2Y6/vYZKhphOmrmMqW/mrUJEU1eG+qOmoXS63rYdGoGIKrXuuUuVw/uysYjG2E8ld+4KIipR5BFARGDBOw8xGgAyFk+qQyNqrmf9UOR73sK8NzsFDHk8wRSFR6PMMFcjwe+EEBhHHpTzDgOoQx4dyMy0vutNVHSmRZGvJUuGMujpBhGBoWKAojMrA1IAY2E24GPIzhJDUtJKyb58rVqru9vdtYcQMWIqka2rIHKOiZimaWx7D40Avk+TM43xyVp/TyT+mLbpQES+rR87qDbHgPP1n5c811+cs7/5izq6W8n3oKqKlWVv5sbmvcmCsKlEQhvby5Ppx/G0hTyxrNaRXq0uAQAAqDErH7iDKUgqDb9zOwK8VbOFM1ifdxvKoseGHSSGVvPbF1ozC03HFdv9JQxS6916w/E8oakbFQkBOa4oVWzXFdsswxCIoFp3rl6vPnckF41o/LG0Df1ISCnttigVlVQaPI88z52dsv/yZ39leYsdUOkfZIkUTyTXpcWFhDwgNzPGfFc4Ta9bd72OJ1wpJSEAKkzRmR5VzaSuWoqicmQPUHw15MkjKOkiJQkppbwlhhhDzpCxoI5m+D34ydhBYgiA2rY/s9Cq1LpC0rZ/7aSkheXOdxdWEnFtdDgRtVTOGa6WuZHVunv1evWL00uNloe0zVXTEMF1xexCq1i28zmL7yw1dIehjYKFB4AAuaJkC+ru/TyT29QLRgRKTx+PJ0JvRcjDEGggEtJte+1ytzrTqs21msudTqnrtDzfFdIHROAKqhbXY1q0YCX6IqmhaKwnYiV1xeCIiE9Ga52Qe2XVOEjketK2/VrDKZbtRsNptDzPlwCgazwaUXNpM5M2knHd0DnnDDEURT8BO0kMEdQbzuxCs93Z5mihteGh1nS/OL1UrnXferX/xDOFREwLLEattvf+JzNfnV6emmt6nnwUplFBVCzbs4ut/btTuvY0iqGtUs02axByaydVUfuHeCpNnrduoNu30XUWiWzatZ6IHrbIdcgOgIiER926U5ttLV0qF6/UanOtTqXr2UK4QgoZFHUPUgUYQ6agYih6VI3mzNRIrPdIJr8vGc1bmqWsGopCnnACJ6mQ1O36lWr3+nT9+nRjeqFVqdidrm87QggCAEVhpsbjMa2QtfbuSuwdS/b3RONRjXOE0E7047KDxBABNVtuqdr1fHpERmkhqFJzrs/UnzmYkfLWTVRKWlhuTc7UO91HpMOICJptb6XU8f2n8ea9Vv/oFkQkfHJs2emsPk8TAIDs2uS5RDclDILCmWmSpq+OwjmqKrDb/ZjBzxt1T7gUhfwARCR9clruykR99pvi0qVyY75t113fESQpCBa6+TUKvl5CkPDA6wq75jSWOqWJ+vzZUno03n8sO/hcLt4TUU0lNBE90RCRENSxvZn55vnL5fEbtZm5Vq3hdrq+50uSty00iMAYXrtRP3+l3N8TObwvfeJofnggZpkq+6G2AiHbyA4SQ1JCq+O3bT9w3j8SCAjA0JVYVFPVtbqFCIrCMwljdYF7BMdGQCLpe7LZ8nwptjs2/LFECG9upvPZRywSW/9xyfe86evUaQMAIJDveYvz7rUrslEPgq5ZKq0fPKxkc4A76Msf8iggIt8RtdnW7Kni1JdLK9dqTsOV4rYKDlteiYF292TXc52W11hoF69Wi1eqY6/39T2TNWJaaCJ6Egm8pZ4n5hZb5y6Vvj67PDndaLQ815NbmZiJQEryfb9t+6VKd2q2eX26/sbLfc8ezifiWugz+9HYKfeDIHjf7vquK+SjNJ0whHRcT8V1lbObfStUlRUKlqaw9iM8MkggxxXCJ6KnOQAGAZhh8mzen5t2zp3GDQFSRNJ1WDTKsznQNPCFWF7snjslVpYRABhTegeVvn4lnYUwWjrkQSECktRtOMuXKxOfLMyfWWkud3znAdMySJLfFY35ttNwG0ud+lx7+KVCciDKNR7eCJ8giMgXslS2r0zUvvxu6dJEdaVsO64AwHt8QPU8Wara313wGk233vBePN6Tz5iKEjrMfgx2ihgK1JDnSyEJkR5RHAgBMMYScT0R1xTl1s1W4SyXNg1Dxcb/z957Ncdx5fffJ3Sc6Z4ckHMgAGZSDKJIidJqJXnXf++zdtnr58JVfqpc5Uu/Ft/4wpeu8nrL9djWY+1KojJzBolEAEScwWAGk3Pnc56LBiGIBEmAHDCI/SmVCgS6zzkznb79i/ruKTEKqG5YFqGPhhT/rEAIhyPuX/65Vcg+JliIItHFtLYjSYYIsx1drnfeJ9UqAABAiLxeHIo4iWMOzwWl9byydCU189VKejqvVfT1LsbPet1RAAChallPjmUrqVoxURv6uCO6x4/ZhhakcNg1KKWGQeaXSt9fSdwaz6yu1RXVJJRCALefLkMhABTWFHPqfqFcNcpV/f23W1ubZbR12yGHRvLGiKEfu7TvJhBgDPxeziPbEXAAALuBOvXIvN/LpbM102p8Itv63BQ+oY/7zwaIIHbLwtBeYJmP3QhBwLCQYSCATDiCff4fe6BgDFgWIkcMOTwTFFgWqefUhUvJqT8uZufKlmaB576mN8rQWDopJ5W571ZMxaR/0R0e9LOCYx961aGU1uvG/cXSF9/HbtxNFyoasQB9EOe4/YP3YGuoGySWqH53KSHy+IPTjN8r2OXrnDNh93iDxNALAALAs9gj8w/lc0EI3W424Od380yG9AnNTX9WQIgxxPiJyvbH7wFiFmJ208ZvwlfksFtQQmsZZe6HxMy5WPZ+0dJpg2uoQggIVQra4uUkscjI/+lu3htkeEcPvaLY1YNUzbw9kf3i++XxmXylahC7rsfz1NiH0LJoYq3+3ZVVjNHRA5FoSOR57Kih3cMRQ42EUiqKjM/DcyzeuEPaETySiwkFBIyRYVq7Nv+bdpns6PNuf+OfYzqeQyOglGp1IzmemzkXz86VLJ2CXbrqKNDKRvxmmhUZXmKDvV78ilaWd6CqZk7O5M/9ELszlaspJqDbDhF6MhAYFpmPlStfLtxfKp480jQyEPB5eQY7Z8Ku4IihRgIBcAnY62FZ9kcvjG0o5Tkc8gsci1TVeuNEi4PD6w+l1FDN9Exh5ut4ZrZIjN31SVNC63lt4WKSczP7ftPrbXFD7BSqfrWgFOi6NTmT/58vF+9MZmuKSX90dTUACIBhkNW1eianTs4W3nmr+aMz7W0tEuMo413AEUONBCHocrMeiWOZh3u1MhiF/KIkMuWq8Zi9HZ7Ag0quhOxmFURK1wsJb8wJtu517/DmYRmksFS593ls5XaGGLZ9d5cfSBQoOXXhYtIVFAd+0S6HRecR+OpAKTVMMrtQ/NO3y3emsnXVBLtzQlAKdIOsJGtffh+3TPrJ+x2tzdKjHZ8cnhNHDDUQynEo4BHcLg49Ep+LMAgGeI8sJDPKS1nc6w2lpFrRF+eR27V7b8cUAKobpFAAhABAiWVaxbxVr2FBfPNckA4/gRCqlvT4rUz8xppW1gF8QR02KaGVZG35SirQKYtenuGdR+CrAiE0l1ev30mPTedq9ccnczQECigA+ZJ2/vqqR2Y/ON0WDbk2cnQcGoIjhhoJwyC/j3OJW9QNRRB6JV6WWQihY2jYARAChADCRmyp/N//ARlmN7PiKbAsM50CCAKESaWkjF631lZxd/+uzejwGkApNTUzPVOc+36lkq6D5+41vl7bY1MRVrupzBZCB0JTI5nZYvxm2tcu+1rdkHEegS8fSmm1boxOZq+OpgslvWGl3daLlj8itiGwz5F0rv7dlUQoKJ56i5NcLHzYA+Hw7DhiqJHwLBP0iW6R3eqeBj0yFwkIGENz1/qB/CxhgiHh2CkzmwZ2LZddqx8OAACQsl4f4wtw7V2AYZE3wI4c4rp6IMs5hT7eWCyTlFP1hUurmfslu8fysz38NtpzQAwxixGDEAMRBoACvW6a2tapFRBAtaTHb6UDPR7Bw4pe3mnW8dKxLJpI1m6MrsUTZUJIw8x1ENjy5tFYAAggAJQQEEtUr42mejo8PZ1eBjphZA3DEUMNA0IoCtjr4Xhua/Mlz+GQX+RYZJmWYxzaLhDgSLP8q98C44XFWlHAsNgtQYyl9z6kug45DvL8i5rd4dWCUmooZmo8H7+RNlXrQfWwnQwBAQAQYYg5xEsML3NigPc0uaWQKAZ4TmRM3Vq6mIzdTJv6VjWsIQCUFuPV+I10qNfLSyyGTiXGlwmlVFHNheXyQqys6YQ2qnIcBLKLbY64LEJXUlVNs8DD5RohgMAw6fxSeXml0trkZlys48FvFI4YahgIQo/M+TwcZrYoFwoh4DgUDPI8jxV197Lrf35AyDCM1/fi5gOAAGD3jEaSvLGKF7YAh1cLCuo5bflmuppVAN3Zgw+uN6jHoo/3tkqBLk+wW5abXO6wyEss5jBmEYTQUA0AQG6pXFp9TMMeCA3VSs8U0jMFX5skeJBjEHiJUEKLJXUxVsoVVNIgBxlG0CNzh/eGTx9rriv659/HpueKurGlGZzmClosUT0wbLi28kI4PBuOGGoUFCLo9wg+D89s6dSHkGVROCQKPEOB/sKX9xrzaDT6rs+48YNzp3mzoZQampVfLKcncpZqbU8IUQghxIgVsBgQgt1yqN8XHfL52mRXQGBEjBAEEMJNAUKYhU3DgfCAv7JWJ+bWcgtSUEnVE3eyTcNBzs0ip/zey0M3SWKtvhgvK4/xbO4UBsNIUDxxOPrLdzs626RazTAtqmlkIVZ+yItgV6HWDWs1VStXjKCfIsdn2iAcMdQoIIbQK3MeicNbn50UQeSTebeLAeAZYw62zc+7OZmDwwuCEqoU1bXJfDWrPLXCAqUUQIAZxHtYb6sUHQo0DQeiIwEpKDIC2tyFnv408A0xyNPsaj8aXh3L1nPq48Y3VSszU8wvlf3tEnI5t+6XA6VU18laur6WU63ni3eglCIIXSLT0+k5eTh65nhLU8SNMeQ4fPxQtFI1anUzmamTR1qLE0JzBaVWN3axzMibxxt2Re3mqcNxOODjJTe7pVSHAEJI3S7WI3EP1rErNSl2YUwHhzcUYpJSopacyhH9KSUWKaCIgazI+Dvk5gOh9iORcL9X9PG2IwxCSDdlkT4cCQIh62LDA75Qn3elolPjcVcxrOfUwnJFPWgwIuMYhl4Wmmbmi2qtroPnaUpHKcciv4cfGfB/cLptqD/g9fB2cWkEUNAvvnUwspapX7ieKpS1R3YFimbqhrVbLcffSN4YMQQBhABjuEXWe4Owo6c5Dj9O5UAIBJGVJBZB0PgIagggANhpYeTg0CgoMBQrv1AuxquEPP6xRylAkHdzvjZ3ZNDfdjTSNBJwh0SGRWCTM+zJUT6YQZ4Wd9vhcH65Ul2rb7kxBMBQzPxypZpR3AEBcM6l/hKgFCialS9pqvYsvQQoBQgBnkNeiWtvlQ+OBA8Oh/u6vRyHN04W+1HVEnUfPxxNput3JrPGTx8YFADDohZxpFAjeVPEEKQAQRDw8n4Pv5KsWRZprGiAFLgE1uvhWfbxcSYQuXgc8PAII6vx/eUpz6GgX+CesAAHB4dtQylVy3r6XlEt20F+W3ufsYClsNi8P9TzTnPTsN8VENADa9AOJoNQ9PCth8KpqUI9pxJjq2xtCIhF84ulwnI52CVjjnvWT+bw7BBCa3WjWNYMg2zfuk8BgIBijASe8Xu43k7PyGBg755gR6skrHcbe9hY6BLZ4f7ASrK6kqytZZWHlI+d4eHc6RvImyKGAAAIwrZm9/6hwFq2nszUG6hGIAAQQUlivR5uc1eyRxYAWAaFAoLAY8OwGugmgwDwLO5ul4YHAqLAONfIBpRSQikE0AkzdNgpxCL1glpMVK11H9kWpVQ5FxMe8Ha/3dx+NOrrkFgBIwQp2HF0M4QAs9Db4m7eG0zfK1Qz9a23o6CeU0urNV0xOYl1rvQXj2WRWs2o1cynmmXWm5RBiBDkGOgSmEhI7Grz7Onx7d0TiIRFUWQxggDCLVsMQQhliR3uD0zOFgplTd0UrA0hYFmEkRMa2kjeGDEEAQAg4BeOH26q1vXb47lsQdN1qzHBOxBgBP1eTpbYx0RPr4MwDAdFn8zpugWfu3QaBQAAihASedzW4j59rGW438+x+PlG/flAKVVVo1hSBYHxyALGLzorzeE1hgLLJJVUvV5Q6VYvTphF7rDYNBLoOd3SciDoCgiYRY+WDt4BEAoernmvPznmU8uapW39umZoViVV1ysGCInOs/AFQwGwCK2rpqKZ9uFBCOIHsRe2NdC28jAYsiwWBOwSGVnimkJiNOTqbJM72uSgT3CJDEIQIUgptRPEHp0LQoARaom6Rwb8C8ulxFp9QzJBCFwCw7FO595G8saIIQAghByLezo9At/Z1eZbiJcLRZWQxmR1MQwa6vMFvPyT39Uwgp1tnuMHm7IFpTGqHgKeRaGAMNTvH+oP+Ly888i3oZRaFk2tVUfvJpqb5P17m10uznmTdtgmFFBLJ6VETS3ZPrIfzxwKASvgYLen552WzpNNgU6ZFZlGOC0gw+Fgj7f7neZyqp5fLNMtQgspMWglVVdKOiH0ya9eP9ltk+2hsVfBem/jdSnwc7++6LoYUjWTUoohDPmF5qjLLrSLEGQZxLGI57DbzcoS6/MIAR9v/+d2sTyHMUZ2WYX1jixP/MYggrLMjQwEp2YLmbyqaWS9hQuEXpkXnCD6hvIGiSEAAACQY3F7izcccB89ENZ0izSoMQaE0O3CHpl78tmJEOxolX77qx7daIyXDgKAERQERnKzPIfgLvbtev3QDXN+MXfxylJ/b7C91ScIrNPa0GGbUEpNzapmFUMxIfxJtBAnMtEhf/8HbV1vN0thEWHYkLatEAIKgSBzLftD2flyLauqxYfTiACA1KJKUVfLGjEJwk8PELTFimmapmlSSjHGLMvatbsIIZRShNBOS3lRSi3LghAihAghmUzGMIxQKMTz/IuvCvZioZZJFMXUNAtQwLBooNv7wTttoYCAIEQIYIxZFvIcFgWG5zHGCCOI0IbogRCsV1XZpo5hMGqOuvu7fVP3CxlNsYt+MhgF/YLbEUMN5c0SQ/ZJiDF0uzm3m92l8R//dwohFAVGFHbja3c6wP4ESkGxqNybXpuaXlNV4+C+llBYcsxmDtuFAkM11aJOLPpQ4LQ7KHSdau56u0mKPFBCDQICCDCQo66OtyK5+VJyPEdM8mi5DEM11bJBDAL4p1QUs2VQLpeLxWKFQsE0TVmW29rampubMcbpdLpYLEaj0UAggPF23euU0kqlsry8zPN8V1eXZVnffffd2trab3/725aWlp+xGCKEqpqZSNWWVip1xQSUIgT8Pr63y9va5P7JzR+uBzhvFXS/42Ayyc12tkmRkJgrqBahlAIGQ7eLZZmf7Vf9UnizxJDNj7muL3xmumVj6saNv2sjv35YFlldLU/PZDLZGgRgYSm/ZzDCc07tAYdtQQnQa6Za0enmkneUAgg4N+NpcQleHqHG98mEELIiExn0d59qrmWVUqL2qLPM1Cytaljm00ofUUoIWVlZ+fzzz1dWVtxuN8aY47hqter1ejHGd+/enZqaOn36tNfrRQht89KglK6trX322Wd+v/9v//ZvEUJXr16dnZ09e/Zsc3PzM37sVx5KaV0xpu8Xzl9bvTmeqdTtbttwPWYIPs5J2ACDIYNha5PU0SIvxtdFmGXRlWQ1karJEicKb4B38oXwJoqhl4hz0r4YKKV1RV9YysdWirpu5YvK4lI+X1RkWdi6WYqDw0NQaiqmXjMA3fx6D9cbijfIvb4lEEF3UOg8Hq2k6/e/Wall1c1zUUAt3dJrBjGfXmheUZTLly9/9tlnH3744fHjx3me1zTN4/FwHAcAkCQpGAyKogg2BRVtGV30UFQQx3GhUMjj8UAIKaWKoiiKQh4k6G5EEW2MYG+2xSfddEN8aJeHlmH/c/M2mzd73O83r/yhiXYa4UQITaXr315KXLqZLFf1jbfa9XF27WywQ5G8Hr456nK72LpiAgA13bozmfV7uVBAbG2Stm3Uc3gSjhhy+BliWTSTqU3PpjO5GgVUUc3789lYrNAUlTB2wqgdng6lwDKIZSecbpwvEAAALc3SayZpfOHUB5NAgBjobXV3Hovm5kv1gkp/Wt6PWtTUrK3Cqx+mWq1OTk5qmnbmzJm9e/cyDGNLAYSQZVn9/f2RSCQcDkMI6/W6pmksy1qWVS6XCSEej0eSJEJIoVCo1+sulysQCHAcByEMBAKnTp3iOE4QBFVd7x+yEZxUq9XK5bKqqjzPe71et9tthxZVq1XLsnier9frlmV5PB5RFG23mmVZ1WrVMAyXyyUIgr19Pp+nlPp8PpZl7d3z+bxpmpIk+Xw+QRAAAKZpVqvVUqlk7+v3++3f67quaRpCyF6Py+WSZdk0zXK5XKlUGIbx+XySJOHtlamlFOiGlUjV7s0XyjVjkxKm68pvdxsgQYQgx6L1eHkIKAWFsn7vfuHEoVo0JCLkBA81AEcMOfzcoBRomrG4lJubzymKQSmwLLIcL9ybWRscCIuCU53FYVsQQokFHm1xoytWPa+aisW72V16BEIIMYddQUHwblFnmhJALdv68pSHMEKIYRhd1wuFgmEYdui0bWjRNG1+fn5+fv7IkSOCIMzNzc3MzIiiWKvVYrGYpmmdnZ0jIyOlUmlmZiaVSsmyfPbs2eHhYZ7nS6XS9evXRVGMRqM/WRil2Wz24sWLy8vLtVqN47iurq5jx461tbUpinLz5s10Oh0MBpeXl10u19tvv93R0WGLIV3X79y5k0gkDh061Nvby3Gcqqr/+7//CyH89a9/7ff78/n8d999Nzc3RykNh8Nvv/328PCwruuxWGx0dHRpaUnTNJ/Pd+DAgf3790uSlE6n79+/b68nnU4fOXKkv79/bm7u9u3b+XyeZdkDBw6cPHnS6/Vus/murpNMTilXdfpTr6lpEsvc9WBNQohukB9L9UJAKc0V1VxRMy3COc0oG4EjhnYXu3ejUw3ixUILxfrUTHolWbKIfZughZI6eS/91tFyMODiOMfL7vA0IKAWpYSuv4w/gAJg1I1ysq6UdVdQ2L3TiFhULetqyQ5a2jQPBZRSSuh2+hBKknTw4MELFy7853/+Z61W27t3bzQadblcAABVVe/du3fx4sVwONza2rq4uPinP/2J5/ne3l5RFNfW1iYmJm7duhUKhfx+P8dxN27cyOfzkiT19PTk8/lvv/3W5/N98MEH3KZC2JRSVVWLxSLP8263e3V19euvvy6VSr/+9a8RQqOjo5cuXWptbRUEYd++fRtRSpRSwzCmpqbGxsai0WhXV5c9zldffYUxfvfdd10u14ULF7744ou+vr5oNGrbeyzLWllZ+eyzz1KpVFtbmyzL8Xg8Ho+bpnn06NFcLnfx4sXV1VWO4yKRCABgYWHhs88+q1QqfX199gg7auxlWqRa13XjJ23qCaGqatk9wp6WPfM8UNMkNcXQf9Igj6oaqSum1fBeBm8qjhjaRSilFrEAAAgh6BRPfyFQCgzDSiTKM7OZclkDD1L8LIssLOXnF3K93QGWc+KGHJ6GXdL0kYbhkFJDMYsrlVpG8XdIaHfiNSgFpmqWV2vVtEKfNT4JQsjz/PHjx+Px+NWrV//93//dttO8/fbboVDIjvUpl8u6rtuGorW1tc7OzpMnT3Z3d8/MzPzbv/3b0tLSwYMHT58+TQghhFy8ePHEiRNtbW22K23D6bZ5xlAo9MEHH2CMKaX379//r//6r6tXr+7bt6+jo6Nara6srHR2dn700Ud79uwJhUKbY5JUVbU9ZRthQPYUhBBFUW7cuFGv18+ePdvb22tZltvtVhRlcnJybGzs7Nmzp0+fZln2zp07//3f/33hwoWuri7TNFdXV7PZ7CeffHLs2LGmpqYrV64sLy8fPnz4o48+kmWZZVlJkrZ/T6Z2sNhPlYdl0UrNqCu7axqiFCiqVSrpmm6rrvU1E0IJdXpzNwxHDO0ilNJCrZyt5GVRCko+nuEh3NVsMgdAKS2V1enZ9MJSXtPNTb8HmWxtcip1cF+zLAnIqdPt8GTs3GgEHy1STwxSXVNKiWrz3oDdlL7xs1OqlvX8UlkpPFpqaAfBvwihaDT6l3/5l/39/devX5+cnFxeXq7X6x9++OGjOfCCIHR3d/f394fDYcuy2tvbGYYZGBhoa2uDEPb393/11Vdra2u6rj9uOgghx3FutzuRSMTj8ZWVlUKhUC6XC4VCR0cHAMDj8Rw4cODIkSN+v//Rj/CotLJ/wBgHAoHx8fGpqalAINDS0iIIQiaTmZ+fz+fzhJBYLAYAKJfL9Xp9cXExl8vZO3Z0dBw/fnxwcBAAIMsyxjgWi8Visb1793q9XobZQeciDCHHoJ8WKoOEgHJVL9d0y9pBAcwdQSkglFaqeqmimz/JH4QMg1in91LjcMTQ7kIouRu7V1Wq+zqG+qNdssvNIOf83UUsi6ytVadnM7lcze40vlHpVdXM2bns4lK+tcXHMNg5CA5PggKIwIOWOZscVRBSSusFLbdQVooa62Yb7h6xY7eL8Up6pmio5tZO9u31pYIQYoybm5t9Pt/g4ODo6Oi5c+c+//zz1tZWWyJs3pLjOEmS7BBplmU5jhNFURAEO8qY53kAwIblZksMw1hZWfn2228zmYwoioZhmKZpW5XsKXw+X1NTkyiKj+q5JwwriuIvfvGL/3fpvQAAIABJREFUUql07dq1+/fv79+//+TJk4ZhZDKZUqk0NTWVSCQAAKqqut3upqYmhmFM02QYxu/3ezweu4TSwMDAu+++Ozo6+umnn969e/fdd98dGRnZiOB+KgwDZQ/H8RhWdNtUByGglJYreiarqJrJsbvUN5daJskV1HxRs35qp3SLjOS2C8k697IG4Iih3QRCr0sKSb4bMzcnlyf3d+092LW3t6nTzbvRm1C6/oVDKVUUY3E5P7+YVzVrPQfaToemAACQSJYnp9N7R5rdbienzOEpPO4EgQAadSO7UCrEqlLEBTnU2KBASkgtryYn8vmlMnnUA7PDMmm2HnK73V1dXbIsFwqF3//+9wsLCz09PY92St+6VM7jq+g8RKVS+eabby5fvnzmzJljx45pmlav18fHxzcS7DHGj7PH2BlkG6E8dpEkW8ewLDs0NPR3f/d309PTly5d+o//+I9qtXrixAmMcWtr68mTJzfXN5JlORqNLi0t2QWy7cgkCGE0Gv3Vr341PDx8+/btCxcupNNpWZbt+KHtfIcch8NB0e/hMzkVPGhXDwEoVfREslatGrL7Ke0HnhlVs5LpeqGokgfRY5QCjEEoIIQColN6sVE4YmgXgRByDL+3fc9SOvbZ9c/nVufvLI69M/z2vo6h1kDUzYt2U7+XvcyfD4TQTK46MZVMrpURgpKbI5SqqskwmOOwplm1mj4xmXrnZFckLHGck4/q8ExAQC1QXq2lZwuhAa8UbGjDVApMnRSWKqnxnFYxHh8R8vRQEVtPWJa10XCDZVm7Y4b9zx1FEG9nulqtNjExgRA6ePDg4OBgMplECD11FlskybKsKEoul9N1nWXZTCZTr9dlWba3YRimu7s7Go3yPH/lypWJiYkTJ06EQqHFxcVgMLhv3z6WZTckFyFk4+eNWRBCwWDQ6/WGw+FYLDY9PZ1Kpbq6urbpLGMZHA2KHa3yYrzyYyAzhKpuraZruaIaDokcarzznRBaKKmJVLVaNzbZIKnIs93tnpCf315xAIen44ihXcSOOghIvpODb92Lz1ybvX4nXlmrZMaWJo8NHD7acyAkBRjnXG4QlFLDsJLJ8uz9rGXSgb5Qd6c/uVaZuZ8J+l17BiLVmjY7l40nSnPz2YH+MMdhx7zs8EQgRLYPYovHuVLUkuO5puGA6OEZvmFPQUJpLaesjGayC2X6mMDc9dBD+HT/SLlcnp6eZlk2HA4DAObm5m7duhWJRHp6emy310M8Kly278yyN2ZZtlwur66u+ny+iYmJqakpTdOeqodYlu3o6DBN89q1ay0tLR6P5+LFi6VSyePxAABUVV1cXGQYxs78p5QKghAMBgcGBi5fvnzu3Dme59vb223DkizLbrf7oRlN00ylUtVqVRCEarWqKIrtB9x+9BWEMOgXDw0HF2PlhVjZotQ2B1oWXV2rrySr3e0edhec74ZhpdK1lWRV1a11WyUFGKOuNvngSMjreUprcIft44ihXYdBuDPU9ouDZxOF1UR1NaWvZeYz06sz48v3jvYe3N85HHR7GcyARneTftOglNZq+kqihBD8xdm+k8c73S72i69n5hdyHpk/cayjpdkzNpG8fTexuFzIZmsemWcYJ4za4bH8GDO0VRkXSyfZ2VL8Rtrb6va0SA3xexNC1ZK2cjOzdDm5Zej0OghAtK35NE27d+/e1atXGYbhOK5Wq3k8nt/97nd79+4FALhcLp/PZ9uKeJ63qyDa+sD2rMmyvGE44Xne5/PZQTYMw3i9Xo/HYzuhZFn2+Xwcx/n9/vfff/8Pf/jD73//++7ubo/H09LSksvlGIZBCLndbq/Xu6UEYRhmeHj4zJkz58+f/+d//udIJNLf33/8+HFCCMMwmqZdvHhxdHRUFMVKpXLo0KFPPvkkFAodOnSoUChcvXr1X//1X+2OIuFw+OzZs0NDQyzL2qrIdrRRSufn58+dO1etVu16jL/85S97enpYdrsdKiEEbhd7aG+kWje/urASS1Z13aKUUgpzBXX6fmFPr88lMo3tfkgpLVeNmflSIlW3awxBCHgO9XR4PnqvfWTALwpOBGrDcMTQroMQcnHC4e59s6vH/zj6Zd1SVUOt1mqZQmZieertoeOnBt/qi3a5eRdw9NBzQClQFF0QmF99PDQ8FG1p9qTTFY5jIIQII69X2Dvc1NMdHN4TjcUL1apmmsQRQw5PAm4EUG8FBfWCFr+ZDvZ6RR/PudnnNDRSCgzFTE3kZ7+O55crxCKPC0WCEMLtmTW9Xu+ZM2daW1vL5TIAwOPxtLa2dnR0uN1uwzDefffdoaGhzs5Ol8t16NAhuxq12+22t/z4449VVW1vb7e1y/79+//pn/6po6PD5XK1trb+wz/8g504hhD63e9+V6lUWltbJUk6ffp0KBRKpVL2ZgCAcrnc2dnp9Xo//vjjkydPbilBEEKRSOSv//qvDxw4kMvl/H5/T0+P3eUjGAyyLPvOO+9Eo1HDMDweT0dHR3t7O8/zkUjkk08+GRkZicfjqqpyHBeNRjs7O3me7+jo+Ku/+itRFH0+n63t+vv7AQDZbBZjHI1Ge3p6gsHgjtrKYgzDIfHdk63BgHB7PDO9UFhdqyuKVVPMqfuFA8OhprDbFpPbH/PJmCaNJaqTs/lSRacUuATc3iIN9fmP7g8PDwa8Hh7tTgrbm4kjhl4ECCG/2/vu8NuxTPz60k1LtyzdRBjWdWUuuWhnhgy39nHMLuUjvBFAADwe8ejhdpfIShKPMUKb3tIQhDzPyDLv9Qj9fSGOa/A7nMPPDQgghhA/xkkGAACAmCQfr8ZvpQNdcrDHi7lnDwGkFFgmqSRrS1dSa/fylmY9IUkNQoi24V23U8A6OztbWlosy6KUMgzDsqydHcZxXHd3d0dHh222aWlpiUajGGP7r4Ig9Pf327vYiqGpqSkUCtkbeL3eo0eP2k4xWydRSu3y1j6f7+jRo4Zh2H8FANjWHYTQwMDAxs+PLpVhmLa2tkgkYhiGvU6704VtmhoYGOjq6rIsi2VZ+yMAADDGfr9fluX+/n47NIplWXt8n8+3d+9ee1gAAEKoqakpEAjYC+M4zt5sR8cLQogxDAaEY4civZ2esXu5ry6sTM8XDYOkMvXZheKePj/PM42qPGW3hp1fKi6tVA2TQgjaWty/+qDz8N5wwM8LvHMHazCOGHpBMBj3NXV9eOiDhbXFWCWOAMaY7Wvu+/O3fhmRQwG3F+1C8N0bBURQkniXm7MLXG7ZFxIz2O1GosgCAJyXKocnAAFACD35eUMBMGpG/FZa9PN7WBzokBD7LFEjFADLtCqp+uw3K0tXk1rVAADQJ7R1hgBtL4PNjpW2hQX4qeHZTrbaMNJs/hk8yLTfPBTDMLawsMGbnvmbw49sBWb7wh5azEMDPvyZIMQY28n8W+7LcdzmkoOb17mx8s1/xT9VJRuDg+cwwEMIMEKSixMFlueZUlnP5tVUul6rm5Oz+T39AY/MSe7GNPzRDbKcqEzM5osljRLidjNDff79Q8HmqBtj5LgQGo4jLV8QEEKRFfZ37NnXuZfDXFOwuSPSkciuxNMrHtHtl7x4m7c3h8cAIUQIMng9mXbL7xKu33MRxk4en8MTgQBhiBgIHh+mDAEABFRTyuxX8XufL+XjFcuwdpqiRQmwdKuwXJn4dHHqj4uVVB1Q+OTnNcQQMQiiJxitHtnlxdbyeJ65nrDv4/60/eT/5/8e7Oh1jGDAxx/eFx7p94sCJpQuxCsXrq4uxSu6QZ4/S8+yyGqqduFa8t79om5YDAN7OjxH9oUjQZeTcrNLOGLoBQEBRBiHJP+HB872t/Y3+Zv+5vRv+5t7/njry09vfJEp5cB672OHxuDcLhyeE2h7Wp98JkFALFJJ1RZ+SCxeTFbTCjV3dh1bllWMV6c+W5o9F6umFWJRCOiTlBCACEHEoMcIfocXAYSQY3F7i7R/OBgOCgjCumKOT+emZnPV2pPqUm4HSmmtbkzO5G6NpQtFjVLokbgDe0J93T5BcKrF7haOGHqBUMogZrh14Oz+d32yf6i17y9P/nlHpP3i5KU/3v4qWUxbZMevlQ4ODrsChBhDzD5NDAG7JjUsrdamv4xNfxkrrtQswyLkaZcyBYQQQzHzC+Xx/56f/SpeSSuUAEjhE/xj66yLIeep+HKBbhc33B/Y0xdwiQygNFdUb95Nzy8VFdV86vF/HJRSTbcWlstXbq8l1momoSyH+ru9B0eCQZ+AkFNverdwYoZeHLaF1ueWPzr4XtAbkkWpM9T6/5z9v8/d+e77iQtVrf4XRz/uDLfhHYb1OTg4NBwIAGYRZp/ui7KvVWLR/EL5bn6uGK/0nm2N7gm4/DzCEKItwjsIoZZu1TLK8vX03Hcrqcm8UTcB3a53CWGIWWT3TWv4nYJSSgg1DItQyjKYeR1UFyHEMIhlEZbFtgf8BSwZQoAQaG+VzhxvTmeVidm8rlnjs3nx22WE4PBAQBTYnR4eCqhuWIux8pfn43encqpmMRh1tLrfOdbc3+PnOMdDtos4YuiFQinFCEc8wTODb4kczyKmO9Lx2xO/Yln+wsRFRVP++tRvOkOtLHaqRzg4vFQgwCxiuO2G2UMAAQVKQbv/zUpqItd+NNpxPBroll0BgeXwRql5QqilESWvJsbzixdWE3czWtmglNgDbBOMEcNj2LiMiwcNMKhpkpqip5LlpVhBcnNDe6IBv/vVvxVZFk2mSvfns4LAdnX4AwGXwDPbDyR6Zmxn2chAIJtXi2V9aaWiqOTarTXLpByHB3p8HIu3n6hBKTUMEl+tfnUhfm00Va0bEMJwUDj9VsuR/RFZ4pycj13FEUMvFPvKZCDyiJKdOstCJuIJf3jg3WK1MLY0+b+8+Oujv+wKtbEM65z4Dg4vEcRCzGOAILB24PEwdVKI1yqZ5ZXRbKjfG93j80TdvJfFHKYWVYpaOVVPTxWSE/lqtkYMOz1qZ9c6RPB50vg3Y8sgQqiuW5WqGosXxiZSd8ZWWQb92S/38K9JyxqMoSiwqWTl/OXFlmbP4YOtewYi0YjkcvGYgbttKZIl7q0D0fhqtVjSCmVN0azb45mQn2cw6m6Xhe3VRbQL6CdSte8uJc5fS+aLOgXUJTD79gRPHo6G/OJrcSBeaxwx9BKgEGxEIlAIGIzbA81/c+r/8rp9V+5dqyq1//PWx3tae3nGaSbq4PCSgBCxmBGYnWZG2RtbillYKhWXy0sXVxmRYXiEMKKEmqql101TswCh9Fkf0piDDI8R3l7n+q2wS/gQQk2T1BVjba06eS81OpaYvJdOrZV9XuGvfrN/ZKTJ7eZfiwgVhFAg4N6/v+X22Oq5b+a+v7DY0eo9cqj1yKHWzs6Azyvy/EZdoQZ/HAgBQjASEj94p01RrCu3U4Wypqjm1xcT6bz6Z2c7RgYDbhfHMBDBLRymFABKKCG0rpgLy6Uvf4hdvb1WKGkAArfA7BsKfvBOW3enh2VfA2fl644jhl4Cmw3idjtBlmHaAk1/duh9Sum12Vuf3vgCwo/7m7tFdouSGw4ODrsNBBAziJNYzCJLt3ZwEVJqZ+PbzzmtZmg146GxEbTDfXYc80MBRRAyAsOKDHymABJKAaXUNK1qTUuslufns9OzmXuzmcWlfKmsWoS4Re7IwbYTb3X6fS67F9lrkdSBEOzq8L9/pjeZqtybTefytXv30+e+u9/bHRjeEx0ciPR2BQJBt12rsKH+JgghxRj2dnr+4qMuhoUXryfzJa1aN67fSacz9eOHogeGQ33dXsnFPTBTAfBABpmEqooZX62OTWev3krNLpQUzYQQeiTurQORT852DPX7OdYJFXoROGLolQACyGCmJdD050c/FHnh4tS1//fqZ58c/sX+9j0iJ+yoZryDg8PzAyGACPJuluGQXt2BaKEQcC6Gc7OmZhmKSSwKCQU/VgGldgovJzC8hyMWVfIqMR+uJfjYVQEAEGRdDOZ2nGJNCLUsomlGrlCPrxTv3E3eHV9dXC7kCophmIACACFCsKlJ2tMfYVm8lq7uJJDpJWNHPTU1eYaHIiurpUJRVTRrOVaMxYvXbq00R6ShgeiB/c2DA5G2Fq/Hw7MsbpyhCEJAWRZ3d3h/9UEnw6CrN9dSubpl0flYObFWu343/db+yFC/vznidrsZhkEQQNsml8oq9xeKdyazi/FyuWoAChBGAS9//GDkk7Odfd0+fucH2uHZcMTQqwKEkEG4yRf55f73WMR+P3H+0+t/Mk1zX8ceWZSwo4ccHF4sEAFeYvHOOtJTVmBaDobbjoSVglZYrlTX6mrFsDSLWARCiFjEuRjBx/k6PE2D/kquPvtlvJSsb796IkKQd7EMt7PwaUJIrWYkVkv35zJ3x5NTM+nYSrFc0SyLrI9rG6oAVFXz1t2VpVjhSX3ZXlUMw1pJFInd1JQCACEFtFrT5xbz8UT59t1EV4f/yKG2keFoT1cgGHSzOwlwfgIUQAAAxqCrzfNnZzu9Enfh+moiWVd0U1GtucXSWrp+dTTVFHZFwy63i0UA1hQjX1BXUrVMXqlUDYtQBCHH4nBIOH4wevbtlt4uH8fZXWYdw9CLwBFDrxC2Hop4A++NvM1gfP3+rc9vf6UZ6pHeA15RduxDDg4vDAooRFDwsKzAANv3tY0HEkQw1Ocd+rPO9iMRiKFa1Kpr9VpB08q6qRGIACezood3hwU55OIkpppWzJo19fmyXjGePro9BYaczDL8zgrWGwZZXs5/+c3sjZvxWKJUV3TTIg+89D+OQwhdS9cKhRjG9i9fr4cwpRRYhOiGCX8sO2CLPKDp5upaJZuvzy/l9kxGzp7pPX2qOxhwPVsfpAf5d4AQalrEMIhuEIZBIo87WmWfl29pcl25mbo3X8wXNd2wKnWjUjeXE1UWQ4ggAJAQYFmWRew2KYjnkFfm+jo9J440HT0QCQdECkClahCLsCxiWYQxelA23z5qjfrSHNZxxNCrBYSQxWyTL/yL/adlwf3FnW8+v/0NBeBozwGPS8JO/zIHhxcCtahRt7SqQR/YTp6yPaUAApdf6D7V3Lo/KHo5hJDo4XxtEqWArtfgoxDBde8MBBBATzMa+LA9t1BO3MkQc5vWIWoZllYzTN3EPLNNwwbDoOZmz9HDbQAAl4tdTVUKJUVRLULIZqEHIZDcbHPU43Zzr59liALLIoViPblWMc31Tre2dxIhwGDG5WKDAVdfT/DQ/uaRoagsCTs1C9lR5xahpkk0zVJUs1IzckU1k1XyRS0cEPcOBpqiLp+He+dYS3+379ZY+uZ4Np6oFkuaqlmEEsOkZL2SAkQAMgzkWSxLbEvUfXA4dPxQtLVFEnmsG9bKam1yJl+q6gEfHw6Kfi/vkThRZHgWYQYxeNcLB7xpOGLoVQQj5Hd53+o7ZFLr/MSlb8bOW8Q63L0vIPsZRw85OOwqFFgWqWfV+K309JfxakYB23kRh5AVmaa9odZDYdEnQAQBBJBCiDftuRE1/cBsgTnk75R7320trVbLqTrYhu6ydJIcy7kCArVosNfLudntPNERgj6/68TxzqE90aXl/Oz9zMTU2vxiLpOrVauarluEUAogQjAYcL3/Xu++kSaef82qnVFCc/n6xSuLhZJaV0wAAASAwUgUWJ9XaGn2DPSF9gxGh/aEm6MeUWQx3oG13Y64UjWzXDXyRS2bV1Lp+lqmns4pmbySL2qaZoYCQjLd/M6xlrZmSRSZ1mYp4BOGBgKLy+V7c4Vkul6p6opmmQahgGKMRB57JC4SEns7vT2d3q52WXazEMJa3VhYLv9wLXF9dK1UMUSBCfiEUECIhsWWiBQNi6GA4PfykpvlOYyZrcp6OuwcRwy9ikAIEcIByXdq8BjPcN+MXfhi9FtV104OHAnKfowZ59x3cNglLIvUcursN/HZc7HM/RIxyVOdRRRQhFGwz9v7bkug24NZvF62+qEd4YP/Pfg9hJB3sx3HI7nF0uzXK1pZe6pnihJQTtanv4jVsurQJ53Ne4O8xD7digMhhgBzTDjkDgZcI0PRUye75hZy96bXpmfTsXgpm68pqkkILZSUSlVvbvK0t/kZ5rVxzVMKFFW/eSueztYU1UAIciySJT4alnp7QkN7IkOD4Y42n88nsrananv30AfJd6RSMzLZ+mKsPL9cXlqprGXrpYquqqZh0o2+rDWlVq2v5IraO281Dw/4PTLvdrODPb6eDs+R/ZFiWcsX1FJFV3ULUMqxWJa4UEDweXivh+M5DCEkhBbL2uR07vsrq7cns6WKRimo1Ix0XoELkGORS2R8Hq4p4uppk3u7vJ1tnlBAcLvY16JQ+CuOI4ZeUSAEGCG/23O87zBC6Ou7589PXSGUHO8/HPGEGKdzsYNDw6GAEFJN1+cvrE58ulCMV6n19DJDtupxh4SuE9GWA7Y0AduPtkEYyVFX73utpdXayq20pT+pS+vGlEpeW7y0auoWwqhp2M+5n6KHNv4GIcQYulxcZ4e/tcV76EBrIlGcns2MT6Vi8WI6Uy1XtNE7if6eoM8n+rwieh3sDpQCi1jJVOXytdj8Qs4lcm3NQmuLd6AvtGcw0t8bioRlQWQYjMBOykbZJaFLFW0lWZ2dL03P5eeWSpm8phmW3VXbtvBtjEgpyOTU89eS6ZxSqbbtGwqFAyLLIo5lIiEcDoqkk1JKiX3GQAAhRBBCBCCAlFLNsNYy9TsTme+vrM4ulOqq+VCDFs0guq4XS1osUR2fyoWD4kCPb3jA39fla2t2SxKHd6GQ0puDI4ZeXSCECCKvSz7acwBB9MPk5YvT13RTPzlwtNkfdVp2ODg0FkqpUtJnv16Z/GyxEKtst1kYpazINI0E249GpLAL4R1elRAwHA4P+PrOtpVWa6WV6nacZRRQvWbGb6R5icUcjAz6WXEHNwQ73ITjYDDg8vvE3p7g8bc6VpPl+3PZqZm11WT57kSyvd03MhQVBPbVD6OmlFYr2vRMejmW72z39/eF9wyEe7r8zc0ejyzYLb3gZovcNiCU6poVW63cHs/cGk8vxiqlim4YPzZO2Xo8CGp1Y+xerlo1Uun62281d7TKPLfecPJRh6ZtVKKUapq1tFL54Wri6u1UfLVmWhQ+4pzdCJ4mFNQUq7pSSazVxu5l+3t8p442790TjARFpzzjM+OIoVcaCCBAwOf2nOg/zLPsF7e//WHysmGZZ4ZONPkiHMM6572DQ0OglBqqFbuenv4yVohXAdluwg5mkb9T7jwe8XfKzLM9iiAUJK71QCg7V5yt6EpBe2qmmL2BUTNj19ZYF8N7uECHB+28XLbdbdTt5kWRa2n2DA6Ejx5pm5vP5vN1VTV03RIEdscf54VDCFEUHUHw9vGuzg5/V6c/GHAJAoPxepGenR4Ui5Bq1ZhfKv1wNXFzLJ3OqYZB6DZCx+zZDIPOx8rlql4sa++eaO3p9Moyh7cy3UEITItUqvr8YumHa8lro6lsXrHINhYMAaRQN0gyo+TLeianJFLVk0eaO9tk105kscMGjhh61bHTTly8uK99yLLID5OXRxfGKCWnBo+3BZsdPeTg8PxQSk3NyswWJj9dKCyVHzQj28aVhYDc7Oo+1dx6KCzK3DPbUBCD5CZXz+mW0motfn3N0sn2jFKgllEXfliVIy5e5twB4RniCe2JMIYYo4Af+7xid1egVtUpABz3ejwgIISyLBw53C4IjCiyzIOY4me4N1IKCCH5onprLH3+2ur4vXylblC6k8EggACYJk1llW8vJ7J55Z1jLUf2RwI+AeOfuLEopaZFMznl9njm0o3kxEy+Wjco2Xbe/IN8OU2zZhdKqUw9uaa+f6plZDAgSxyEz/Lx32Rej3P9DcfWQx6XfKTngCRK309cujU/pur66aHjneE2kXNaduwKdGe3wJ2NTAixU1le8WNHCKGU2l2dXvZadhFKaDFenf4ytnYvv/160BQAVmCaRoKdJ5rkiAv+9FG3feydGA4Huz0dR6OFpUpppbqt0kYQAEqrGWXu2xU56uo6EUXSc6XE2xFFosAKPAvW41qeebAXB8ZIkni3xG8KTH+WcSgAhJBsXr1wdfXL87HYakXX6bONBiGgFFRq5s3xbDqnKqp16q3mUEDAm7yolkWTa7VL15PfXFqJJ2uabu107RsVhwgBxZJx+dZqoaTU6saxQ1HJzSKnePVOcMTQ6wEEEEIoCa6R9gGOYb+++8OdxTHd1N7fd7on0smzTkvXRmKLFcMwCCEYY7vH48afAAA7LYBp98UEdh8jSuv1ej6f9/l8kiS9rAO3eUmPWwMhpFQqVatVr9crSdLPtewnpdRQrKXLqaUra4ZibX9HaBtUGGRqllY1EIbITurZ6SG1U5Y0U68ZCEFGwHaBnO116ICUgNxCeeGHhL9dCvWxW7pjdsTrWL+mIUumhFaq+vXba3/8dnl5tUKs5wqXsndVNTIfK98ey+zp9wf9/OYNTIusrtVujKUX4+XtVbN64mQU1FRrbDqvG0Tg8aF9EZcIX79iUS8PRwy9TkAIBYbvi3bR/ZRQMhWfIYR8eOC9rki7wPKv3w3slYQQUqvV5ufnV1ZWNE0TBCEajfb19UmSVKlUksmk2+1uaWlh2e3GUlBKTdNcWFioVCoDAwMul2t+fv7rr79+77339u/f/2IUhq17CCG29KGUViqVeDyOEOrq6nK5XI9b9p07d+7cuXP69Om9e/fy/M/wHKOUEovml8pLl1PVjLLNStMbGIqZuJPRa0bT3mDTSMDb5hZkzm4ctp3vyk4uMhSrllVyi+XVu5nUZL66puxIT0EATNVcvZuNDPnlFpcg8w1tRPqmQClVVXN0PHvu/EpstUrIDk+FJwxMQDDIe6SHQhooRtDn4WQ3QwEEgDxvoDoEEADDJDMLxT99FxNd7L7BgB08/nzrf1NwxNBrBoRQ5ITBll4E0Tfj5+8l5iBEZ4ZP9DV1i7xFuK6CAAAgAElEQVSA4M/z3f2FQSktl8uXL1/+7rvvdF3ned40zWg06vf7BUGIxWLnzp3r7Oz8+OOPGWYHUYqapn311Vfz8/P/+I//2NXVFY/Hv/jii56enn379u3qx9nAsqxisVgqlYLBoCzLhJDV1dVPP/1UEIS/+Zu/EUVxy89iWdb09PS5c+fa2toGBwd5nn90m9cdSmm9oC5dSWXni9QgO+5+atLSSrW6pqzNFBJ3fdE9/qZhv79DFv08wzMQPVYSUUqJSbSqUc2q2dliciKXuV8sLFf0ikHs2O2drQTWcurCxWTLwXBkgEGvSazPqwOl1DDJ3FLpi+9is0sFi9DnlSYPBgaACjzu6fB6PTz86ZsPxigSEns6PNfvZuvKNkoqbA9Nt+5MZSU36/dwnW0ejF91X/wrgnPNvH5ACHmG62vq4jDr5t13lsYravWjg2f3tPS5+K2fag7bhBAyNzf3hz/8QRCEjz76yO/312o1AIDL5YIQYowFQeC4dackfdBBkT6ourblP+0feJ4XRbtqCzRNU1VVy7I2b7zBprIlj/3TBpu3eWj2zSiKcvPmzYmJiU8++WRwcBAAgBASBIHn+YdMU5t3p5QahqEoir3ULVf1uNW+LuchsWhmthi7vqbVjGd9/EHLIOXVWi2jpKfzyXFvZI+/aTgQ7PW5AzzD44dcFXYdP62ilxK11FQuM1NKz+RLKzW9bgJKwbN25SQWzc6VkmNZb7ML+x+e1OHJEELTWeX81cTEbF7Tn889tgn7mpDdbDggssxDhwRCSEWeaWmSJDejqGZDZrRHrtXNm2OZvk5vKCjIbv41uRZfMo4Yei2BEAos3x3t4FmOUGt0ceLL0W8NyxxuG5B41881tuMFYNtC7t279/d///e/+MUveJ4nhBBCOI5DCLW2tr7//vuSJPE8b1mWaZq210nTNMMweJ63bSe6rquqijEWRdE2IHEcd+bMmYMHD0Yikc0KCQBAKbUsS1VVXdchhKIo2nMBAEzTNAwDY0wIMU2TZdmNPwEA7KgmVVVN02QYRhAElmURQpRSXdcppQzD6LpumibP85VKZXJy8urVqwcPHmxtbeV5PhqNfvjhhwghr9cLHoQQ2QMahmEP+KiusidVFMU0TY7jRFHEGNuTbv4U9leB8aveOsaOFkpN5guxCrWetzm4ZZBaWlVLem6+lBrPNe0NNg0HwoM+l5/HLLYfr5RQQ7VKq7XkWC45lk3PFqoZ1agb1ATrOuiZlwChUTPiN9KRPX7Byz9/5NCbA6VA06zRicyNu5maYgDQ2MpK0O8TfD4eYwQeVkOAYXA4IIb8Qq6gEWubYWJPmw8CAGCxrN8cT48MBgb7WLu4YwOG/lnjiKHXFQghyzCtgaYP97/Ls/zVmRt/vHnOMM3D3Xsd+9CzYT/7a7Wa7SDjOI5lf3TzE0I0TSsUCuBBXNHy8rKdaTU/P5/L5To6OoaHhwEA09PTy8vLLpdreHi4r6/P5XLZkcjpdLqzs1MUxc0z6rq+vLw8OTmZzWYxxr29vYODg5FIhFKaTCaXlpa8Xm+tVsvn8wMDA11dXfaSbHfe7Ozs/Px8uVyWJGlwcLC/v1+SJNM079+/X6/XI5HIxMSEqqonTpwYHR0dGxuLx+OXLl2qVCojIyMejyefzyOE2traAACmaRYKhYWFhYWFhVKp5PF49u7d29raulkPEUKq1erMzMz09HS1Wg0EAgcOHOjq6hIEwbKsZDI5OjqaSqVYlu3t7T148KAsy6/4eUgJraRqa1N5raI/51I3VIypWlVNUQpafrmSGM007w9Fh/3hPp87JFg6yccqmenC6ng+M1uophVDNYHtkYHgOXSQvQBALJqeLiRGM+F+H3o4QsVhayilgIJ0Vrl8M5XM1J8xeezxsAxsbZI8Eoe2OMAQYRD0861R18JyWbVooyaGABBCZhdLt8Yybc1uj+xk2DwdRwy9xkAAGcy0B1s+2PcOgvD67O0vRr9hMB5uG5AFt2Mf2ikQQoRQZ2dnIBC4cePG0NBQT09PIBBgGAYAYFnW6urq119/3dvb29bWls/nv/vuu2QyGYlEFEXJZrO3bt2anJx0u93FYrFYLCYSifHx8d/97nd79uwxDOOHH364detWZ2enz+fbPKmmaVNTU2NjY5TSWq02Ojp67Nixjz/+WJKkubm5//mf/5Fl2bbTRKPRDWlCKc3n8+Pj44lEwo4Hunnz5ieffHLq1CnLsuyVhMPh5eXllpaWffv2ra6uptPpcrkci8UkSWppaVEU5csvv0QItbe3u93uWCx2/vz5mZkZAADHccViMRwOh8PhjXVSSkul0qVLl27fvm2aJgBgZmZmfHz8N7/5zaFDh8rl8hdffHHnzh1ZlkVRpJT29/fLsvziDt7OoZRaupWZLeaXK8Siz6lFNrCfOpZBaxlFyavFlWridqZ5XyA86FdKemI0k1so17KKpVl0PYGoQR4ZQAEASlFbHcv1nW1nXQzeaS3sNxXTIksr5ftLJd2wGi0aKELIK3M8h7Y80AgCQWBkN7fjwuVPBgIAYLmij01ljx8MS27WeRo8FUcMvd5ACBnMNPmiH+w7Iwvy+anL/9/1zytK9cTAYVl4aWnbry8Y45GRkY8//vibb775l3/5l0OHDp0+fXpgYECSJEJIvV5PJBI+n8+yLE37/9m7r+c4jix/9Odklm3v0A00vCdBD1KkKJIzlKjRcDTSzmpHayNuxMY+zcP9q27E7o2Jnbuj+e1II0cZSqQMvXfw3gPtu8tk3ociIYgEQVIECKPzESMoNrqrutFd1d/KPJlZ6e/vv3nz5smTJ48fP57JZN57773//d//7e7uPnHiRCQSOXXq1Pfff3/9+vXGxkZEHB8f7+npKZVKD/U9qara0tKSSqV8Pt/ExMQHH3zw+eeft7W17dixI5PJXLlyxTTN119/vbu7u76+fmnHUygU2rNnz549e1RV7e3t/c///M8vvvhi+/btfr9/Zmbm9OnTzc3Nb7zxxvbt25PJ5P79++/du2dZ1pEjR/bu3ZtKpUZHR4eHhznnlUolm82eOXPmiy++aGlpOXr0qJeBwuHw0sJqIcTt27c/+uij2traEydOBIPBO3fu/Nd//Zemaa2trRMTE2fPnm1vb3/11VcNw1AUZR1nDXhKUshSzp64MVdaqMBq1cv+mHBlca5SXrAyo/mh89NOySnMlh3LBfHUkzo+NQSUIF1Hzg/kZvuy4bSPs4f7ZcijpIRS2e0bymZy1rOOJXwaQsiZ+XIub4eDOiIurhHrtUjZrpjPWrPzZdddptTveaAEAXJoIt83nGtsCHFOPWVPQGFo00NEhfFUuOro9kOqovz1/Md/Pf8xIBxq6w4aARpk+0wQMZlMvvPOO6FQ6Ny5c5999tnt27dff/31EydOeN1bi9PzeB1kiURi9+7d+/btKxaL165du3XrVk1Nzd69e73K66tXr46NjZVKJdM0vdqjR6twNE1ra2srFov5fD6fzwcCgbt3746MjHR2dnrTHSWTySNHjuzcudMr0MEHU+uGw+HOzs58Pp/L5SKRiKIofX198/Pz3r6KxeL27dtPnjwZjUZVVW1sbKytre3v729ra/P68sbGxryR9l4P19WrVw3DePXVV/ft2+c17Xi1UIvP07Ks69evT09PHzlypLq62jCMjo6OqqqqM2fO/Mu//ItlWfl8njEWj8e9eQcURVksMN+ApAThysxIYerOvFt212ZuQe9LD4QrS/NWOWPf74h9mmUdftr+EACgtFCevDFb351QNIY0vPRJpJRzC5V7/VnbcVc/OyI6rrzdM//lN6P7dyWbG0N+n/qgWBDyRetu78L3l6du9SzYzjOPZHzSrgEAc3nrTu/Coe6Urikb9VjcKCgMbQWIyDmLBSKHOw64Qnxx48z/OfdhsVL+ZdfLEV9ow34hbUyqqjY1Nb3zzjvd3d2XL1/++OOP//jHPwaDwSNHjiy9m1cWnUqlUqmUYRheOvH7/bFYzO/3q6rqjcYvlUq2bT9u7DoAOI4zPDx89uzZ4eHhYrHY09OTy+VKpZKXVPx+f0tLS2Njo9/vf2h2xEKhcO3atYsXL87MzFiWNT4+HggEyuWy94VrmubOnTsTiYSqqlJKr8zZGxC3NKZ4iWdmZiaTybS0tLS2tno7WnyN3v9IKcvl8vDw8NjY2BdffHHjxg3OuW3bg4ODk5OT2Wy2pqZm27ZtZ86cyWQyR48e3bNnT01Nzcb+4Emn7E7fWchNFqVYtT6yx8Ilo+3WcFeIAE5FzPZmCnNlM6Kt3Z62DCHl1ExxeCwHT78OxlNDCQAwO1/54PPB0cnCv/2uw9egeJ8AIeTYZOG9D/tu3VuYy1pSrn7rJEqwbTEwksvl7WjYWNVtb0EUhrYIBOSIEX/oyLaXdFX764WP/3bhE5Urv+w67NOMFWYZJg/xQkMikYhEIul02rKsP/3pT+fOnevu7n7onojoNYF4xUaLvN+214qz2Iy07L6klBMTE++9996dO3e6uroaGhqEEPPz80LcLydRVdUbvLb0HfTKrm/cuPHnP/9ZCOFV5wwMDBQKhcUdcc79fv/TLKPhum4+n7dt+6EdPfScbdsuFAqKonDOF5cT6erq2rt3byQSicVib775phDi7t27PT09r7322rvvvptIJDbyp66csaZ7FqzCKg5p3gAQpJCZiUJmtBBrDHFqGFqRlCCEnJ4rLXgV9KufRxAAXAFTs+XpufL9cPSA68jJmdJcpiwk4lo0F6J0Bc7OlzNZS9RI6iVYGYWhLQSBI4v6Qy+371cV9aNLn/3l3Ae26xxu358Ix5jcNFO/rKPFBMAY0zTN6wX78MMPp6amyuXyQ3d+zt+nN5T98uXLX3/99W9/+9uTJ096o+hv3rz50F4e3dHCwsK5c+cKhcJbb721f/9+b6rovr6+pY06T/n0vNiEiPPz815J07IPVBTF5/Ol0+mTJ092dHR4ReXe7clkUtf1PXv2pFKpu3fv/vWvf/3oo4/a2tpee+21DTu6XgqZGc8vDObc1ZtUZiOQABJkab4ydWehfl8V5xpQHlqRZYm5+bLjCIC1+yBIRcGqqOEz1SVHKPh9aiioMcakK9aoo1ZKWbHcbN5yheRb6YO+BigMbTHIkIfMwIGWvaZm/Pm7D9777v35/MKb3ScSgeiG/WbaOLz+ICmlN7Oibdu5XM513WAwuBbzLzuOMzo6mslkmpubk8nk/Pz83NxcpVJ5Yo4pFAqTk5M+n6++vj4Wi42Njc3Oztq2/bj7e21XjuNUKhVveqTFH2maVl1dHQqFent779275/XueT9aOnukaZrpdPrGjRvlcrmqqsqrj/b68lRV9RZxq62tDQaDIyMjN2/eHB0d9W587l/SmhCuzIzkc5NFKWCNqqfXBQIAMKtgT9+dL+VsLaCueQ/gJuc4olCyhVjl+uWHGBqvTvoMQ1l8OxDRbyqxsK5w5j7vymSPhQCu65ZKjhRr0A+3tVAY2mq8JoGA4dvT0MUZ/6/Tf/rk0inO+W/2vhYPRGi8/Qq8ppqLFy+OjIw0NzcHAoGRkZEPPviAc97d3f3QAl5yCViuI+yJdwAAznk8HgeAy5cvRyKR8fHxCxcu5PP5hx746GMNw/C6xq5du1apVK5evTo4OKjr+tKx90sf5dUwZTKZy5cv19TUpFIpryfOKydKpVI7d+78y1/+8uc//7lUKtXX19u2HQ6Ho9Ho4kY0Tdu3b9+5c+c+/fRTbyYhxtjs7Gx1dXVra+vU1FRPT08wGCyXy319fV6j2ob9sEkp7ZKzMFKoFO2t9w2BCK4jMmP53FQxWO3boGl0I3EcCbBmYUgCAhi6kqoyde2HIwIRNY0nYqZpsMpjr2Kef+cgBNi2u4YvcKugMLQ1ccZ8urmrYdv/dfyfPr7yxenrX5et8sm9r6WjKf4UdSQ/Z3Nzc19++eWnn35qmmY+nzcM4x//8R+PHTumqqrP56utrU0kEt66HMlk0nVdr86GMRaNRpuamqLRqBcCTNOsr69PJpOqqnLOa2pqWlpavFLrUCjU0tLitTbt3bv3l7/85fnz5wcHB6uqqrq6ukKhUCgU4pyHQqGGhoZ4PP5o+0o0Gj106NDIyMhHH330/fffR6PRgwcP5vN5TdM457FYzNv+4hut63pXV1dHR8c333xTKpX+7u/+Ttf1uro6xpiu65FI5Pjx447jnD9//r//+799Pp9hGMeOHTt06FAsFmtubg6Hw4qi7Ny589/+7d8+/vjjv/zlL16RuOu6J0+ebGpqymQyH3300ezsrJSyUqn8+te/7u7u3rBhCCRUcnZ2vODaa3VFvs4klOYqmdF8zc4YML7F0t7qe1xN36ptHoJ+NRYx+JJVUxGBc6xK+AJ+dT5rrdkpGeX9SiX6EDwBhaGtC8FQ9B11nQHT/953f/vi2mnLrvz9wTdrIskN23mxvhBRUZSDBw8mk0mv18kwjHQ6XVtbGw6HEbGxsfH3v/99IBAwTTOZTHolw8lkEgBUVT106FBzc3NNTY1hGIyxdDr9T//0T6ZphsNhVVXfeuutw4cPNzQ0cM63b9/+hz/8obGxUVGUxsbGf//3f+/p6XFdt7q6OhwOLywsJBIJv9+/Y8eOcDgci8WWTlrt0TStu7s7Go16Mz7X1tYCQD6fb2ho8Pv9x48f37ZtW3t7+2IFt6IoHR0df/jDH0ZHRwOBgBfR/vVf/xUAqqqqOOcNDQ3vvPPOwYMHJycnLcsKBoNeBjpy5EhbW1tDQ4O3vMbLL79cV1fnDXxTVTUSiTQ1NSmKkk6n33777cnJSUSsqqpqbGysqqrasJlbSlmYK+fGi2KrhiGAcs5aGMwJW0hluamPyYsiAQChKm5GQg9PA60qLJ0yg34NZGFN36KNeiBuLBSGtiwERIaGqjcnGn730puM8W9unxNC/nrfa63VjQqjPLQMznkymYzH496cQN6gsMUxWdFo1EtFjDFVVdvb272HeJmjvr6+trbWG1AGAMFgcOfOnd6dAcCbN8jbWiqV8pqXvNVSm5ub6+vrF3/q7de7mxcpHmpi8Z5VOBzevXv3jh07vOfg/ch7qs3NzY2Njd7WFh8VCAQW76+qKgCEQqHFh2ia5r1wb01Wxpj38MbGRm+yx/vdr4FAR0dHa2ur67qLvxzGWDAY3L9/v/dYzjlfegm88QhX5iYLZW+SvfV+MmsBEaUjF0ZylbytGDTBzLrDqrgZDmpLU6mUwDmLR8xwSFvbTyECNQs9DQpDWxwiaorSkqx/99BbUsqvb3+bLxf++ejfNyZqOdvQ31jrZTHNeJaOrnoolyyOqIIHAWVpk9sKd166i6UPfGgk16Mx6KHn6T0WHhnX9tAzWbyDNzB+8c6PZiwv5HmNSd7dHn1RS29ZOl+RV0n96KvYeKRwRW6i5JSdjfwsnw9KkLmJUiVr++MGfReuL0SIRXTT+NGaGIjAGPp9Siyic4ZC0Lu0zjZqpz5ZTagqSn285t2X33pl28HbYz3/79d/vjFy13LsNe4r3wpe5Pf6s+4LH1jdXTz9Nh+Kbk+/i3UkJThlNztWsEvuli0qRQCA/FSpOF+WazxOijyJMDSMRw1de3hsOyLoBk/ETU3l9CatOwpDWx8iMmQKVxri6X88/PaJ3cduDt36r6/+v2vDtyuUh8jPjBSyMFsuzJSEs2ULhryvXKtoZ8aLrrPMIjDkxZASpATD4JGwriyzOhgaGk9EDU2hL+L1R91kPxdeB0cqXHVi59FSpXz21rd/+e4Dhqyrrl1XHq7sI2SrkhJyE8XinCVWe2nMDQUluLbIDufdiqvqCnXBrBMJAKauhQMaW+bLVioKj0X1YFDNFW255WZ52FwokP6MMGCcK9WR5O9eOvnbl349uTD132f/crHvetEqL67/QMgWJqUUtshNlkqZylrPs7fOEIUrF0Zz5ZxNDUPriCGEg4rPr7IH69UvQkTGMBjQo2GdIdK7tL4oDP2cICAAY6wqGDve9crxXUdnMtMfXvzk5sjdQqUkJOUhsvVZJTs7lq/kbNjSn3cJUgqZGS/mJopyy9ZGbQKqwpMJn99cfkwfQwz51XhUVzg1Cq0zCkM/OwyZoiiJUOzErmMnu1+fyc398es/f9dzMVvMe+PJ1/sJErKG7JJbzlhbeIYhDwJKkJWcVZyrwNZuA9vYuMKqq3xLVyVbijEI+NVE1OTqmi2jKoGmn34aFIZ+phiyeCD6i67Dv+4+UbRK75//5Lt7lzLFHLUPka0Pfy7FGYgInEpRVuCVOK8hXWNVMZ+hLz+PCQLoGo/HDNNYw4nf6Ar3aVAY+plCRIUrsUDkcMf+N/a+KqQ4de30+b4r84WMK9z1fnaErBXNVHwxQ9G2/qkPkRkxPZAwaXTESiTgmk3RjAihgOb1gi2/D0TOeVXMF/KrsGZVQ/T+P42tf0YgK1hsH/rN/teFFB9c/PSrW99NZ2dtl4bck61JC6iprli4LsDUrXz2kwCqwWt3JyL1QVyzHpjND7nCfH6VI1uL8x1DjIX1SFRn/LEfNoVjImaEgms1pJcrzDAVZJSJnmArnw7IE3mTDofN4KG2fW/sPc4QP7t6+qvb309n51waX0a2Iq6w6h2x+gNJM7zGyyCsHykBOcSaQ81Ha4zgln2ZqwDB0HlLQzAe1WENxnMxhtGIHglpDw8kW0JRMBzWomGdr3Cnn0QCKBxTcbMm6eOMEvETUBj6uUNAxjDkCxxo3fPb/b+K+MNnbn379Z1zk5lpah8iWwwiIkMzrDcdqUnvTZhRnSlbbRlTRFAMFmkIbnujIdESZsqjc/2RB6RUOOtojrzyUnUiqmoKQ4aIsFp/VIXFIobfp67wDiCiqSuJmKGqzJv7fVX+MIa6yuvS/iMv1dSk/IwjlVGvjCZdJICAHHnYDB1o3aty9cPLn525+Q1IcbjjQCqcUPny4yAI2YwkAFOwqj28+x9afVF97MpsfqroVIRri405BB0BkT3dyuMIisI0vxprDbUeS7ccq9H9dPCuBBEZg2TCd/LVBl3DWz3Z6bmyZbvorTX/XKQECAW0xrqAofEVwxCYBm9Mh+qqA4WSA6txAYoodVWpTvoO7k0ePlATCmiIAHKr5f7VRWGI3McQA7pvV+N2R7hf3jhz7t7FilV5ufNAQzyt0RTVZKtAAAmoaLxmVzxU46/ZPTt5ay43WbILzgYNQwjI2JO/xiQwBX1RPVwbSO9NJFrCqo8j0vffEyAC59iQDv3+t+2j44WxyUKp7IJ87igEAACmqbS3hgxDXTFaoc9Ud3XFVY1b1ioNXkHpM5T6dLC2xm8aKvM64OiTsCIKQ+Q+b3nOkBk40Lo7YPg+vfLlV7e+zVeKJ3Yda0zUaQpdYpItwvsgKyoLVpu+WDq9O17O2m7F3ZidwogI7MnL30oAhqgFFCOkaX6VMaS66aeDAJJzFg7qQb/W0RJZxU8BIjIOuOK7hwiqyurTgXR1YBUHwXu7ZvizmUbiuVEYIj+CiH7dt722XUr4/NpXN4dvI7LjOw43JuoMVac8RLYK9CZkV3QeTPmCybXc1f0vOOmFLVz8flqr8dxPTk5kqQe/LuQc+YPpflYllSy+DVJKCVJKuF8W9MgTYOz+rld3v+TpURgiP4KAXh7aWd9pasanV7+4MnCtYpdP7PpFS7LB0HSGVHRPtogfvpbW/ttDukIWp6RbYf4Eqr77WYy+tjaq5+4m8/4DIYXl2MVKKV8pcqYkQzGVK8vlodXZL/nJKAyRZSCiqRntNc2IwBi/OXJXSnht55G26mZTM+i6k5BnI6V0K9bYJXe+V6nepVTt4GYEGV+z2f7I+rifgaR0hVtxrHy5mC1mxxamhmZGbCG66jpigZDCOVVybUAUhsjyEFFXtLbqZoWruqLdHL5jO5azS3SmW0zd2JjtQ0tqPlaaMmTxbpTqyAvFFTc77ubG3cyoVtvNQw2omg9qnOmjuFl55xMJ0nWF7drFSmmhmJ3MTE8uTI/NT0zOT05lphVF39uyKxmKq1z1HkInn42GwhB5LC8PtSYbjH2vcaZc6L3suK6QYntdq0/zbbSDWUpp267jCE3jnLNl+969fvtKxQYATVM4rRRNXgxEVHQt3Y2K4Uxccyaui+yYmtqppHZwfwK5Afh0g+fJBiOltBw7W87P5eZns3PjC5Pjc5OTC1Nj8xNzublsMWe7VnWk+q2XfnO061BttJoz9qCHlGwsFIbISrwlzNLR6ld3HpFSXui99NHlzySIrroOUzUY20DtQ0LIXK4yOpbxmWoyGfT51KVDMySAlKJSsecXSuMT2WjETKfD/PFz5BOyuhAZ88W0upeUWIszec0avVjp+9ye61VrdqmJLmZGkClAX5ObjZBirpC5OXrv2uDNvvG+kZmRudx82So7ru0Koat6e13767uPv777WDKc4IwDNUhvVBSGyBMgosqVhkT69d3HFM4v91/76/mPS1Zld8O2kC+4ofrLbMe91zvTPzDX2hLf2VVtWc5i+5DriOmZwtDw/LUbE1LK479oXddnSn5+vFFkio6hNDPCLJCyRy/aU7dEdszNTmjpfTyURsUrrKYvy82EM+bTzYDpd4SYzy9kCxkpJSDoqrG9YdvbB998ua07GY5z9rjFWsmGQGGIPBkiqlytj6d/tfuXpmZ8devbDy58UrErL7fv9xu+1V5R5ydCRJ9PU1V+6erYhcuj93pmatPhbK4spLQsd3BofnQsc+nK2PBo5tVftIRDpkLNQuRFezDqXQuoVV3MX8XC9c70bWfihsiNq1XblKptzJ9E1cCNdI1BVqZxNaD7fJqpq7qp+wvlgu3YkUBkR8P2N/adONyxP+oPUxLa+CgMkafi9ZdVR5O/3PGKoRlfXD/zwcVPHOG+3L4/bAY2Qn8ZIhi6UlcbSsT95y+OTE7lq+L+fKFiWe70TOGz073Fkj07V6iKB9rbEomjwnEAACAASURBVNGISQsXkvWCiKDoPJhmRlRJtLnT9+yp65W+L+3p21q6W63eAXoEkVET0YYlpZRS2q49nZ27OnTrcv+16cyMT/e1plssu+IK+5e7jr6++5dddZ1hX/D+gmdkY6MwRJ4WIiqMJ0OJY9tf5ox9fv3r9y98bDn2L7YfCpvBdc9DiKgorKY6vGN76tadqfGJ3OxcEQFcAbZdzubKrhCaqrS1xpubYoaxzFQfhLw4iIgcNL+iNnEzwUI11tgld+pWufiJKEwqNXt5sJapBlCv2cYjpHBcdz6f6Znovzxw/e5Yj5Sys7ats7b92tCt2cxMS3XTm91vdNW1+zQT6aprk6AwRJ4BInLGov7QK50v+XXfBxc//dvFT6R0j3cdCZkBXG5y1Rf89MIho7OjqqEuMjmddxzh3QwAwpVSQjxq7uyqTiYCVDpNNgJEBGBgBNVEJ/MlnEiDM3HVGjnnzA2o6X1q9U40Y4yplIc2CgmOcDKlfO/EwMW+qz3jfUKK9pqWrvrOllQjQz6xMH1817H9Lbs7alp8mrnOJ0TyLCgMkWeDiAxZzB850LZXU7W/XTz1/rmPAfCVjgPxYGyl1ZlfyHPTdaWxLtrRlrh1dyqTLf8wfYsEzrCpMba9MxkM6uv4JAn5EW+iIUXnwWpmhJRwnT110568Uen9zJ3rVdL71EQ704KANEPjevLmUcyVCn1TQxf7r94d6xVCNCcbdtR3tqaa4sGIpmj5SnFf806/7kuG4jRZ/6ZDYYg8MwREhkHDv7dpJ0P232f+8sG5jyzHPrHrWMQXWnbxnReGMYzFfO1tVclEIJe3hHiwLhSA36d1tCVq02FNoz4yssHc7zUL8FgL81cpsRZ7/Ko9fctZGHZSXVrNPh6uQ81PhdUvnpTSEW6unB+YGrrYe/XOWI/l2M2pxr3Nu9pSTbFARFc1L/cEDX9rqlFhnMqlNyMKQ+QnQkC/7tvd2MWQ/e3ip6eufJEtZF7fe7w2Wq2s57kATZ/W0Zbo6kxOTOVyOQvQm+8VGuqju3bWxGM+6sQnGxMiAipghBXVh/4qFq61Rs7bQ+fc+WGt8WUtuQOMMDKFmoheDAkghCjb5dG58Qt91y71XZ3LzddV1R1v3dtV256MJAxVZ94kigAAoHBF4fSVulnRO0d+Iq/9J6D79jR2aYr6t0unvrxx1pHy5N5X62M1jK3bAArOsDoV7NqeunpjPJ+3vJkXdU3pbE80N1LpNNnoEJlUNO5PohrgwbQ9cdmeuFa5+6E716/VdvNoM6o+ZIxW8FhTQoiKY40uTF7pu36x98p0djYZrXpz/6+21bXXRlM+3ad4MyjSu7BVUBgizwURDU3fXtvu08z/wQ9O3zhTsSt/d+BkXSylLLc489o/H0DEQEBvb0s01EdHxrKW7QJAdSq4Y3sqkfBT6TTZ+BAQGOd6gKktzJdQ4u32+BVn+o4z26NW71Jru3moFhWDZmhcdd6Y+YpTGZmbvNx/7ULvlUwhU5eofbvzpfZ0c00k6dNNhSlAa2psORSGyPNiyEzNaEk1/MPBNxXGL/Rcdlz35L7X2qub1PXIQwCgqKyuLtLRXnX1xsT8QpFz3tIca29P+P0aXU+TTQMRucp8UaYHWKCaR5vt0QvW4Fl7tkdvfEVN7ry/iAfloVXiTR00lZ0733v5mzvnJuYm6xPpX+97bUfD9upwlaHpCuO0msZWRWGIrAJE1BStOdnwu5dOqop6qe+q5VT+/uCbbakmha9D/RBDjISM9tZ4TTKQyZQCfrWlKVZdFVSV9R3uRsgzu99rFkgyPcSDNdbIOXv8cvnO++7CkFZ/iEcamGIAIqX85yFBukJki7kbI3fO3D53e/iO3/Ad6Xr55fbuhkSdXzc55zQ6bGujMERWByLqqtaSavyHQ781NOP7Oxf+5Pyf37/ydmuyUVPUF5yHEEHXeWtLvKM9MTKWSVeH2lsTobBBSYhsRggITEHNj7FW5k8qVdus/tPWwFln5o7edkJN7UIjyqiJ6CcRQkiQ+XLx3kTfV7e/O3f3oqao+zu6X91+uC5e49d9nHP0pj8gWxqFIbJqEFHlPB1NvbnvhKHqp6+d+Z9v/vd3B9/sTLeqXHmxzcvIGEsmAp0dVTfvTLW1xJsaojqNqCebGiJyzsywVr2bh+ucmTv20Dfl6+9Zw+f05l8oie2oB5ExGn7/NKSUACCEWCjmeib6P79x5vrADUM3T+w5/lLrnoZErV83OXJkFIN+LigMkdWEyBQOtdHUyb2vgpSfXPqsYlfePfJOZ3WzpmovOIv4/dr2juTIvkxrS7ymOkQj6snmhwggucr9SWaEebi20nvKHr1UzE3qja+odQeVYDVwFSgPPYmQomRbY7PjX9785pvb35fs0p6W3b/Y9vK22rag4Vc4p0z5c0NhiKwyhgw5VoXib+w5Dohf3/zmv8/8+c39b+xt6jLUFzkrKyoKb26Kv/6qjMV8oZBBYYhsBd4lBSIyAyPNrOtdJdFV6T1Vvv2BPXXL6DypxNuZHkRkFIkeJaUUUlqOPZGZ+vbexbM3vx2bn2itbv7V3lf3N+8Kmn5qDfrZojBEVh8icsZTkarf7H3VULVPLn/x3nfvSyn3NnaZuvFi8pDXCBWJGDt31HCOikILR5MtBoFx5otpjYeVWFNl9LwzfK544f9REu1a01E13oZaENd7+eSNQ0oppChZlcHpkUv91y70Xl4oZGvjNb996de7G7Yng3G+HkM9yMZBYYisCYaIjCdDiTd2vxowAqeufvnHM+9lS7lDrfsi/hBD9gIuvRCBMWYY3vcBnebIVoMAEpEhx2Da1/EbN32g0n/aHrtQPH9Pq92nNh1Vwo3INWQ/67FmEkAIt1gpDc2MXei78t3d84VyYVttx+9ffrs93RLzhznj8LP+DREACkNk7SAi4zwaCB/uOCCkeP/CJx9e+kxhykute4Kmn+MLmEKXrvTIFocAAIiMAWo8lDa2/Vatai/d/dDq/9rJjurtb6ixNvZzXcTjQaeYNZufvzp48+tb3w9MDtZEUyd2H9/fsjsVqdK4wqjxjAAAhSGyphCAIcYC4WPbDymcf3Tp8/cvfGy71sG2fRFfmK/fkh2EbC3oJX9uhFjNXhastkbO20Pfli/9p1O9Q284yiJ1TA0g4wAgpStdB5mCnG/V9hAJUghRtiuzufmbI3fP9VwenB4O+0Jv7v/VS217a2M1hqZzqqkiS1AYImsLERmwiD/0SudLmqJ/cvmLjy5/7rjO4Y4DsUCEAeUhQlaJ123GVR6sMzqTavWeSv/nzvg1Z7pHq+tW6w7yUC0yVVSybnaEmVEerEG21fKQ1xpku/ZUZuba0O1zPZeGpkci/siv9hzf37K7JprUVZ0zhhJ+hk1lZAUUhsiaQ0QmWdgMHmjZI4T78ZXPv7hxhiF7qW1fLBBRuELnJEJWhzfUjCEyHaKNhvE7N95u9X9pDZxxsuNaw8tqrFUK25nrBdfRGg6zQJJxdWvkIa9E2nLshUJmYHrkXO/lG0O3OOMHO7oPtXU3JxsCho+zB1XSW+EVk9VEYYi8CIjIkEX8wZfb9yuK+vHlzz689Fm+XDi67VAqUqUwGsdByCpjTEFfgtW/zII11uh5e+xK+eb/cVNdStU2sCvW0HfSKetNxzCUxs2fhx7EoOzA9PDl/uu3hu8IKXbUb9vfurejpiXqD3E6yZAVURgiL4g3dUfQ9O9v2sUAT107ffb2d1KIw9sO1kSSL37JDkK2tPuzESHXMNbKg9VKosMaPGtPXHPnBgCZmxkWhVnpWHrbazyYRv6i50RdLUKIimMtFDLDs2NXB2/eGe0pW6W6RO3B9v0767dFfEEvBm3SV0deGApD5MVBRI487AseaN1jasapq1+euf19rlJ8befRxkSt8ixL3HuVAa6UAHJVL2olAnKGCOhtHxE4MkZnUrJJIQJypgXUqi6mh+zxS9bgWWd+UJbzILOV3tMAUm8+rkQaQNHW+7k+Gyml67qZUq5ncuBS//W+8b6KbTVU1e1p3tWZbkkEY4aqUwYiT4nCEHnRGGMBw7e7sUtX9Y8unbrYe9mv+0JmIBGMPeWZS0hZduyxbGa2UJAgQK7ShLESAKXKlXQoEjXMiXxuupAzVa0hHA3qdFYlmxUCSOHKSlYWZ6VdksIBu4xCAGgim7P6vkVUsO01HqzZXCPwK441Mjt2ZfDmxb5rc7m5mmjy+K5jXXUdyVBCf+GL/5DNjsIQWQcMmU8ztqVbpRBn754TICuOJUE+zWOFFCXb6Z2d/ujezYHZaW9rq9Q4JF0hTFV9taPr5bqm70cGvxvsS/h87+7aH9SrVmP7hKwXKeySW5hy81MgAfWQlCVwFZCmmylU+r8FRdMbj/BgDT5F+5CQ0nLAEWteaMQRdA7IUAhZcUAA6By8yeSllMVK6erQ7e/vXQwagd/sO7G9riMdqzZUnSHSFGPkWVEYIusDEQ1N76rvSEYSgJgIRJ9mmQ4pZdl2eudmPrxz40zfHSmhKV4VMsxVOfW5UkzlsiMLs01VyZdqGzmyfLlUKBXylfLzb5yQdYRMVSJ13IwqqV0iO+ZmBp25ITczKUsFUS6J3GSl55R0ynrzL5RwA3L1ce1DEkAIOV1w7027MwUJ+FQXMD9ZSGd700rIYCMZ9/akY7nQleLNMYUzBABd1ZpTDSEz0JJsqI6kdFVl6HVoUxAiz4zCEFk3DJmh6rWxarg/Z9wTTmFSyrLj3JuZOtVz59LIYMW2q4LhE+1d7YmqVZlG1nbdrwd6P7x11RXCUJR96dqh+Zl7U+PwdE1WhGxoTGVGGI0QhOtlzR63NOsujLqZYTE34GbHRGnGHv4OuQJNihJMPy4PCSHnS+KrPuvLXmsyJ9ZuWR0JICQkfCxi+jsSeH7E+uuNiu3AP+3T6yPcC0OmZuyo65BSKowzpBnLyHOhMETWE+LTLhAtpaw4dv/87P/evHprciRs+hHRVLXacKQjkWSrsSR9xXHuzkxxZAjIGYua/ojpo9JpshUsrnUvETgiC6Dq44EameqSxTk3N+EsDIrsmCjOurP3mOZnZgyRL92ABBAC5kriTL/16Z3K4LxgDKqDzNTW4ACRsuzAZM6dcGS2LAC4oSBHnC25JeuHF4QSVP7gK4wuWMjzoTBENjoJAFJWXKdnbubznts3J0bro7E9dU3fDfaXrTI+aBZfjevCH22CpmYjW5B3uCAgckQmuQZGmEca1Jpdojjn5icRAYQD8PA4TdeVIxn33LD1yR1reF44LsQMeLVNa4yt/qSpUsJYzv3rjXKuIgWApsD+OnVwzv3sjus9I7k4c8CPXhchPx2FIbLRSSFKjn1neurDO9d7pyd2VNf+oq0jZgYujw6XLToFEvJTLU7GzBkyBVU/D6VBOIAclgxKkACOK8cy7id3ymf67LwtY342VxCmituS6u60yld3yXcJQsLdGfvzeyxvuQDAGMb9LB3mCqfjnawVCkNkQ5NSlhz75tTER3du3J4YbUuk3ty+uy2emC0VH73nT9sFlRoQ4s3PCMCBqd6/vZu9JDS84H7ZW/m6z8pb0F2vIsK5QZshIgJnoKxCH/WPuEIy9Lr07j8JBugVFq7ujghZRGGIbFxSyorjXJ0Y+/DO9Rtjw62J1EuNLSHDWCgXZwr5imNLKaUEW7jZSqXi2M86/aIEUDkL6obGFaoNIgTgR33FUoIj5MCce+pe5dtByxZwqEl9vUO/OeFcHHbW8TkSsuooDJGNy5VyIp/76Pb1i0N9luuUHPv6xOityXEAKFiVqWwmbJgAcjpf+H54YGhhFp69cSjk8x1tamuOxnXl/rFAhZiEAICUUHHE4Lx76l7lmwFbSDjSrB1v1xoivGfWpUsHssVQGCIbl5BiPJe5OzmGiMlwtOy6/XNzXn+YlNJvGA2xRNAwyq49kp2/Mz357DlGJgLB3TV14if3sRGyFUkA25U9M+6n9yrnhyxgeLhJe71dq49yhg9fMUgJEuRzLouzSmMgCPmJKAyRjUsClB3Htu2OZM0rLe0+TV96FmYIcV+gOhgSQhxrbutMVj9jq44EgICuN0aiKqfKTELukyDLthycdz/rqXw7YJdt2FvPm+O87MLAvCulnCm4jrgffoSQCxW5UHIdAT95vkOGGNIxajKVlpYn64TCENnAJABIBlAbjh6qb44YxtJzLQJwxlTOQcodqZpt4lkbdyQAMGQa51QwRMgiIWAs4566W/52wJ4tSF3Biaw43WNxBgAgASZzTsmSUR9yBtmK/ORO5c6UYz9XGIKGKH+9Xa+lIWNknVAYIhsegsKYqag+VXtoOMn9fyDqP3UGajrvEvIQIWG6IO5OuQtlGTTQp0LFltO26/30/tzQAWyK8ZjJXAETOTGy4LrP0dPMEBhCwRJScqraI+uCwhDZDCTAiiUFlGkIWUWOAMuVQR3316utca7zh489CZAKsYSfIcKxFq29isvnWLcVESMGpgL8kf0Q8oJQGCKEEPIICaaKnUnlYL0a0Bj8OOpIAIWjrqAEuaNa7axSn3MgJmeocUAG+EiBNiEvAIUhsskIKYUQ7ioN/2LeqgSrsc4rIVsMQ9AU9Kno15dbQxABASSgoQIqIJ+/fXbpPiRFIvJCURgim4mQsmBVRrILC6WihOe7hJQgQfpVrSESDxmGQnmIkMdAeOzkzw/q9la5q1rK+8c2HZbkxaAwRDYTKeXQwsKfrl0YmZ+B5wtDXtNSxOf/3c7u/ek6rmmr9iwJIc/hkfWSCVlzFIbIJhMxjR3V6YjhE8+3HS9JRUwzGQhwttqrKxFCfqofXeLcH69PfWZkbVEYIpsJQ1blD77W2ll27FU5PaqchzRdpT4yQp5EShBCVtznnWz6R9t8EHM0hgpDOhDJeqEwRDYVBI5gKMoK8YUhcsYUZAjgSOkIVzyu2loCY4wztlgQIX/0Q5B0PUoIAABICfmKuD5hDy44joBVK+aRIEAyhOoA35tWoz7GKQ+R9UBhiGwmUojZYvH82PBULgfLNJ1LBAjoRmdVqj1exRFHsgvXJ8bnS8XlQo0EKUOGeaCuoSYY1jhf9i6EEM9kzv3rjcrNScddhZFjD0iQAIhQF2VhE4O6StPBk3VBYYhsJgJgLJ89de/mwPTk8oUECHFfAMXOxnBU5ax/dvrUnetjmfnl23hQRn2hmOlPmH512TBECHkg4mOHm7V0hLnPWa/3YxKAASSDvCbEOKOKabI+KAyRzYQh1gZDv+7cOV5TL5ebnQ0Bg7reWVWtqwoDbIknf7V911ypuFwYQpAQNozWeEJVFDoFE7ICRBk12Yl2reKoqzTJ19Ktg8pQV5AzpGppsi4oDJHNBBFjhu8Xja2OXP7iFAERQWFMYRwAGsKRmmBwhRkaOaLKOE26SMjKJCCi1DgqHJ8QVhAQYLGJR4IU8KR8s/gQuigh64TCENlMEEAgOFLarvu4+zCGi2UHQkpHCEc8tllf4P3YRAhZme3CZM6ZKcqV12RVGMYMrAkxhTNHyExJTubdoi1XqAVChJCO6SD3aVQyRNYHhSGymQgp5kvFC6PDY9nMsmVACBDUjR3JmrZ4giEbyS5cmxibKeaXuasECTJq+F6qb0wHQ4zTsUDI40mYyov3rleuTjiOs1Ia0hXcVaP88x5fPCCzZffrfvvLXmu+JB4XciQAQ2yKs3d3Ge0JVeUI1FFGXjj6AiCbiZAwns190XN7cGZy2bZ3RIj5AwpAfTiqchicmzl979ZIZl4u31MmY4FQIhBI+PwKhSFCHoFL1uEQUjougCvliqPJhAQBINGbjQglgJTy/qixxz5ICheExMWjVNLqZOTFoi8AspkwgHQodHL7zplC0+POlD5Va40ldIVzZK3x5MmuPZly6XEzBvk1vTVWpXEqoCbkUbj0f1MB/g+7jVfbdbFiTlEYRPwYMRkAhg32ixZtW1Ip2Ss9BBECOtSEuEIF1GSdUBgimwkyFjN9R+pbxWMKqAEAEBneLxuqCYZTwdBjmoW8DaKCjAqoCXkCCbqKDVGlPvLk+yKCt8w9Moj5eNR8clmet+oGUgk1WScUhshmIqW0XXehXCra9uMCzqMn08fNPy2l1BU1ZvpMRaGFAAhZASI4rixYsuI8YWQ9IugcAzrjDITEiiOLlnDEY9e9lwAgQVMwoKHKKQ2R9UFhiGwmQsqpQv7rgZ6xTOY5T5pSSill2PT9oqW9JRrXfwhDP5zqaTkOQjxSwkJJfDtoD847jljpuFAZNsX50WY9oLGiJW5POdfG7VxZrHjAYjLIjjRp6RDnnNIQWQcUhsimgpC3rMH5uZH52dWY+U2Gff7dNbVuJLp8ffXz74GQrSJTFpfHrGtj3tpkj6VyWCir3bVaQJNFW9yetr/uszLlxx5MEoAhNMV4Z1JJBRmXFIbIOqAwRDYTBtgQjryzc+9csSieP6tI8GtaYzRGBdSEPFEiwI62aHE/q7grtfLoCrTHlYCOCODXcVeNCoBzxccGKAnAEZpiPB3inDEqoCbrgsIQ2UwQ0aeqzdF4Q3j5thwAiYD4oIBaSilWKJ8GYIgqZzTRGyErQ4Sgzl6q19oTypMmXYSAhqaKgGAqrDOBtSFeXrHSiAEEdAxotDYZWTcUhsimImXZcabyuYJtPe4eKuMxnz9i+hAwZ5VnC4WyYz9uexrnqUDIr2mPLe8khDyAiLqCT+yhrjhQ+XFfmvH4tldvaxyRhpKRdURhiGwmrhQj2czHd25M5TKMMVwuwYQN86X6pr21DSri0Pzc2cHeqVx2uXniEAAipv9E27b2RILTaDJCHk9KyJXFtQmnf+4JBdTPSghAhNow31erxX2c04FI1gOFIbKZCCnHcgvfDPRW7EpDPKGxhz/AiGAoii0ESCkRHSHKtl20LbHMxSwCSEPVXLncDwkhPzZXlKf7rOvj9soF1M9KSmAIjXFeE+IRgzHmXbXQMUleKApDZHNB15WuFNXh6Fs79oZ186EfCyk5Y6lAUOOcITbH4j5tZ8G2Hncp61fV2lBY5bRWKyEPu99vhfdX0jBVbI5xKWF1wxAAIEB1iAV0ZEuabx89ZCkfkbVDYYhsPgwxZPi2V1VX+QNLb3eFmCrkhzNz+Uo54fNzxgKabkTUFVp+qICakMdBAMQfpjGN+9mvOox8RYjVbRkCQASfhhFzmQJqOjTJi0FhiGxKiMAQOeJi2ZCU0pZyeGH+i947nVWpVDDEEedKhZHMQt6qeA96ZDPSVNXmaCJqmgpS4xAhy5HgJSLOIGJiUH/CkeJFKAaACBJAShBPMXspQ+AMVlrLlZC1RGGIbE7L1U4LKfNWeSKbqfIFHCFcKQfn577ovTOey0pYZio3CRDzBX67bVdA0zmjMETIY0mAiiPHc+58acXJKgA4YsTE2hBTGXOFnCuK6YIsOys9BgECOtYGmU9bdlAEIWuOwhDZfFY4rYr7EwvdHz3m17RUMKxwDvfLHn68HSlDhs+naezBmF4JdGlKyDIkyMmc+PBWpW/WXXkwmcqxPcH/fpcRM2W2LL4ftr4fdArWimEIoSbE3tqut8RRpTRE1gOFIbLJSJAP1nZc7ocA8CDPcMYaI/Go6bdc5/7ND51mpVS5EjFM5aECajobE/KIuaK4Oe70zblhk3lzKi57oKhcFm3mCoD7KytDviLuL8ex7AOkN6Mj2qtdl03I06MwRDYfKaXlONlK5aFRYCXHLtq2EF7BtAQAjXO/pmmCew1FCmeGoqqMP2iLl/cLNOlilJAncYR0BGgcXmnWWhNcYcsdNRI4yqoAC+qIiAGd7a9TUwHmtQw9btkxBIgYrDbMuNdIS8PGyAtHYYhsPlLK6Vzmq/57fk1ferPlioG56eKDcmkh5UQue3tmcr5UlBIQZMj0dSZSdaGwpniffMpAhDwbjeO2JH+pXlUfmR5RSFmsyOmCa6r3B8lrCqZDPBngQshlmmbvkwDIEFQOjJbjIOuEwhDZTBBkUNcTgeBcPnduoIf9uOpZSFGxbZWxgK4rjLlCjGbmvxvsmczmvJrPRCBkKmqVP6AqtDIrIc/GO2QQQeVoKKg/cgwVbdk755y6W4n7+bt7jIQCUkLFkXlLOi6sMKQMQeoKhAzGka5QyPqgMEQ2E4asMRL7ux17p/LZ+5eZS0+dEiSAX9M6EilTVTiy6lB4f13zfKkIEgBlyPDVhSMq53S+JeS54MM1QxLAETCSEdcnnHRQlmwAkAVLXBt3Lo7YufITCqhTQfZau14b5godnWQ9UBgimwlDjPv8hxtaHtREL4MjM1RVYwoipEORqM/vuK73I4VxQ1U0mm+akDUgJdiudAQ48v4aN2VHjmTcG5POQmml6miGmLf4gQaRlpwKhsi6oDBENhNEVDgPMgagL3vOxCX3BAka5170+WFg/WMHwRBCngo++POoH43nBAxobF9aDepsoSxWmLdCQUwHWW2IP1pA7e2IAhJZaxSGyCazOPjryYlmSe6h+EPIqvhhxvdHBmE+NOMFIhgqNsWUmjC33ZUOQgTQOBoKFVCTdUNhiJD75I/+IoQsQwLYrqw4ILz5Kpb8wHKk6014+gACciZVQAY/ZCeFgcLg0QUBaYILso4oDJFNwDtLPmEVgFXw8DQodHImZJF3+JUdeW7Ynsi7/JHwUnHl7UnHdh/cX4LliNGse2fKmS3e7yVTONaFeWcVj/kYQ1p8g2wUFIbIBuZlIID5cqlnfiZU0J/0gOdiue5UIS+kBAlSiEylnK2UV1jxnpCfEQkKR4WD5cC3A9aF4UfGct5PP9IRXsMPgJQLZXGm3/r8nuWNJkMAZNAU52/vMA7UqQZNcEE2DApDZENjyADw6ujwaDajrvEoMCHFQrEgpOSMF2z79EDP5dFBg3FqvicEEVN+tqdW1VRwHj8yTAJoHHekFL+OAGgoLB3iTXE+VxQAgACMQUOUx32MLzuBNSHrhMIQ2bgYYCoQNyh/HgAAIABJREFU3FlbP1MosLVvUJeAcV+gPhJviyVUzjiwlD9UFQgGdWON90zIhodQFWTv7DBea9Pdx7SWejcrHEIahnUEBgENDzaqnSm1Yj8YZ4bg1zBioMKoH5psIBSGyMbFGWuJxv/voydc8eKWcEREn6pqivr2th2/bu/kjAVU7YXtnZCNCQFUxuIBiAWe6s6AEgEYxyDnAU0+FHyQ5rcgGwyFIbJxMURVUaIvfo5ERJAyaOgg9R9uIeTnDZcpE1rp7ot/UZk02fgoDJENbd2WlH/GEz8hZBXRsAXygj287DAhhBCyvqSkQEReKGoZIoQQsgwJIAQICa54oe2z4pEF7sVDk1sTstooDBFCCFmG7crpgjswj4YqX2QYklKOZtzKg8kbBUDRErmKEILyEFkrFIYIIYT8CANgDHMl92y/dXvC4S+2nkKCzFVkpiC8Sb5sV1wdty4PO44L8EijESGrgsIQIYSQHyBCyMCmGAcJQsBcwX3yY1abBEiHeMDAkM5cIcez0nJlY4RFTEQa2EDWAIUhQgghP+AIzTHln/exgrXOzTAqh5og0xV8rUPfW6tJkAk/UzkCPDxxESHPicIQIYSQpdDUoFblG6FDigEAYsJkcRMkAAPAR9e7J+S5URgihBDyA0Tw/ttAKP+QNUbzDBFCCCHkZ43CECGEEEJ+1qibjKwtKRdXq95qDd1SSu/VMfbki4rFOyPi1vtVEELIpkZhiKwV13XL5XKlUnFdlzGm67phGJzzrREFhBCZTGZmZiYYDCYSCUV5wqHkuu7U1FQul2tqatI0bWv8EgghZGugMETWhJQym81euHBhYGCAc66qaiwWa2lpaWhoME1zC0QBIcTAwMBXX33V2dl57NixlUOelNJxnO+///7evXv/8R//EY1Gt8BvgBBCtgwKQ2RNSCkXFhZOnTrV19d38OBBxtitW7du3br1xhtvbN++3YsOy/agLd649PbFDqaHdrH0no/rj3vo9pU3tezty94ohMhms4ODg/F43HXdxz1zeNBBJoSYnJzs6+uzbXuZ3xchhJD1Q2GIrBXXdYvFYiKROHnypGEYZ86cOXv2bE1NTWtrq67rtm2XSiUhhGEYXveZlNJ13UqlUi6XAcA0TV3XEbFSqRSLRSmlz+fTdZ0xJoSoVCqMMcdxKpWKYRiapjmOUyqVGGM+n09RFCmlbdveNi3LUlXVMAzvKTHGTNP0+qq8NptisehtxzRNRVFc17VtmzFmWZZlWZqmmabJOfdelPcMF7fvvVjvn8Vi0XEc0zS9VwQAizcCgBBi/d4NQpYhl0BExthztll6B4jXLb54+WHbtuM4qqoqivKU2/cOzHK5rOu6qqrUkkrWGoUhsiYW21QMw4jFYtFotLW19eLFi5lMxrZty7KGhobGxsZc141EIq2trYlEwnXd0dHR0dHRbDbLGGtoaGhubrYs6+7du5OTkwAQiUQaGhpqa2uLxeLdu3cBoFKpzMzMRCKRdDqdy+UmJiYYY62trXV1dY7jDA0NFQoF13Xn5uYCgUA6nS6VSuPj447jNDc3Nzc367puWdbw8PDQ0FA+nzdNs7W1taGhoVAo9PT0KIqSzWYXFhZ8Pt+2bduqq6uFENPT0319fZlMRtO04eFhLxVJKYvF4tDQkHdLNBptaWlJJpOu6/b39w8NDQkhTNOcnZ312pAI2QiklKVSaXp6OpvNCiF0XY9Go+FweDHHPCshxNzc3Pnz56PRaHd3t6ZpUspKpXLv3r3R0dEdO3ak02nvIuFpDA8Pf/nll6+88kp7ezuFIbLWKAyRNeSlhJmZmVwuNzAwoGlabW1tuVy+fft2f3+/3+8XQty7d292dvbAgQOTk5Nnz55ljFVXV3tNR7Ozs+fOnZucnEwmk4yxc+fOnT9//t1335VSfv75567rdnR0eJVJuq43NzczxsbGxgYGBk6cOGEYxtdffz0xMdHZ2SmEuHz5MiI2Njaaptnf33/9+vW33nqrpaXl3r1733//vc/n8/v9fX19N27ceOedd4QQ77//vs/na25urlQqV69eHRoaevvtt23bPn369NjYWF1dnWVZg4ODs7OzUspCoTAwMNDT06NpGmPs8uXLg4ODx44dW1hYOH36tM/nS6VSo6Oj9+7dW+83hJAfCCFGR0c/+OCDubm5VColhPD5fLt37962bZvf7/8J+UMIMT8///nnnzc1Ne3cuVPTNACwLOv27dsXLlyIxWI1NTVPv7WhoaE//vGP1dXVra2tTzNgk5DnQWGIrCHHcQYGBv72t7+5rjs9Pd3R0bFjx47Z2dkrV64oirJ9+3ZEHBkZuXz5ciAQuH79+tjY2PHjx3ft2qVpGuf8+vXrp06dOn78+Msvv+z1jr3//vttbW3t7e3j4+PRaHT79u2WZd25c+f69ev79u3r6Oj49ttvz58/71Vqj46O5nK5xsbGSCTS29vb29u7bdu27u5uRPyf//mf9vb2qqqqK1eujI+PHz161GvI+dOf/tTZ2dnY2Njf39/V1bVjxw7O+ezs7FdffbVnzx7XdW/fvt3U1HTo0CGvBuju3btSypmZmXPnzkkpDxw44PP5pqenz507l0qlBgcHFxYWDh482NTUNDo6+tVXX5VKpfV+Twi5T0o5Nzd35cqVQCBw+PDhcrl84cKF6enpYDDY1tbmHXGu63LOF7vPvH5nKSVjbGmfmndPT7FYXPo59xqHCoWCbdtLH+s9Ch94dO4J27az2WylUhFCeN3Wj+5xadee9/ClG6H2JPL0KAyRteWdj8rlcrFY9Pl8pmmOjIz09vYCgGVZADA8PLzYV9XS0tLV1ZVKpRhjlUqlt7d3YWGho6MjmUwi4v79+7/66qtLly41NzerqtrQ0FBXV+eVJfX29lZXV6fT6WQy6Q1695r9A4FAbW1tKBSqqqpaWFiorq6urq5uaGhQVTWXy+Vyuf7+/pGRkfPnz5ummclk8vn83NxcfX29z+drb2+vq6sDgLq6uk8++WRiYsJ7OV1dXf9/e3fa3cR5/g98NNJoGc1ol6zFkiwv8obNYsfsJoSWktAsp0lOltOTPu3po76EvoC8hrZ50J6mPckJCSFp+RFiMDiAwRi8b/Ii25JlyZIlWbv0e3Ad5q+/SRqaXwkBfT8POPZ4dM9IeMbX3Pd1X7fT6SyVSj6fb2xsjGGYRCKxuLiYzWZLpRLHcSsrK1tbW8FgcHZ2trm52efzWSwWlUrV3NxMo3sAPxEUjlit1u7ubpVKFYlE7t27Fw6HvV5vNptdX1/f2trSaDROp5OmQEaj0VAolMlkeJ53u90Gg4FhmGw2Gw6HNzY2WJZNJpPfOkWgWCxGo9Hp6elsNisIgt1uVyqVkUhELpdbrVa1Wp3P59fX11mWtdlsKpWKXlWpVJLJ5MzMzPb2tl6vd7vdgiDQEdfW1mKxmEwms1gsdMeIx+MUcjEM43A4RFFEMASPDsEQPEYKhcLj8Zw6dapUKg0MDAQCgbW1NcqbFkVRFEW5XN7R0aHVakVRLJVKoihqNBp61KtUKqlUqlKpqNVq2sLzvFKpTCaT9HCpUqkUCoVcLpf+ZVlWSnOuVCoKhYL2YVmWvuY4jmVZSuSsVCr5fD6Xy2m1Wp1Op1KpeJ5/8cUX/X4/nbmUNM1xXLFYzOfz5XKZZVlBEGg7NcgwDOVZq9VqnU6nUChaWlo6OjoMBkMymVQqlZSpzXGcVqt99IQJgB8HTXUsFovU1yKKokql2tzcHB8fp2Ble3tbFMVDhw6ZTKalpaXV1VUa+3Y6nT//+c81Gs2NGzdGRkYMBgPP8+vr66FQqLm5edchYrHY2NgYPRTF43Gfz9fS0nLv3r1cLnfixAmXy7WxsfE///M/LpeLkpaYB5nXU1NTWq02lUqFQqGurq7nn3++VCrdu3dvZmZGqVTSJIb9+/c7HI6RkZGJiQme5z0ej9FoFEXxCX2i8FRCMASPkUwm02q1DoeD5/nFxcWBgYFgMKjT6Sif+vjx41qtlmEYuVy+vr4+ODhI2UVGo5GiH4PBUKlUqJtHJpNtbGyk0+m2trZvTSCgp8Bdz4IPf1vdea5UKkVRNJvNx44ds1gszIOM72Aw+PBsf5Zlac5aPB4vFovFYjGVStFwALXjdrtPnDih0+monUgkcuPGjXQ6ncvlKFM1FothXj381ORyuUAgcOXKle3t7fX19a6uLrvdPjMzc/fu3aampqamJqqnJQjC0aNH6+rqKDSJRCJffvklBf1ffPGFQqHo7+9XqVQ7OzvpdHrXxEkaKVMoFE1NTZVKZXBw8Nq1ayzLbm9vT09Pe71eo9EYCATm5uZcLlf1A0OlUpHL5c3NzTKZ7KOPPvryyy+7uroymcy1a9esVmtra2symRwdHb19+/aRI0cCgcD4+Hh/f7/P56MOJIBHh2AIHjuKMKxWa6VSCYfDjY2NVqs1FAoFg0Gn01mpVARBMJvNfr//3r17V69e7enpUavVHMe1traOjIwMDQ3RtxcvXsxkMj09PdSvU13XR1K9XZowzFRNIWaqCgLxPN/U1DQ8PLywsECT9hmG0Wg0TFXmgbSzUqm0Wq3lcnloaIjneYZhpqamtra2GIYxm81utzsejy8tLTU0NDAMo1AojEZjR0fH/fv3b9++7ff75+bm5ufnv+u0AZ6UcrmcSqXW1tZWV1dp9JnjuKmpqbGxMeqPSSQSCwsLDQ0NfX19MplsZmZmYWFhcnJyfn4+Go3GYrGJiYl33nmno6ODJhPU1dVVXzgMw8hkMrPZ3N7e7vf7ZTIZXSmRSMThcExMTCwuLno8nomJCUEQvF6vNEbGMAz1szY2NrIs6/V6x8bGYrFYKBS6detWY2MjPY0sLi7q9Xo6usVi6e7upomiGCOD/wiCIXgsaGDIYrHQAJZCoaBZIRQl9Pb2fvPNNwMDA1TvZ//+/Xv27Dl69Oj29vb9+/eDwaAgCK2trXv37j1z5syVK1c+/fRTuVwej8eff/75tra27e1tk8kkCIJMJpPL5Xq93mazUTESjUZjsVgEQVAqlQaDger9sCxL3VF0n6WwRhAEjUZz4MCBcDg8PDw8PT3NcZzD4Th58iSdOUVF1LnldDpFUayvr+/s7Lx9+/bnn39uNBpLpZLX69XpdDab7fDhw1RIiXLDm5qannvuud7e3rW1tcHBwampKYVC4Xa7y+Xy9y7cAfBjUqlU9fX1/f394XD4zp07wWDQZDJReQtBEFQqlcViOXnyZHt7+9ra2uXLl/P5vNvtrlQqi4uLVEYrmUyazWaq4yUNf1fHInRh0gUok8n0ej11sjY0NNDcgsnJyaWlpT179tTV1UkVWSk5WhRFmpVGk08LhQKNnhsMBpVKpVQq9+zZY7PZtFotx3FGo9FkMmG5G/gBcF+Gx0ImkxmNxpdeekkmk1HU4nQ6z5w5w7KswWDQ6XQ6nW5tbY1SbVwuF8/zDQ0Nr7zyysrKSiqVUqlUHo/HYDAcPHjQYDBEIhGZTGYymXw+H+XlnD592mg0UmbP4cOH/X4/3UYbGxvPnj1rsVgMBkN/f79cLhcEQaFQ9Pb2tra2ulwuytB89dVXLRYLz/Nqtfqll16ig3IcZ7PZeJ7nOO7s2bMOh4NqxLW2tr733nvNzc0mk+n48eP19fXpdFoQBLo7m0wmURT9fj/P88FgMJfLUQUBQRBEUfzlL3+5urpKz6xKpZJSlJ70fw7A/0OPE16vt76+PhAIUCcQ5Tj39va2tLRQj6lKpRocHBwbG3vttdcOHDhw//79r776imEYyvOjsWMqpZFOpx/u/szn8zs7OzT/a3t7u1AoCIJgs9na29uvXLly48aNXC7X0NDA8/yuKKr6X6LVai0Wy759+zo6Omg8XalUZjIZCp5Yli2VSplMplKpUA3VH++jhKcZflHgcdFqtR0dHdRFRCFRS0sLwzD05NfS0uL1eiklWalUUtjh9XqdTmexWJTJZJT7rFKp9u7dm8vlqB165hMEob29ndKlWZb1+Xxer5eSoykMokNQFie17PF4qFeGZVm9Xt/d3U1dVgzDeDweh8NBc3cVCoVSqVSr1Xv27KFvGYapq6szm80cx8nlcrvdbjabi8WiXC6n5AY6DYVC0djYWF9fT6vSchxHudV+v9/r9VYqFTrzcrmMx1b4SaHAhR4bdDrd4uJiKpVyu92Li4tra2u0mGCpVFIoFFQ1vlQqxePxQCBAAYfb7a6vrx8eHt6zZw/HcSMjI5FIpFwuV8dD5XKZMrKdTme5XL5//75KpaJeVb/ff+PGjVu3bvX29jocjuqrgzK76QvqK6JL2OVymUymubk5ms5GeUVSHmG5XI7H46Ojo3K5fN++fVgHEB4RgiF4LGgAqzoXcte3SqWSwgWmKs2Z5nnt2kid4dVbKFSSvqafEhqSe/h8pGM9fCb0ErVaXX2I6h2kyIZ2ln606yYrBU/V2791I8BPBM29qquro0ugqalpc3OTZdnu7u5KpTI7O/vJJ5/QM8CRI0fa2to6Oztv3ry5urpK2Tw8z9vt9jfffHNoaOgf//iHxWJhWba3t9dut0vRCcuyJpOJnkwuXbqUTCYVCsXJkyfb2to4jjObzXV1dTzPt7e3m83m6rkRoii2tLTo9XraqNfrfT6fRqOpq6s7ffr00NDQJ598otFoTCbTc889ZzabTSYTXcvhcPju3bsul0sabnsiny08XRAMwRPzrTepR9/4I5zMf7rnkzp5gB+AspLffvtttVpNo8ldXV1Op1On0xkMBoPB0NraGo/HGYahXBybzfbuu+9GIhGNRqPX648cOeJyuTQazZEjRxobGzc3N9VqtdFoLBQKtFwgHUWtVvf29jY3N3McR0UUjUaj3W6nItc7OzupVKqtra2trY2y9CR+v//3v/+9x+Oh0bF9+/a5XC673c7zfE9Pj8PhiMVipVJJr9fTxsOHDxcKBVEU5+bmCoWCzWbTaDS4+uARyTC3BQCeFKqq9/777x8+fPiFF16onkkEjxsNPFHdCurvpG8p84aKTdMaw9SZSuO8NIotl8vL5TKNT0mVimg7dcZIOdTSUah9GtWil29sbFy+fHlkZOTYsWP9/f0Gg6G6Z4jqWUtDYNSIdMRisUjlxKRzo6mauVxubGwsFAp1d3d7PJ7/+9KzUCPQMwQAUIuksWxpLKl6BJn6Y3YNW0t1TZkHyX/SntUjy7uSoKtzeiS5XG5kZGR0dLSzs7O3t1en0+2KWh4eZ5ciGzqxXedGD/Zqtbqjo8Pv92u1WkRC8OgQDAEA1LTvihj+iwPZu3aoVCocx7W1tdXX19MEhV2z8b+3kYd3ps4hqgjwiGcFIEEwBAAAPyrq2vF4PNJcsP9K4ILoB34wBEPw1KAkhmw2K5fL1Wo1bnwATy9p7frvJSW2/uBL/v/eAjzzHul3EeCngNYpO3fu3N27dymvEwCeLuVymQow5vP5R5m+Q88/Ozs7u2oXPTpakjmTyVBZyF0/evRm6WGsVCr94DOBnzIEQ/DUKJVKoVDoww8/HB0dzeVytM52sVjM5XI7Ozu5XI5ml9DOdJsrFAr5fJ6207eFQoGmpdBKAtW3SLrtptPpbDZLLymVSvl8vlAo5HI5Wh/7iX4AAE83uqYmJyc//fTTycnJR3mkyWQyV65cuXDhQjqd3tVO9fX+bxQKhfHx8YsXLwaDwVKpJG0vlUqbm5sTExPxeHzXyrLf1c7a2trk5GQikcCt4NmDYTJ4OpTL5dXV1YGBgdnZ2Zs3bzocjoMHD4qiuLCwcP/+/UgkYrVaOzs7m5ubpYr+2Wx2ZmYmHo+3trbabLZEInHnzh2NRkNrOt69e3d8fFylUj3//PO0uuri4uLNmzeDwaDH4zl48KDH44lEInfv3tVqtaFQyO1279u3j5ZoBYAfplwuBwKBy5cvK5VKv99fXQ31W+VyueHh4VAo1N/fL4qitHFlZYVhGJ/P970LbhSLxbm5uTt37thsNpfLVX0mk5OTn3/++VtvvdXd3f29Y3b5fH5sbGx8fPzMmTM6nQ7lHJ8xCIbgqUGPg9JDYTabDQQCFy5coLUkZ2ZmJiYmTp8+3dfXR+Vqstns6Ojo8vKy0Wi0Wq1bW1sXL160Wq02m216evratWsOh4PjuGw2WywWV1ZW/v73v6tUKpvNNjExEQqF3n777fX19Y8++kir1RoMhrq6uif9AUBt2TWIQ/PMaZhGWodLqq9Dl4a0XdqTeTApXWqQygVR5jJ9LdUWor/u0iIYu2oOSdWDpINSr6o0B56aldqnefhSm+VyuVQqUWctXXTUCG1nqibPVzdeLBaLxSKNqUmNRyKRP/3pTzqd7ne/+x1Noa+umVT9Xgj1BBeLxUKhwDwoEEA1J0+dOmW32xmGoTpJu941vRFa0qdcLqfT6Wg0SqsDIRJ6xiAYgqeDTCZzuVxHjx798MMPDxw4cOrUqc3NzYGBAY7j3n33XYvFsrS0dP78+atXrzY2NjqdTrqv0ZLa1BtfLBYTiYRarU6lUlNTUxzH9ff3e71eKlP79ddfZ7PZ119/Xa/XT01Nffrpp9PT03K5PBaL2e323/zmNy6Xq3rdD4DHin57g8FgMpkslUq0mFelUllYWFhdXaVv3W63RqMpFovBYDAYDEajUUEQWltbHQ5HPB5fWFjY2NhQKpX19fUej0etVkcikfX1daVSGYvF0um01+vV6/WhUGhjY8NkMtHaF+l0OhgMViqVVCoVi8VsNpvD4YhGo2tra3K5nBpXKBT5fH55eXl6ejqTyTQ2Nvp8PkEQgsHg5uamIAgbGxvxeNzr9TY1NYmiWCwWo9Ho/Pz81tYW9bNSaFUul5PJZCAQWFpakslkDQ0NXq9Xq9Xm8/mVlZW5ubl8Pm8wGNLptBR5lMvlRCJx7969W7dumUymO3fu+Hw+i8WytbW1tLQUjUY1Gg0tccjzfHVnT7FY3NjYuH37diqVstvt1IVMqx+yLJtOp8fHx3U6XTabXVlZMZvNTU1N6XQ6EAgUi8XW1laa+Mb8/zWN4FmCYAieDvTAp1Qq5XI5rckaCoUWFxePHz9eV1enVqtdLld9ff34+HgikbDb7VRKrjqFSPqXVpWfmZkZGBg4dOhQW1tboVBYWFjIZDI3b97kOC6RSGxubm5sbNhsNlpf1ul0YoFV+DFVKpV4PD4wMDA5OanValtbW1UqVSAQGB8fp0jlxo0bZ86caW1tDQQC58+fLxQKRqORYRha5uJf//rX/Py81WrNZDJff/11f39/X1/f9PT0Z599ZjAYtFptOByuVCoej6dYLG5ubmaz2f7+/v7+/kgkcv78+UwmYzKZQqFQMpmsr6/nOC6fzy8tLbW2tr755ptms3lmZub8+fPUQXLz5s2+vr6TJ08ODQ0NDg76fD6VSrW2tnb16tWXX3750KFDkUjk0qVLExMTer1epVJNTExQ2k0qlRofHx8ZGaEeo5GRkRMnTnR3d8/MzFy4cKFQKFgslng8PjEx4XQ6pY8lk8msrKxsbW1VKpW5uTme5xOJxJUrV0KhkCiKqVRKrVYfO3asp6eHPgp6VTQaHRkZcTgcy8vLxWLxV7/61d69e6enpz/44IPf/va3Npvtr3/9K8/z9fX1iUQiGAw2NTVxHJdKpcLh8Ojo6LvvvqvX65/kLwQ8ZgiG4Kmxq987mUxSTw91xdNDHvWrV+8vhURSYET3ynw+f/Pmzbm5uddff72+vp5SsKPRKHX49/X1NTQ05PN5hUIhiiL1kyMYgh8TdWZsbm4ePHjwwIED6+vrw8PDXq93//796+vrX3755dDQUC6Xu3TpUrlcPnv2bENDQ7lc5jjuypUr169ff+ONN/bv359KpT766KNz585ZLJZkMrm+vt7c3PzCCy8EAoE///nPqVTqvffek8vl586du3Xrlt/vLxQK6+vroigePXo0l8v98Y9/HB0d/fWvf93e3n7x4sWrV6/29PTk8/kLFy7I5fJf/OIXHMd9/PHHly5dam9v39jYmJ6ePnTo0PHjx1dXV//2t78NDg42NjbevXv3zp07fX19R44cSafTyWQyGo2Wy+XZ2dnBwUGHw9Hb25vP5z/++OPBwUGlUnnu3LlSqfTWW285nc779+8PDw9LV7FMJjObzX19ff/85z/r6up+9rOflUqly5cvLy4unjp1as+ePWtra1988cVXX31lNpvb29vpcqYJZQ6H49SpUxsbGx988MGNGzd8Pl8ymVxZWaGpbcFgUKfTvf3224IgfPjhh5999tl777330ksvjYyM/POf/5yYmOjt7cUd4BmGYAieMtS7LpPJTCaT1WoNh8OpVEoQhEQiEYvFVCqV9DjIsizHcTTXjOaO5XI5SmWw2WyvvPJKa2vrX/7yl2+++ebVV181m806ne7NN9/U6XTMg6Jw9+7dk2Ig3Afhx6dQKLxe74EDBywWy/Xr15eXl6lzdGdnJ5vN0vSomZmZd955p7OzU6vVMgyTSCRmZ2edTudzzz1nMpnMZvPhw4eHh4fn5+cp+62jo8Pr9TIM4/V6BUFobm4ul8sGg2F+fj4ej2s0Gq1W6/f7Gxsbd3Z2TCaTVqv1+Xwul6utrW1gYCASiRQKhbGxsZaWFuqmKpVK6XR6dXW1XC6Lorh37163261UKj0eTzQaDYfD8/Pzcrn8wIEDHo8nn8+3t7cvLi4Wi8VAIBAMBlmWHRsbq1Qq6XQ6Ho/Pzs4uLS2dPXtWWlJj7969W1tb9IHQRa3T6dRqNc/zRqMxEAhMT087HI59+/ZZrVadThcIBK5du7a8vNzS0kIjZTKZzG63d3Z2ejweo9EoiuLy8nI6naasIGpZJpO1tbU1NzezLOv3+7/66iufz9fQ0JDJZK5evbqxsVEsFjmO43m+epEQeGYgGIKniVKp1Ol0NIZlt9v37NkzNjZ2584dh8OxsLCwsrLi8/lMJhPdAZVKpdVqLRaL09PToijOzMySiUCGAAAJgUlEQVQkk0mZTFYsFsPhcCaTUSqVZrOZZVm1Wt3e3n79+vWpqamGhgaZTMZxnMVikdaAfNLvG2qUXC7neZ6Wc8/lctlsdnt7e3Nzk2GY5uZml8sVDodZlqX0F/pFpWITOp2OBnZlMhm1QLnD0igzRRVSbjXLsjQvgXnwJEA/knKNWZaleVvFYjGVSqXT6XQ6TWei1+uPHTtmsVhoZ2pWLpfTCVAJDJ7n1Wq11A4dLpfL5XK5VCoVjUZZlqWLV6vVKhQKQRDoHUntSJdh9deVSiWbzaZSKZVKRbspFAqqyEo1NaSXKJVK6cRkMtnDlTLoqmcfoHF5aWG1YrGoUCgcDkc+n9fr9bgnPHsQDMFTg3qDTp48OTs7+80335w8efLo0aPJZHJoaIjn+Vwu5/V6T5w4QV07DMOoVKqurq5QKDQ7O7u1tSUIQkdHR1NTE8Mwk5OTMzMzqVSKZdmDBw+azeajR49ub2/fuHFjfHxcqVR6vd6jR49qtdqmpiaTyYR7Hzwp0oKpRqPR7XYfO3asu7ubZqRzHDc0NDQyMrK6urq9vU0ToFiWpZ6PjY0NlUpFs9BLpZLRaKxOAf6uYz3KFqPRWFdX193dfeLECZq5KUVUD7dJvSkrKyubm5t2uz2TySQSCRqAVqvVdru9r6+vp6dHo9FUKhWlUrm4uCiXy1dXV5PJpFwuj8fjkUjk4TpAlBRYLpe1Wq3ZbI7FYpubmxqNJpFIRCIRjuOMRuP3zron1VHRrm7g6i9YlrVarTRu/ijNwtMFwRA8NWQymV6vf+2112ZmZniep5vgG2+8sbKykk6n9Xq92+22Wq1SX45cLq+vr3/xxRfn5uYqlYrT6axUKhqNhrqOFApFJpNxuVxNTU1arZbn+ZdffjkQCEQiEY1GQ7NvHA7H2bNnbTbbI64bAPBfJHuwaLxMJlOpVH6/PxAIBAIBURRFUaTR3ra2ts7OztHRUVEUabqZxWLp6uqampr6+uuv9+/fn0wmh4eHW1tbW1pa5ufnqfODeTDexHGcFGwplUrqC6EeFPrzz3EcBVj0Ehqk83q9dAiHw2Gz2UqlkkajsVqtHMfR5Czp5JVKpSAITU1N9ABDvVaLi4sMw/A873a7l5aWVlZWTCaTyWQql8sWi8Vms7W0tExOTt68edPlcs3Nza2vr0sJ1ESpVFoslp2dncXFRb1e39XVdf369atXr3Z2doZCoeXlZZrgJvWWyeVy6o5iHvQA0bumhX3ozVLXEbVP23e963w+Pz8/v7i4yPO8wWDAPeEZI//DH/7wpM8B4FHRU6/X63W5XBqNRqFQ6HQ6p9PZ0NDgcrko05mperyTy+WiKNLUYovFYrFYaD4LRU4+n89ut0u991qt1m63NzY2er1ei8XCcRzdcwVBQNrQ45PP569fv07/HY/4KF8LKpVKoVBIp9NGo7GxsVEQBFEUNRpNNBpdXV3d2NhIp9MGg8HhcNjt9mQySTPk4/G4Xq9vaWlRq9WhUCgSiYTDYZPJdPr0abfbTTlzfr/fZDIVi8WdnZ26ujpKrEkmk4IgtLW1USdrfX091SdMJBIWi6WtrU0QhEwmk8lk/H6/z+dzOByxWCwUCoXD4Wg0KpPJnE7nzs4Ox3H79+/X6/U0miaKYkdHR11dnUKh2NzcpCI9Op2uvr6+ra2tpaXFaDTG4/HV1dVwOByPx3U6Hb2jdDodDodjsRjLsh6Px+l0dnV1URUM5sEC9el0ulQq1dXVud1ulmUjkcjGxkYikfB6vceOHXO73fTrVC6XU6mUQqFoamoym82VSiUWi1mtViq+ms/ne3p6dDrd1tZWS0sL5QxRlmFPT4/FYsnn8+l02uPx2Gy2hYWFYDDY0NCAB6Rnjwz1EuApgqqvz5hKpZJMJt9///3Dhw+/8MILNOYCzINgKJlMMgwjiiJ1WuTz+a2tLZpVLoqi0WhUq9X0GcZisZ2dHUEQTCaTIAiFQiEWiyUSCY7jzGazKIoymSyTydA+arW6WCzSyBrNGN/e3s7n8zqdTiaTpVIppVKp1Wppen+lUtHr9RzHZTKZ7e1tnucFQaCXRKPRnZ0dysvW6XSpVGpnZ8dsNqtUKjr5crms0+nkcnk2m6Uz1Gq1Go2mXC5rNBqe50ulErVTKBREUTSZTDzP0yqE0Wi0WCxarVaWZQuFgslkoh4dGh2jTCPaQavV5nK5ra2tdDqtUqnoE6iu95hKpbLZrHTora0tyhnP5/OJRMJoNLIsG4vFNBoNfRo7OzuJRMJkMqnVatpHqVTyPL+9vU1J5dIDEjwzEAwBwBODYOjfqC6UJZWQliZAVc9zlLbTOJdUVILmXZKHM2O+tYqgtOe/36f6ZKSDPrxDdZtSCeldGTlSoeeHT17aWP0hSIcmuzbSbruSrB+9XuJ3vdOHd0Mw9IxBpzQAwE/Rw39xaQslSlf/iKKNXWtQ0J67Xv5d3/6nX0vfSok4j9L+t/bsVkd10j67Nn7XS3Y1+O/b/9Z38a3+zRuBZxWCIQCAp8y3/sn/T1/ymM7kB+z8rcEKohb4MSEFDAAAAGoagiEAAACoaQiGAAAAoKYhGAIAAICahmAIAJ4kuVzudDqpws2TPhcAqFGoMwQAT1KxWFxeXtbr9VT77kmfDgDUIgRDAAAAUNPwHAYAAAA1DcEQAAAA1DQEQwAAAFDTEAwBAABATUMwBAAAADUNwRAAAADUNARDAAAAUNMQDAEAAEBNQzAEAAAANQ3BEAAAANQ0BEMAAABQ0xAMAQAAQE1DMAQAAAA1DcEQAAAA1DQEQwAAAFDTEAwBAABATUMwBAAAADUNwRAAAADUNARDAAAAUNMQDAEAAEBNQzAEAAAANQ3BEAAAANQ0BEMAAABQ0xAMAQAAQE1DMAQAAAA1DcEQAAAA1DQEQwAAAFDTEAwBAABATUMwBAAAADUNwRAAAADUNARDAAAAUNMQDAEAAEBNQzAEAAAANQ3BEAAAANQ0BEMAAABQ0xAMAQAAQE1DMAQAAAA1DcEQAAAA1DQEQwAAAFDTEAwBAABATUMwBAAAADUNwRAAAADUNARDAAAAUNMQDAEAAEBNQzAEAAAANQ3BEAAAANQ0BEMAAABQ0xAMAQAAQE1DMAQAAAA1DcEQAAAA1DQEQwAAAFDTEAwBAABATUMwBAAAADUNwRAAAADUNARDAAAAUNMQDAEAAEBNQzAEAAAANQ3BEAAAANQ0BEMAAABQ0xAMAQAAQE1DMAQAAAA1DcEQAAAA1LT/Be8JQyVlNvm6AAAAAElFTkSuQmCC)"
      ],
      "metadata": {
        "id": "DzQSAjKGeLQ0"
      }
    },
    {
      "cell_type": "code",
      "source": [
        "df = pd.DataFrame(dataset['title'].value_counts())\n",
        "df['total_ratings'] = df['title']\n",
        "df['title'] = df.index\n",
        "df.reset_index(level=0, inplace=True)\n",
        "df = df.drop('index',axis=1)\n",
        "\n",
        "df = dataset.merge(df, left_on = 'title', right_on = 'title', how = 'left')\n",
        "df = df.drop(['year','publisher','age','City','State','Country'], axis=1)\n",
        "\n",
        "popularity_threshold = 50\n",
        "popular_book = df[df['total_ratings'] >= popularity_threshold]\n",
        "popular_book = popular_book.reset_index(drop = True)"
      ],
      "metadata": {
        "id": "vOYGeSDHXxXc"
      },
      "execution_count": null,
      "outputs": []
    },
    {
      "cell_type": "markdown",
      "source": [
        "###**User - Item Collaborative Filtering**"
      ],
      "metadata": {
        "id": "YGUPmaAYlPaE"
      }
    },
    {
      "cell_type": "markdown",
      "source": [
        "Collaborative Filtering Recommendation System works by considering user ratings and finds cosine similarities in ratings by several users to recommend books. To implement this, we took only those books' data that have at least 50 ratings in all."
      ],
      "metadata": {
        "id": "6LOMcwqelWHP"
      }
    },
    {
      "cell_type": "code",
      "source": [
        "testdf = pd.DataFrame()\n",
        "testdf['ISBN'] = popular_book['ISBN']\n",
        "testdf['rating'] = popular_book['rating']\n",
        "testdf['user_id'] = popular_book['user_id']\n",
        "testdf = testdf[['user_id','rating']].groupby(testdf['ISBN'])"
      ],
      "metadata": {
        "id": "g9_jETWkXxT-"
      },
      "execution_count": null,
      "outputs": []
    },
    {
      "cell_type": "code",
      "source": [
        "from sklearn.feature_extraction import DictVectorizer\n",
        "from sklearn.metrics.pairwise import cosine_similarity\n",
        "\n",
        "listOfDictionaries = []\n",
        "indexMap = {}\n",
        "reverseIndexMap = {}\n",
        "ptr = 0\n",
        "\n",
        "for groupKey in testdf.groups.keys():\n",
        "    tempDict = {}\n",
        "    groupDF = testdf.get_group(groupKey)\n",
        "    for i in range(0, len(groupDF)):\n",
        "        tempDict[groupDF.iloc[i, 0]] = groupDF.iloc[i, 1]\n",
        "    indexMap[ptr] = groupKey\n",
        "    reverseIndexMap[groupKey] = ptr\n",
        "    ptr = ptr + 1\n",
        "    listOfDictionaries.append(tempDict)\n",
        "\n",
        "# Create a DictVectorizer and transform the list of dictionaries into a sparse matrix\n",
        "dictVectorizer = DictVectorizer(sparse=True)\n",
        "vector = dictVectorizer.fit_transform(listOfDictionaries)\n",
        "\n",
        "# Compute pairwise cosine similarity\n",
        "pairwiseSimilarity = cosine_similarity(vector)\n"
      ],
      "metadata": {
        "id": "hzALFwZdm7Zl"
      },
      "execution_count": null,
      "outputs": []
    },
    {
      "cell_type": "code",
      "source": [
        "def printBookDetails(bookID):\n",
        "    print(df[df['ISBN'] == bookID]['title'].values[0])\n",
        "\n",
        "def getTopRecommandations(bookID, number=5):\n",
        "    row = reverseIndexMap.get(bookID, -1)\n",
        "    if row == -1:\n",
        "        print(\"Book not found in the dataset.\")\n",
        "        return []\n",
        "\n",
        "    print(\"Input Book:\")\n",
        "    printBookDetails(bookID)\n",
        "\n",
        "    print(\"\\nRECOMMENDATIONS:\\n\")\n",
        "\n",
        "    similar_indices = np.argsort(pairwiseSimilarity[row])[::-1]\n",
        "\n",
        "    collaborative = []\n",
        "    for i in similar_indices:\n",
        "        if i != row:\n",
        "            book_title = df[df['ISBN'] == indexMap[i]]['title'].values[0]\n",
        "            if book_title not in collaborative:\n",
        "                collaborative.append(book_title)\n",
        "                printBookDetails(indexMap[i])\n",
        "                if len(collaborative) >= number:\n",
        "                    break\n",
        "\n",
        "    return collaborative\n"
      ],
      "metadata": {
        "id": "Zfb-2rEjm7VU"
      },
      "execution_count": null,
      "outputs": []
    },
    {
      "cell_type": "code",
      "source": [
        "k = list(df['title'])\n",
        "m = list(df['ISBN'])\n",
        "\n",
        "collaborative = getTopRecommandations(m[k.index('To Kill a Mockingbird')])\n",
        "\n",
        "# Create a DataFrame with a specified column name\n",
        "recommended_books = pd.DataFrame({'Recommended Books': collaborative})\n",
        "\n",
        "# Print the DataFrame\n",
        "print(\"\\nRecommended Books:\\n\")\n",
        "print(recommended_books)\n"
      ],
      "metadata": {
        "id": "YRldz5oNnM_Z"
      },
      "execution_count": null,
      "outputs": []
    },
    {
      "cell_type": "markdown",
      "source": [
        "###**3 Correlation Based**\n",
        "\n",
        "For this model, we have created the correlation matrix considering only those books which have total ratings of more than 50. Then a user-book rating matrix is created. For the input book using the correlation matrix, top books are recommended."
      ],
      "metadata": {
        "id": "7WPit3CNnnJx"
      }
    },
    {
      "cell_type": "code",
      "source": [
        "popularity_threshold = 50\n",
        "\n",
        "# Filter users with ratings meeting the popularity threshold\n",
        "user_count = dataset['user_id'].value_counts()\n",
        "data = dataset[dataset['user_id'].isin(user_count[user_count >= popularity_threshold].index)]\n",
        "\n",
        "# Filter books with ratings meeting the popularity threshold\n",
        "rat_count = data['rating'].value_counts()\n",
        "data = data[data['rating'].isin(rat_count[rat_count >= popularity_threshold].index)]\n",
        "\n",
        "# Create the user-item rating matrix with pivot_table\n",
        "matrix = data.pivot_table(index='user_id', columns='ISBN', values='rating', fill_value=0)\n"
      ],
      "metadata": {
        "id": "D2-7hwpons7P"
      },
      "execution_count": null,
      "outputs": []
    },
    {
      "cell_type": "code",
      "source": [
        "average_rating = pd.DataFrame(dataset.groupby('ISBN')['rating'].mean())\n",
        "average_rating['ratingCount'] = pd.DataFrame(new_ratings.groupby('ISBN')['rating'].count())\n",
        "average_rating.sort_values('ratingCount', ascending=False).head()"
      ],
      "metadata": {
        "id": "63U_3I0XoLfo"
      },
      "execution_count": null,
      "outputs": []
    },
    {
      "cell_type": "code",
      "source": [
        "isbn = books.loc[books['title'] == 'Lord of the Flies'].reset_index(drop = True).iloc[0]['ISBN']\n",
        "row = matrix[isbn]\n",
        "correlation = pd.DataFrame(matrix.corrwith(row), columns = ['Pearson Corr'])\n",
        "corr = correlation.join(average_rating['ratingCount'])\n",
        "\n",
        "res = corr.sort_values('Pearson Corr', ascending=False).head(5+1)[1:].index\n",
        "corr_books = pd.merge(pd.DataFrame(res, columns = ['ISBN']), books, on='ISBN')\n",
        "print(\"\\n Recommended Books: \\n\")\n",
        "corr_books"
      ],
      "metadata": {
        "id": "dsHXTRKbovT4"
      },
      "execution_count": null,
      "outputs": []
    },
    {
      "cell_type": "markdown",
      "source": [
        "###**4 Nearest Neighbours Based**"
      ],
      "metadata": {
        "id": "PxV8wKCxnDi2"
      }
    },
    {
      "cell_type": "markdown",
      "source": [
        "kNN(k-Nearest Neighbors) as an algorithm seems to be inspired from real life. The full k-nearest neighbors algorithm works much in the way some of us ask for recommendations from our friends. First, we start with people whose taste we feel we share, and then we ask a bunch of them to recommend something to us. If many of them recommend the same thing, we deduce that we’ll like it as well. Our behaviour is guided by the friends we grew up with.kNN is a machine learning algorithm to find clusters of similar users based on common book ratings, and make predictions using the average rating of top-k nearest neighbors.\n",
        "\n",
        "Here we assume that users who given ratings more than 200 are users who read atleast 20 books(suppose on user given rating 10/10 so minimum he read books(200 ratings/10 ratings per book=20).For statisfical significance we should consider only the data of user who given more than 200 ratings.\n",
        "To ensure statistical significance, users with less than 200 ratings, and books with less than 100 ratings are excluded."
      ],
      "metadata": {
        "id": "UOtaR4_xpLfn"
      }
    },
    {
      "cell_type": "code",
      "source": [
        "data = (dataset.groupby(by = ['title'])['rating'].count().reset_index().\n",
        "        rename(columns = {'rating': 'total_rating'})[['title', 'total_rating']])\n",
        "\n",
        "result = pd.merge(data, dataset, on='title', left_index = False)\n",
        "result = result[result['total_rating'] >= popularity_threshold]\n",
        "result = result.reset_index(drop = True)\n",
        "\n",
        "matrix = result.pivot_table(index = 'title', columns = 'user_id', values = 'rating').fillna(0)\n",
        "up_matrix = csr_matrix(matrix)"
      ],
      "metadata": {
        "id": "rGyiHpbVovCr"
      },
      "execution_count": null,
      "outputs": []
    },
    {
      "cell_type": "code",
      "source": [
        "bookName = 'Harry Potter and the Chamber of Secrets (Book 2)'\n",
        "bookName = bookName.strip()  # Remove leading and trailing white spaces"
      ],
      "metadata": {
        "id": "_9KU5bYXqeUH"
      },
      "execution_count": null,
      "outputs": []
    },
    {
      "cell_type": "code",
      "source": [
        "model = NearestNeighbors(metric = 'cosine', algorithm = 'brute')\n",
        "model.fit(up_matrix)\n",
        "\n",
        "distances, indices = model.kneighbors(matrix.loc[bookName].values.reshape(1, -1), n_neighbors = number+1)\n",
        "print(\"\\nRecommended books:\\n\")\n",
        "for i in range(0, len(distances.flatten())):\n",
        "    if i > 0:\n",
        "        print(matrix.index[indices.flatten()[i]])"
      ],
      "metadata": {
        "id": "dMYOpY8Mouur"
      },
      "execution_count": null,
      "outputs": []
    },
    {
      "cell_type": "markdown",
      "source": [
        "###**5.Content Based**"
      ],
      "metadata": {
        "id": "LEgS1ZgZyNS-"
      }
    },
    {
      "cell_type": "markdown",
      "source": [
        "This system recommends books by calculating similarities in Book Titles. For this, TF-IDF feature vectors were created for unigrams and bigrams of Book-Titles; only those books' data has been considered which are having at least 80 ratings."
      ],
      "metadata": {
        "id": "0qKA27uZyQbU"
      }
    },
    {
      "cell_type": "code",
      "source": [
        "#seting thershold as 80\n",
        "popularity_threshold = 80\n",
        "# sort the result based on thershgold value\n",
        "popular_book = result[result['total_rating'] >= popularity_threshold]\n",
        "popular_book = popular_book.reset_index(drop = True)\n",
        "#print the shape of popular books\n",
        "popular_book.shape"
      ],
      "metadata": {
        "id": "q2fHdQHdyTCy"
      },
      "execution_count": null,
      "outputs": []
    },
    {
      "cell_type": "code",
      "source": [
        "#using TF vectorizer function\n",
        "tf = TfidfVectorizer(ngram_range=(1, 2), min_df = 1, stop_words='english')\n",
        "#fit the Tf vectoriser model\n",
        "tfidf_matrix = tf.fit_transform(popular_book['title'])\n",
        "tfidf_matrix.shape"
      ],
      "metadata": {
        "id": "4QKTkDnZyS9e"
      },
      "execution_count": null,
      "outputs": []
    },
    {
      "cell_type": "code",
      "source": [
        "# normalising the df\n",
        "normalized_df = tfidf_matrix.astype(np.float32)\n",
        "#checking for cosine similarity\n",
        "cosine_similarities = cosine_similarity(normalized_df, normalized_df)\n",
        "#checking the shape\n",
        "cosine_similarities.shape"
      ],
      "metadata": {
        "id": "A-FoRajnyS5m"
      },
      "execution_count": null,
      "outputs": []
    },
    {
      "cell_type": "code",
      "source": [
        "print(\"Recommended Books:\\n\")\n",
        "isbn = books.loc[books['title'] == bookName].reset_index(drop = True).iloc[0]['ISBN']\n",
        "content = []\n",
        "\n",
        "idx = popular_book.index[popular_book['ISBN'] == isbn].tolist()[0]\n",
        "similar_indices = cosine_similarities[idx].argsort()[::-1]\n",
        "similar_items = []\n",
        "for i in similar_indices:\n",
        "    if popular_book['title'][i] != bookName and popular_book['title'][i] not in similar_items and len(similar_items) < number:\n",
        "        similar_items.append(popular_book['title'][i])\n",
        "        content.append(popular_book['title'][i])\n",
        "\n",
        "for book in similar_items:\n",
        "    print(book)"
      ],
      "metadata": {
        "id": "dwhm5nlPyltl"
      },
      "execution_count": null,
      "outputs": []
    },
    {
      "cell_type": "markdown",
      "source": [
        "# **Conclusion**"
      ],
      "metadata": {
        "id": "gCX9965dhzqZ"
      }
    },
    {
      "cell_type": "markdown",
      "source": [
        "In conclusion, this project aimed to create a book recommendation system using unsupervised learning techniques.\n",
        "\n",
        "Recommender systems are algorithms aimed at suggesting relevant items to users. They are critical in some industries as they can generate a huge amount of income when they are efficient or also be a way to stand out significantly from competitors.\n",
        "\n",
        "The project involved exploring and analyzing the data, visualizing relationships between variables, and experimenting with different charts to gain insights. The data was pre-processed and cleaned to handle missing values and outliers. Several recommender systems were built, including popularity-based filtering, correlation-based recommendations, collaborative filtering using cosine similarity and k-nearest neighbors, and content based recommendations.\n",
        "\n",
        "Important insights from EDA include:\n",
        "- Top countries are USA and Canada.\n",
        "- There are twice as many books published in 2002 than in 1989.\n",
        "- The most rated book is Wild Animus with 2502 ratings.\n",
        "- The top author is Agatha Christie for most number of books\n",
        "- Top publisher is Harlequin.Most of books were published by Harlequin,Silhouette and pocket.\n",
        "- The most frequently assigned rating by users is 8.\n",
        "\n",
        "\n",
        "The different recommender systems built include:\n",
        "- Popularity-based filtering\n",
        "- Collaborative filtering using cosine similarity (User-Item)\n",
        "- Recommendations based on correlation\n",
        "- Collaborative filtering using k-nearest neighbors [kNN]\n",
        "- Content Based\n",
        "\n",
        "The project demonstrated the potential of these techniques to generate personalized book recommendations for users."
      ],
      "metadata": {
        "id": "Fjb1IsQkh3yE"
      }
    }
  ]
}